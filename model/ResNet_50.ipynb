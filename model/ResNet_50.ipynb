{
  "nbformat": 4,
  "nbformat_minor": 0,
  "metadata": {
    "colab": {
      "name": "ResNet-50.ipynb",
      "provenance": [],
      "collapsed_sections": [],
      "machine_shape": "hm"
    },
    "kernelspec": {
      "name": "python3",
      "display_name": "Python 3"
    },
    "accelerator": "GPU"
  },
  "cells": [
    {
      "cell_type": "code",
      "metadata": {
        "id": "XS2IOlH3aKZ6",
        "colab_type": "code",
        "colab": {}
      },
      "source": [
        "#!pip install --upgrade tensorflow-gpu==2.1.0rc0 tensorflow==2.1.0rc0"
      ],
      "execution_count": 0,
      "outputs": []
    },
    {
      "cell_type": "code",
      "metadata": {
        "id": "ugzzDhrzSrWe",
        "colab_type": "code",
        "colab": {
          "base_uri": "https://localhost:8080/",
          "height": 34
        },
        "outputId": "50e6129b-bde6-4481-a921-d5c1bc37753e"
      },
      "source": [
        " %tensorflow_version 2.x"
      ],
      "execution_count": 1,
      "outputs": [
        {
          "output_type": "stream",
          "text": [
            "TensorFlow 2.x selected.\n"
          ],
          "name": "stdout"
        }
      ]
    },
    {
      "cell_type": "code",
      "metadata": {
        "id": "aAiLPXWcfJFu",
        "colab_type": "code",
        "outputId": "0d987ea2-db5c-4beb-c308-30d16143554e",
        "colab": {
          "base_uri": "https://localhost:8080/",
          "height": 34
        }
      },
      "source": [
        "import tensorflow as tf\n",
        "import tensorflow.keras as keras\n",
        "import tensorflow.keras.layers as layers\n",
        "\n",
        "import cv2 as cv\n",
        "import numpy as np\n",
        "import matplotlib.pyplot as plt\n",
        "import pandas as pd\n",
        "\n",
        "import imgaug as ia\n",
        "from imgaug import augmenters as iaa\n",
        "\n",
        "from datetime import datetime\n",
        "\n",
        "import csv\n",
        "import os\n",
        "import re\n",
        "import math\n",
        "\n",
        "#tf.config.experimental_run_functions_eagerly(True)\n",
        "print(tf.__version__)"
      ],
      "execution_count": 2,
      "outputs": [
        {
          "output_type": "stream",
          "text": [
            "2.1.0-rc1\n"
          ],
          "name": "stdout"
        }
      ]
    },
    {
      "cell_type": "code",
      "metadata": {
        "id": "K8Dk7kXUkrYw",
        "colab_type": "code",
        "outputId": "5a1974b5-a5b3-49a9-d825-15e6913efcc7",
        "colab": {
          "base_uri": "https://localhost:8080/",
          "height": 34
        }
      },
      "source": [
        "# Mount the google drive folder with the data\n",
        "from google.colab import drive\n",
        "\n",
        "drive.mount('/content/drive')"
      ],
      "execution_count": 3,
      "outputs": [
        {
          "output_type": "stream",
          "text": [
            "Drive already mounted at /content/drive; to attempt to forcibly remount, call drive.mount(\"/content/drive\", force_remount=True).\n"
          ],
          "name": "stdout"
        }
      ]
    },
    {
      "cell_type": "code",
      "metadata": {
        "id": "hViNMvax20dt",
        "colab_type": "code",
        "colab": {}
      },
      "source": [
        "# Paths of the data\n",
        "DATASET_PATH    = '/content/drive/My Drive/retina_images/'\n",
        "CHECKPOINT_PATH = DATASET_PATH + '/checkpoints/'\n",
        "DATA_SRC_PATH   = DATASET_PATH + '/data/'\n",
        "\n",
        "TEMP_PATH       = '/content/'\n",
        "DATA_PATH       = TEMP_PATH + '/data/'"
      ],
      "execution_count": 0,
      "outputs": []
    },
    {
      "cell_type": "code",
      "metadata": {
        "id": "RGr0KIVHkvUl",
        "colab_type": "code",
        "colab": {}
      },
      "source": [
        "# unzip the .zip files to the local /content/data of the notebook\n",
        "!unzip -q -n -d '{DATA_PATH}' '{DATASET_PATH+\"/train_dst.zip\"}'\n",
        "!unzip -q -n -d '{DATA_PATH}' '{DATASET_PATH+\"/test_dst.zip\"}'"
      ],
      "execution_count": 0,
      "outputs": []
    },
    {
      "cell_type": "code",
      "metadata": {
        "id": "a_5aYvyLkvfA",
        "colab_type": "code",
        "outputId": "bfbed0c5-c98e-45ef-c13f-4278599c30ea",
        "colab": {
          "base_uri": "https://localhost:8080/",
          "height": 357
        }
      },
      "source": [
        "!dir '{DATA_PATH}/train_dst' | head\n",
        "!dir '{DATA_PATH}/test_dst' | head"
      ],
      "execution_count": 5,
      "outputs": [
        {
          "output_type": "stream",
          "text": [
            "10003_left.jpeg   19968_left.jpeg   30000_left.jpeg   39972_right.jpeg\n",
            "10003_right.jpeg  19968_right.jpeg  30000_right.jpeg  39975_left.jpeg\n",
            "10007_left.jpeg   19970_left.jpeg   30004_left.jpeg   39975_right.jpeg\n",
            "10007_right.jpeg  19970_right.jpeg  30004_right.jpeg  39978_left.jpeg\n",
            "10009_left.jpeg   19972_left.jpeg   3000_left.jpeg    39978_right.jpeg\n",
            "10009_right.jpeg  19972_right.jpeg  3000_right.jpeg   39981_left.jpeg\n",
            "1000_left.jpeg\t  19975_left.jpeg   30012_left.jpeg   39981_right.jpeg\n",
            "1000_right.jpeg   19975_right.jpeg  30012_right.jpeg  39982_left.jpeg\n",
            "10010_left.jpeg   19976_left.jpeg   30015_left.jpeg   39982_right.jpeg\n",
            "10010_right.jpeg  19976_right.jpeg  30015_right.jpeg  39983_left.jpeg\n",
            "10000_left.jpeg   19996_right.jpeg  29928_right.jpeg  39921_right.jpeg\n",
            "10000_right.jpeg  19997_left.jpeg   29930_left.jpeg   39922_left.jpeg\n",
            "10001_left.jpeg   19997_right.jpeg  29930_right.jpeg  39922_right.jpeg\n",
            "10001_right.jpeg  19998_left.jpeg   29931_left.jpeg   39923_left.jpeg\n",
            "10002_right.jpeg  19998_right.jpeg  29931_right.jpeg  39923_right.jpeg\n",
            "10004_left.jpeg   19999_left.jpeg   29932_left.jpeg   39925_left.jpeg\n",
            "10004_right.jpeg  19999_right.jpeg  29932_right.jpeg  39925_right.jpeg\n",
            "10005_left.jpeg   1_left.jpeg\t    29934_left.jpeg   39927_left.jpeg\n",
            "10005_right.jpeg  1_right.jpeg\t    29934_right.jpeg  39927_right.jpeg\n",
            "10006_left.jpeg   20000_left.jpeg   29936_left.jpeg   39928_left.jpeg\n"
          ],
          "name": "stdout"
        }
      ]
    },
    {
      "cell_type": "code",
      "metadata": {
        "id": "Sua7Dxkmcu2G",
        "colab_type": "code",
        "colab": {}
      },
      "source": [
        "#!apt-get install libimage-size-perl"
      ],
      "execution_count": 0,
      "outputs": []
    },
    {
      "cell_type": "code",
      "metadata": {
        "id": "upqEsJYlJdJW",
        "colab_type": "code",
        "colab": {}
      },
      "source": [
        "#!imgsize '/content/data/train_dst/10003_left.jpeg'"
      ],
      "execution_count": 0,
      "outputs": []
    },
    {
      "cell_type": "code",
      "metadata": {
        "id": "2vj4dDYfNo3v",
        "colab_type": "code",
        "outputId": "86fa74c1-7965-491c-a10f-5c8197030fca",
        "colab": {
          "base_uri": "https://localhost:8080/",
          "height": 68
        }
      },
      "source": [
        "!curl https://raw.githubusercontent.com/tensorflow/addons/5f9f36c03a5b132da4fe447dfa9df472ab7ea0df/tensorflow_addons/metrics/cohens_kappa.py -O"
      ],
      "execution_count": 6,
      "outputs": [
        {
          "output_type": "stream",
          "text": [
            "  % Total    % Received % Xferd  Average Speed   Time    Time     Time  Current\n",
            "                                 Dload  Upload   Total   Spent    Left  Speed\n",
            "\r  0     0    0     0    0     0      0      0 --:--:-- --:--:-- --:--:--     0\r  0     0    0     0    0     0      0      0 --:--:-- --:--:-- --:--:--     0\r100  7223  100  7223    0     0  16876      0 --:--:-- --:--:-- --:--:-- 16876\n"
          ],
          "name": "stdout"
        }
      ]
    },
    {
      "cell_type": "code",
      "metadata": {
        "id": "SOb8m4YyNp4o",
        "colab_type": "code",
        "outputId": "920662a5-3884-4e7b-8fb2-8783dc66f7d9",
        "colab": {
          "base_uri": "https://localhost:8080/",
          "height": 34
        }
      },
      "source": [
        "%%writefile cohens_kappa_fix.patch\n",
        "--- cohens_kappa.py\t2019-12-30 19:47:55.000745582 +0100\n",
        "+++ cohens_kappa_fix.py\t2019-12-30 19:50:25.117155527 +0100\n",
        "@@ -115,9 +115,10 @@\n",
        "         y_true = tf.cast(y_true, dtype=tf.int64)\n",
        "         y_pred = tf.cast(y_pred, dtype=tf.int64)\n",
        " \n",
        "-        if y_true.shape != y_pred.shape:\n",
        "-            raise ValueError(\n",
        "-                \"Number of samples in `y_true` and `y_pred` are different\")\n",
        "+        tf.debugging.assert_equal(\n",
        "+            tf.shape(y_true),\n",
        "+            tf.shape(y_pred),\n",
        "+            message=\"Number of samples in `y_true` and `y_pred` are different\")\n",
        " \n",
        "         # compute the new values of the confusion matrix\n",
        "         new_conf_mtx = tf.math.confusion_matrix("
      ],
      "execution_count": 7,
      "outputs": [
        {
          "output_type": "stream",
          "text": [
            "Overwriting cohens_kappa_fix.patch\n"
          ],
          "name": "stdout"
        }
      ]
    },
    {
      "cell_type": "code",
      "metadata": {
        "id": "IhzuI6vFOT6p",
        "colab_type": "code",
        "outputId": "5c4e4492-f002-440e-9f0a-b6de0a212eb0",
        "colab": {
          "base_uri": "https://localhost:8080/",
          "height": 34
        }
      },
      "source": [
        "!echo \"\" >> cohens_kappa_fix.patch\n",
        "!patch cohens_kappa.py < cohens_kappa_fix.patch"
      ],
      "execution_count": 8,
      "outputs": [
        {
          "output_type": "stream",
          "text": [
            "patching file cohens_kappa.py\n"
          ],
          "name": "stdout"
        }
      ]
    },
    {
      "cell_type": "code",
      "metadata": {
        "id": "IGcpmwYkOV5D",
        "colab_type": "code",
        "colab": {}
      },
      "source": [
        "%run -i cohens_kappa.py"
      ],
      "execution_count": 0,
      "outputs": []
    },
    {
      "cell_type": "markdown",
      "metadata": {
        "id": "fyCArTJB947T",
        "colab_type": "text"
      },
      "source": [
        "# ResNet-50 architecture\n",
        "### Identity Block"
      ]
    },
    {
      "cell_type": "code",
      "metadata": {
        "colab_type": "code",
        "id": "GZKt3pusexbj",
        "cellView": "code",
        "colab": {}
      },
      "source": [
        "# Build the identity block\n",
        "class IdentityBlock():\n",
        "  def __init__(self, kernel_size, filters, name, **kwargs):\n",
        "    '''\n",
        "      kernel_size: (tuple) size of the filter (kernel)\n",
        "      filters: number of filters (kernels)\n",
        "      name: base name for the block\n",
        "    '''\n",
        "\n",
        "    self.kernel_size = kernel_size\n",
        "    self.filters = filters\n",
        "    self.expansion = 4\n",
        "    self.name = name\n",
        "\n",
        "    self.__build()\n",
        "  \n",
        "  def __build(self):\n",
        "    base_name = 'conv'+str(self.name['layer'])+'_block'+str(self.name['inner'])+'_'\n",
        "\n",
        "    self.conv1 = layers.Conv2D(self.filters, (1, 1), name=base_name+'1_conv')\n",
        "    self.bn1 = layers.BatchNormalization(name=base_name+'1_bn')\n",
        "    self.relu1 = layers.Activation('relu', name='activation_'+str(self.name['activation']))\n",
        "\n",
        "    self.conv2 = layers.Conv2D(self.filters, self.kernel_size, padding='same', name=base_name+'2_conv')\n",
        "    self.bn2 = layers.BatchNormalization(name=base_name+'2_bn')\n",
        "    self.relu2 = layers.Activation('relu', name='activation_'+str(self.name['activation'] + 1))\n",
        "\n",
        "    self.conv3 = layers.Conv2D(self.filters*self.expansion, (1, 1), name=base_name+'3_conv')\n",
        "    self.bn3 = layers.BatchNormalization(name=base_name+'3_bn')\n",
        "    self.relu3 = layers.Activation('relu', name='activation_'+str(self.name['activation'] + 2))\n",
        "\n",
        "\n",
        "  def __call__(self, input_tensor):\n",
        "    x = self.conv1(input_tensor)\n",
        "    x = self.bn1(x)\n",
        "    x = self.relu1(x)\n",
        "\n",
        "    x = self.conv2(x)\n",
        "    x = self.bn2(x)\n",
        "    x = self.relu2(x)\n",
        "\n",
        "    x = self.conv3(x)\n",
        "    x = self.bn3(x)\n",
        "\n",
        "    x = layers.add([x, input_tensor], name=self.name['merge'])\n",
        "    return self.relu3(x)"
      ],
      "execution_count": 0,
      "outputs": []
    },
    {
      "cell_type": "markdown",
      "metadata": {
        "id": "-0axcqaS-AiH",
        "colab_type": "text"
      },
      "source": [
        "## Convolutional Block\n",
        "\n",
        "Expands the input depth through a 1x1 convolution to allow the addition with the output of the block"
      ]
    },
    {
      "cell_type": "code",
      "metadata": {
        "id": "5uOMc761uE5S",
        "colab_type": "code",
        "colab": {}
      },
      "source": [
        "# Build the conv block\n",
        "class ConvBlock():\n",
        "  def __init__(self, kernel_size, filters, name, strides=(2, 2), **kwargs):\n",
        "    '''\n",
        "      kernel_size: (tuple) size of the filter (kernel)\n",
        "      filters: number of filters (kernels)\n",
        "      name: base name for the block\n",
        "      strides: (tuple) with the size of the stride \n",
        "    '''\n",
        "\n",
        "    self.kernel_size = kernel_size\n",
        "    self.filters = filters\n",
        "    self.strides = strides\n",
        "    self.expansion = 4\n",
        "    self.name = name\n",
        "    self.__build()\n",
        "\n",
        "\n",
        "  def __build(self):\n",
        "    base_name = 'conv'+str(self.name['layer'])+'_block'+str(self.name['inner'])+'_'\n",
        "\n",
        "    self.conv1 = layers.Conv2D(self.filters, (1, 1), strides=self.strides, name=base_name+'1_conv')\n",
        "    self.bn1 = layers.BatchNormalization(name=base_name+'1_bn')\n",
        "    self.relu1 = layers.Activation('relu', name='activation_'+str(self.name['activation']))\n",
        "\n",
        "    self.conv2 = layers.Conv2D(self.filters, self.kernel_size, padding='same', name=base_name+'2_conv')\n",
        "    self.bn2 = layers.BatchNormalization(name=base_name+'2_bn')\n",
        "    self.relu2 = layers.Activation('relu', name='activation_'+str(self.name['activation'] + 1))\n",
        "\n",
        "    self.conv3 = layers.Conv2D(self.filters*self.expansion, (1, 1), name=base_name+'3_conv')\n",
        "    self.bn3 = layers.BatchNormalization(name=base_name+'3_bn')\n",
        "    self.relu3 = layers.Activation('relu', name='activation_'+str(self.name['activation'] + 2))\n",
        "\n",
        "    self.shortcut_conv = layers.Conv2D(self.filters*self.expansion, (1, 1), strides=self.strides, name=base_name+'0_conv')\n",
        "    self.shortcut_bn = layers.BatchNormalization(name=base_name+'0_bn')\n",
        "\n",
        "\n",
        "  def __call__(self, input_tensor):\n",
        "    x = self.conv1(input_tensor)\n",
        "    x = self.bn1(x)\n",
        "    x = self.relu1(x)\n",
        "\n",
        "    x = self.conv2(x)\n",
        "    x = self.bn2(x)\n",
        "    x = self.relu2(x)\n",
        "\n",
        "    x = self.conv3(x)\n",
        "    x = self.bn3(x)\n",
        "\n",
        "    shortcut = self.shortcut_conv(input_tensor)\n",
        "    shortcut = self.shortcut_bn(shortcut)\n",
        "\n",
        "    x = layers.add([x, shortcut], name=self.name['merge'])\n",
        "    return self.relu3(x)"
      ],
      "execution_count": 0,
      "outputs": []
    },
    {
      "cell_type": "markdown",
      "metadata": {
        "id": "r63sqVDZ-pnd",
        "colab_type": "text"
      },
      "source": [
        "## Build the full network"
      ]
    },
    {
      "cell_type": "code",
      "metadata": {
        "id": "6jrCyAEDmpE6",
        "colab_type": "code",
        "colab": {}
      },
      "source": [
        "# Build the ResNet\n",
        "class ResNet():\n",
        "  def __init__(self, classes=5):\n",
        "    '''\n",
        "      classes: number of output classes\n",
        "    '''\n",
        "    \n",
        "    self._layers = []\n",
        "    self.classes = classes\n",
        "    \n",
        "    # According to paper (ResNet-50)\n",
        "    self.n_layers = [3, 4, 6, 3]\n",
        "    self.filters = 64\n",
        "\n",
        "  def __build(self):\n",
        "    filters = [64, 128, 256, 512]\n",
        "    \n",
        "    # for naming purposes\n",
        "    merge = 1\n",
        "    activation = 2\n",
        "    \n",
        "    # head\n",
        "    self._layers.append(layers.ZeroPadding2D(padding=(3, 3), name='head_padding1'))\n",
        "    self._layers.append(layers.Conv2D(self.filters, (7, 7), strides=(2, 2), padding='valid', name='conv1_conv'))\n",
        "    self._layers.append(layers.BatchNormalization(name='conv1_bn'))\n",
        "    self._layers.append(layers.Activation('relu', name='activation_1'))\n",
        "    self._layers.append(layers.ZeroPadding2D(padding=(1, 1), name='head_padding2'))\n",
        "    self._layers.append(layers.MaxPooling2D((3, 3), strides=(2, 2), name='maxpooling'))\n",
        "\n",
        "    # blocks\n",
        "    for i, l in enumerate(self.n_layers):\n",
        "      for j in range(l):\n",
        "        name = {\n",
        "            'layer': i+2,\n",
        "            'inner': j+1,\n",
        "            'merge': 'merge_'+str(merge),\n",
        "            'activation': activation\n",
        "        }\n",
        "\n",
        "        if i == 0 and j == 0:\n",
        "          self._layers.append(ConvBlock((3, 3), filters[i], strides=(1, 1), name=name))\n",
        "        elif j == 0:\n",
        "          self._layers.append(ConvBlock((3, 3), filters[i], name=name))\n",
        "        else:\n",
        "          self._layers.append(IdentityBlock((3, 3), filters[i], name=name))\n",
        "        \n",
        "        merge += 1\n",
        "        activation +=3\n",
        "\n",
        "    self._layers.append(layers.GlobalAveragePooling2D(name='avg_pool'))\n",
        "    # self._layers.append(layers.Dense(self.classes, activation='softmax', name='fc'))\n",
        "\n",
        "  def __call__(self, input_tensor):\n",
        "    self.__build()\n",
        "\n",
        "    for i, _layer in enumerate(self._layers):\n",
        "      if i == 0:\n",
        "        x = _layer(input_tensor)\n",
        "      else:\n",
        "        x = _layer(x)\n",
        "\n",
        "    return keras.Model(input_tensor, x, name='resnet-50')"
      ],
      "execution_count": 0,
      "outputs": []
    },
    {
      "cell_type": "code",
      "metadata": {
        "id": "KQSeitc2IxS_",
        "colab_type": "code",
        "colab": {}
      },
      "source": [
        "# function to load the pretrained weights onto the custom model\n",
        "def transfer_weights(model):\n",
        "  '''\n",
        "    model: keras model to transfer the weights (must be resnet-50)\n",
        "  '''\n",
        "  trained = keras.applications.resnet.ResNet50(include_top=False, weights='imagenet', input_shape=model.input.shape, pooling='avg', classes=5)\n",
        "\n",
        "  for i, layer in enumerate(trained.layers):\n",
        "    if len(layer.weights) > 0 and layer.name is not 'probs':\n",
        "      weights = layer.get_weights()\n",
        "      model.get_layer(layer.name).set_weights(weights)\n",
        "  \n",
        "  model.save_weights('/content/drive/My Drive/retina_images/pretrained/resnet50_weights_imagenet_no_dense.h5', overwrite=True)"
      ],
      "execution_count": 0,
      "outputs": []
    },
    {
      "cell_type": "code",
      "metadata": {
        "id": "soxxxqmEsG1F",
        "colab_type": "code",
        "colab": {}
      },
      "source": [
        "# generates a model for regression\n",
        "def generate_model(model=None, classes=5, shape=(512, 512, 3)):\n",
        "  '''\n",
        "    model: keras model\n",
        "    classes: number of output classes\n",
        "    shape: tuple like shape of the input\n",
        "  '''\n",
        "  \n",
        "  input = keras.Input(shape=shape)\n",
        "  \n",
        "  if model is None:\n",
        "    model = ResNet(classes=classes)(input)\n",
        "\n",
        "  x = layers.Dense(1, activation='linear')(model.output)\n",
        "\n",
        "  return keras.Model(model.input, x)"
      ],
      "execution_count": 0,
      "outputs": []
    },
    {
      "cell_type": "code",
      "metadata": {
        "id": "JdK27mFYU05N",
        "colab_type": "code",
        "outputId": "d60515cf-2eff-40d1-93b4-22b6a4a5cb91",
        "colab": {
          "base_uri": "https://localhost:8080/",
          "height": 34
        }
      },
      "source": [
        "# Display model layers\n",
        "#model = ResNet(classes=5)(keras.Input(shape=(384, 384, 3)))\n",
        "# model = keras.applications.resnet.ResNet50(include_top=True, weights='imagenet', input_tensor=None, input_shape=None, pooling=None, classes=1000)\n",
        "#transfer_weights(model)\n",
        "#model.load_weights(f'{DATASET_PATH}pretrained/resnet50_weights_tf_dim_ordering_tf_kernels.h5')\n",
        "# model.summary()"
      ],
      "execution_count": 44,
      "outputs": [
        {
          "output_type": "stream",
          "text": [
            "(None, 384, 384, 3)\n"
          ],
          "name": "stdout"
        }
      ]
    },
    {
      "cell_type": "markdown",
      "metadata": {
        "id": "iCLtfuABAP2R",
        "colab_type": "text"
      },
      "source": [
        "## Data preparation"
      ]
    },
    {
      "cell_type": "code",
      "metadata": {
        "id": "uiOpJhxiMTpC",
        "colab_type": "code",
        "outputId": "c8bdf382-4fad-411a-84c7-4c6db01a024a",
        "colab": {
          "base_uri": "https://localhost:8080/",
          "height": 419
        }
      },
      "source": [
        "train_labels = pd.read_csv(f'{DATASET_PATH}train_labels.csv')\n",
        "test_labels = pd.read_csv(f'{DATASET_PATH}test_labels.csv')\n",
        "\n",
        "classes = [0, 1, 2, 3, 4]\n",
        "\n",
        "# Remove usage column\n",
        "test_labels = test_labels.drop('Usage', axis=1)\n",
        "\n",
        "train_labels['image'] = train_labels['image'].apply(lambda f: f'train_dst/{f}.jpeg')\n",
        "test_labels['image'] = test_labels['image'].apply(lambda f: f'test_dst/{f}.jpeg')\n",
        "\n",
        "data = pd.concat([train_labels, test_labels]).sample(frac=1, random_state=97309938)\n",
        "data = data.dropna()\n",
        "\n",
        "data"
      ],
      "execution_count": 15,
      "outputs": [
        {
          "output_type": "execute_result",
          "data": {
            "text/html": [
              "<div>\n",
              "<style scoped>\n",
              "    .dataframe tbody tr th:only-of-type {\n",
              "        vertical-align: middle;\n",
              "    }\n",
              "\n",
              "    .dataframe tbody tr th {\n",
              "        vertical-align: top;\n",
              "    }\n",
              "\n",
              "    .dataframe thead th {\n",
              "        text-align: right;\n",
              "    }\n",
              "</style>\n",
              "<table border=\"1\" class=\"dataframe\">\n",
              "  <thead>\n",
              "    <tr style=\"text-align: right;\">\n",
              "      <th></th>\n",
              "      <th>image</th>\n",
              "      <th>level</th>\n",
              "    </tr>\n",
              "  </thead>\n",
              "  <tbody>\n",
              "    <tr>\n",
              "      <th>18337</th>\n",
              "      <td>train_dst/23095_right.jpeg</td>\n",
              "      <td>3</td>\n",
              "    </tr>\n",
              "    <tr>\n",
              "      <th>13617</th>\n",
              "      <td>test_dst/11328_right.jpeg</td>\n",
              "      <td>2</td>\n",
              "    </tr>\n",
              "    <tr>\n",
              "      <th>15616</th>\n",
              "      <td>test_dst/12957_left.jpeg</td>\n",
              "      <td>0</td>\n",
              "    </tr>\n",
              "    <tr>\n",
              "      <th>32626</th>\n",
              "      <td>test_dst/27055_left.jpeg</td>\n",
              "      <td>0</td>\n",
              "    </tr>\n",
              "    <tr>\n",
              "      <th>9066</th>\n",
              "      <td>train_dst/11378_left.jpeg</td>\n",
              "      <td>0</td>\n",
              "    </tr>\n",
              "    <tr>\n",
              "      <th>...</th>\n",
              "      <td>...</td>\n",
              "      <td>...</td>\n",
              "    </tr>\n",
              "    <tr>\n",
              "      <th>42352</th>\n",
              "      <td>test_dst/35006_left.jpeg</td>\n",
              "      <td>0</td>\n",
              "    </tr>\n",
              "    <tr>\n",
              "      <th>31559</th>\n",
              "      <td>test_dst/26161_right.jpeg</td>\n",
              "      <td>0</td>\n",
              "    </tr>\n",
              "    <tr>\n",
              "      <th>35946</th>\n",
              "      <td>test_dst/29747_left.jpeg</td>\n",
              "      <td>0</td>\n",
              "    </tr>\n",
              "    <tr>\n",
              "      <th>10115</th>\n",
              "      <td>train_dst/12739_right.jpeg</td>\n",
              "      <td>2</td>\n",
              "    </tr>\n",
              "    <tr>\n",
              "      <th>30189</th>\n",
              "      <td>train_dst/38189_right.jpeg</td>\n",
              "      <td>1</td>\n",
              "    </tr>\n",
              "  </tbody>\n",
              "</table>\n",
              "<p>88702 rows × 2 columns</p>\n",
              "</div>"
            ],
            "text/plain": [
              "                            image  level\n",
              "18337  train_dst/23095_right.jpeg      3\n",
              "13617   test_dst/11328_right.jpeg      2\n",
              "15616    test_dst/12957_left.jpeg      0\n",
              "32626    test_dst/27055_left.jpeg      0\n",
              "9066    train_dst/11378_left.jpeg      0\n",
              "...                           ...    ...\n",
              "42352    test_dst/35006_left.jpeg      0\n",
              "31559   test_dst/26161_right.jpeg      0\n",
              "35946    test_dst/29747_left.jpeg      0\n",
              "10115  train_dst/12739_right.jpeg      2\n",
              "30189  train_dst/38189_right.jpeg      1\n",
              "\n",
              "[88702 rows x 2 columns]"
            ]
          },
          "metadata": {
            "tags": []
          },
          "execution_count": 15
        }
      ]
    },
    {
      "cell_type": "markdown",
      "metadata": {
        "id": "jipVpIqrA4z_",
        "colab_type": "text"
      },
      "source": [
        "### Visualization of the number of data per class"
      ]
    },
    {
      "cell_type": "code",
      "metadata": {
        "id": "FX8Zge4DgTna",
        "colab_type": "code",
        "outputId": "9e2ecaec-f932-4fc1-cd5f-64cc1de5068b",
        "colab": {
          "base_uri": "https://localhost:8080/",
          "height": 367
        }
      },
      "source": [
        "plt.hist(x=data['level'])\n",
        "plt.xticks(classes)"
      ],
      "execution_count": 16,
      "outputs": [
        {
          "output_type": "execute_result",
          "data": {
            "text/plain": [
              "([<matplotlib.axis.XTick at 0x7f3edda63b38>,\n",
              "  <matplotlib.axis.XTick at 0x7f3edda63eb8>,\n",
              "  <matplotlib.axis.XTick at 0x7f3edda63c88>,\n",
              "  <matplotlib.axis.XTick at 0x7f3edd7f0828>,\n",
              "  <matplotlib.axis.XTick at 0x7f3edd7f0dd8>],\n",
              " <a list of 5 Text xticklabel objects>)"
            ]
          },
          "metadata": {
            "tags": []
          },
          "execution_count": 16
        },
        {
          "output_type": "display_data",
          "data": {
            "image/png": "[encoded data removed]",
            "text/plain": [
              "<Figure size 432x288 with 1 Axes>"
            ]
          },
          "metadata": {
            "tags": []
          }
        }
      ]
    },
    {
      "cell_type": "markdown",
      "metadata": {
        "id": "UuIcYGcQp2Xx",
        "colab_type": "text"
      },
      "source": [
        "# Normal training split"
      ]
    },
    {
      "cell_type": "code",
      "metadata": {
        "id": "rqZgHRuegXE1",
        "colab_type": "code",
        "colab": {}
      },
      "source": [
        "split = int(len(data) * 0.15)\n",
        "test_df = data.iloc[:split].copy().reset_index(drop=True)\n",
        "train_df = data.iloc[split:].copy()\n",
        "\n",
        "train_c0 = train_df[train_df['level'] == 0]\n",
        "train_c0 = train_c0.iloc[:int(len(train_c0)*0.25)]\n",
        "train_cP = train_df[train_df['level'] > 0]\n",
        "\n",
        "train_df = pd.concat([train_c0, train_cP]).sample(frac=1, random_state=69859680).reset_index(drop=True) # concat & shuffle data\n"
      ],
      "execution_count": 0,
      "outputs": []
    },
    {
      "cell_type": "markdown",
      "metadata": {
        "id": "QaVoU9LFqBdo",
        "colab_type": "text"
      },
      "source": [
        "# High definition training split"
      ]
    },
    {
      "cell_type": "code",
      "metadata": {
        "id": "tT0mjOb5jv1t",
        "colab_type": "code",
        "colab": {}
      },
      "source": [
        "# newdata = None\n",
        "\n",
        "# for class_ in classes:\n",
        "#   values = data.where(data['level'] == class_).dropna() \n",
        "#   if class_ == 0:\n",
        "#     newdata = values.iloc[:int(len(values) * 0.05)]\n",
        "#   else:\n",
        "#     newdata = pd.concat([newdata, values.iloc[:int(len(values) * 0.2)]])\n",
        "\n",
        "# split = int(len(newdata) * 0.1)\n",
        "# test_df = newdata.iloc[:split].copy()\n",
        "# train_df = newdata.iloc[split:].copy()"
      ],
      "execution_count": 0,
      "outputs": []
    },
    {
      "cell_type": "markdown",
      "metadata": {
        "id": "ZMpd9WiHBHF-",
        "colab_type": "text"
      },
      "source": [
        "### New distribution for training"
      ]
    },
    {
      "cell_type": "code",
      "metadata": {
        "id": "Y0_CvXK7uKzK",
        "colab_type": "code",
        "outputId": "2797dacf-117d-419d-8cbc-6e86b45985d5",
        "colab": {
          "base_uri": "https://localhost:8080/",
          "height": 367
        }
      },
      "source": [
        "plt.hist(x=train_df['level'])\n",
        "plt.xticks(classes)"
      ],
      "execution_count": 18,
      "outputs": [
        {
          "output_type": "execute_result",
          "data": {
            "text/plain": [
              "([<matplotlib.axis.XTick at 0x7f3edd53db38>,\n",
              "  <matplotlib.axis.XTick at 0x7f3edd53d7f0>,\n",
              "  <matplotlib.axis.XTick at 0x7f3edd53d048>,\n",
              "  <matplotlib.axis.XTick at 0x7f3edcd8c630>,\n",
              "  <matplotlib.axis.XTick at 0x7f3edcd8cc18>],\n",
              " <a list of 5 Text xticklabel objects>)"
            ]
          },
          "metadata": {
            "tags": []
          },
          "execution_count": 18
        },
        {
          "output_type": "display_data",
          "data": {
            "image/png": "[encoded data removed]",
            "text/plain": [
              "<Figure size 432x288 with 1 Axes>"
            ]
          },
          "metadata": {
            "tags": []
          }
        }
      ]
    },
    {
      "cell_type": "code",
      "metadata": {
        "id": "B4xcvYH4LBbe",
        "colab_type": "code",
        "colab": {}
      },
      "source": [
        " aug_seq = iaa.Sequential([\n",
        "  iaa.Fliplr(0.5),\n",
        "  iaa.Flipud(0.5),\n",
        "  iaa.Sequential([\n",
        "    iaa.Affine(rotate=(0, 360)),\n",
        "    iaa.Sometimes(0.5, iaa.Crop(percent=(0.01, 0.1), sample_independently=False)), # crop image equally on both sides\n",
        "  ]),\n",
        "  iaa.Multiply((0.9, 1.5)),\n",
        "], random_order=True)"
      ],
      "execution_count": 0,
      "outputs": []
    },
    {
      "cell_type": "code",
      "metadata": {
        "id": "26SDWCTRvyn0",
        "colab_type": "code",
        "outputId": "c6ae5775-f8d0-4541-8fb5-27b5541043ad",
        "colab": {
          "base_uri": "https://localhost:8080/",
          "height": 119
        }
      },
      "source": [
        "BATCH_SIZE = 32\n",
        "IMG_SIZE = 384\n",
        " \n",
        "datagen = keras.preprocessing.image.ImageDataGenerator(\n",
        "    preprocessing_function=lambda img: np.clip(aug_seq.augment_image(img) / 255.0, 0, 1))\n",
        "\n",
        "train_generator = datagen.flow_from_dataframe(\n",
        "    dataframe=train_df,\n",
        "    x_col='image',\n",
        "    y_col='level',\n",
        "    class_mode='raw',\n",
        "    batch_size=BATCH_SIZE,\n",
        "    target_size=(IMG_SIZE, IMG_SIZE),\n",
        "    directory=DATA_PATH,\n",
        "    validate_filenames=True)\n",
        "\n",
        "validation_generator = datagen.flow_from_dataframe(\n",
        "    dataframe=test_df.iloc[:len(test_df)//3],\n",
        "    x_col='image',\n",
        "    y_col='level',\n",
        "    class_mode='raw',\n",
        "    batch_size=BATCH_SIZE,\n",
        "    target_size=(IMG_SIZE, IMG_SIZE),\n",
        "    directory=DATA_PATH,\n",
        "    validate_filenames=True)"
      ],
      "execution_count": 20,
      "outputs": [
        {
          "output_type": "stream",
          "text": [
            "Found 33624 validated image filenames.\n",
            "Found 4424 validated image filenames.\n"
          ],
          "name": "stdout"
        },
        {
          "output_type": "stream",
          "text": [
            "/tensorflow-2.1.0/python3.6/keras_preprocessing/image/dataframe_iterator.py:273: UserWarning: Found 76 invalid image filename(s) in x_col=\"image\". These filename(s) will be ignored.\n",
            "  .format(n_invalid, x_col)\n",
            "/tensorflow-2.1.0/python3.6/keras_preprocessing/image/dataframe_iterator.py:273: UserWarning: Found 11 invalid image filename(s) in x_col=\"image\". These filename(s) will be ignored.\n",
            "  .format(n_invalid, x_col)\n"
          ],
          "name": "stderr"
        }
      ]
    },
    {
      "cell_type": "code",
      "metadata": {
        "id": "27UfvRrSCVPo",
        "colab_type": "code",
        "colab": {}
      },
      "source": [
        "# vanilla imagenet weights\n",
        "imagenet_weights = f'{DATASET_PATH}pretrained/resnet50_weights_imagenet_no_dense.h5'\n",
        "# weights of first training\n",
        "diabetic_regression_weights = f'{DATASET_PATH}checkpoints/resnet50_dense_regression.h5'\n",
        "# weights of the last training with 384x384 images\n",
        "checkpoint_path = f'{DATASET_PATH}checkpoints/resnet50_dense_regression_checkpoint_384.h5'\n",
        "# weights of las training with 512x512 images\n",
        "checkpoint_high_path = f'{DATASET_PATH}checkpoints/resnet50_dense_regression_checkpoint_512.h5'\n",
        "# last checkpoint\n",
        "last_checkpoint = f'{DATASET_PATH}checkpoints/resnet50_dense_regression_last.h5'"
      ],
      "execution_count": 0,
      "outputs": []
    },
    {
      "cell_type": "markdown",
      "metadata": {
        "id": "Bq3NCI2n9ecv",
        "colab_type": "text"
      },
      "source": [
        "# Training for multi label classification"
      ]
    },
    {
      "cell_type": "code",
      "metadata": {
        "id": "k06gcSKFxiVl",
        "colab_type": "code",
        "colab": {}
      },
      "source": [
        "# model = ResNet(classes=5)(keras.Input(shape=(IMG_SIZE, IMG_SIZE, 3)))\n",
        "# model.load_weights(imagenet_weights)\n",
        "# model.compile(optimizer=keras.optimizers.Adam(learning_rate=0.001), loss=keras.losses.CategoricalCrossentropy(), metrics=[keras.metrics.CategoricalAccuracy()])\n",
        "# model.fit(train_generator,\n",
        "#           epochs=10,\n",
        "#           validation_data=validation_generator,\n",
        "#           max_queue_size=16,\n",
        "#           workers=4, use_multiprocessing=False)"
      ],
      "execution_count": 0,
      "outputs": []
    },
    {
      "cell_type": "markdown",
      "metadata": {
        "id": "0jz4mtFz9j9w",
        "colab_type": "text"
      },
      "source": [
        "# Training for regression"
      ]
    },
    {
      "cell_type": "code",
      "metadata": {
        "id": "4TZUMTkhsnIi",
        "colab_type": "code",
        "colab": {}
      },
      "source": [
        "class HistoryLogger(keras.callbacks.Callback):\n",
        "  def __init__(self, prefix):\n",
        "    super(HistoryLogger, self).__init__()\n",
        "\n",
        "    self.prefix = prefix\n",
        "    self.history = {}\n",
        "\n",
        "  def on_epoch_begin(self, epoch, logs={}):\n",
        "    self.history = {}\n",
        "\n",
        "  def on_epoch_end(self, epoch, logs={}):\n",
        "    df = pd.DataFrame.from_dict(self.history)\n",
        "    df.to_hdf(f'{DATASET_PATH}/history/{self.prefix}.hdf5', key=f'E{epoch}', mode='a')\n",
        "\n",
        "    hist = {}\n",
        "    for k, v in logs.items():\n",
        "      hist.setdefault(k, []).append(v)\n",
        "\n",
        "    df = pd.DataFrame.from_dict(hist)\n",
        "    df.to_hdf(f'{DATASET_PATH}/history/{self.prefix}.hdf5', key=f'VAL_E{epoch}', mode='a')\n",
        "\n",
        "  def on_batch_end(self, batch, logs={}):\n",
        "    for k, v in logs.items():\n",
        "      self.history.setdefault(k, []).append(v)\n",
        "\n",
        "\n",
        "def lr_schedule(epoch, alpha):\n",
        "  decay = (1 - (epoch / float(10))) ** 1\n",
        "  alpha = 0.00001 * decay\n",
        "\n",
        "  return float(alpha)\n",
        "\n",
        "class KappaMetric(CohenKappa):\n",
        "    def __init__(self):\n",
        "      super().__init__(num_classes=5, weightage='quadratic')\n",
        "\n",
        "    @staticmethod\n",
        "    def classify(x):\n",
        "      return tf.case(\n",
        "          [(tf.less(x, 0.5), lambda: 0.0),\n",
        "           (tf.less(x, 1.5), lambda: 1.0),\n",
        "           (tf.less(x, 2.5), lambda: 2.0),\n",
        "           (tf.less(x, 3.5), lambda: 3.0)],\n",
        "          default=lambda: 4.0, exclusive=False)\n",
        "\n",
        "    def update_state(self, y_true, y_pred, sample_weight=None):\n",
        "      t = tf.reshape(y_true, shape=[-1])\n",
        "      p = tf.map_fn(KappaMetric.classify, y_pred)\n",
        "      \n",
        "      super().update_state(t, p, sample_weight)\n",
        "\n",
        "# Callbacks\n",
        "checkpoint = keras.callbacks.ModelCheckpoint(f'{DATASET_PATH}checkpoints/resnet50_dense_regression_last.h5', verbose=1, save_best_only=True, save_weights_only=True)\n",
        "lr_callback = keras.callbacks.LearningRateScheduler(lr_schedule, verbose=1)\n",
        "hs_callback = HistoryLogger(f'from_imagenet_keras_history_full')\n",
        "\n",
        "model = ResNet(classes=5)(keras.Input(shape=(IMG_SIZE, IMG_SIZE, 3)))\n",
        "model = generate_model(model, 5, (IMG_SIZE, IMG_SIZE, 3))\n",
        "model.load_weights(last_checkpoint)"
      ],
      "execution_count": 0,
      "outputs": []
    },
    {
      "cell_type": "code",
      "metadata": {
        "id": "Bl8pUomNtJu6",
        "colab_type": "code",
        "colab": {
          "base_uri": "https://localhost:8080/",
          "height": 292
        },
        "outputId": "c61987a2-a74c-4175-b524-902d457ac5ac"
      },
      "source": [
        "model.compile(optimizer=keras.optimizers.Adam(learning_rate=0.00001), loss='mse', metrics=['mae', 'accuracy', KappaMetric()])\n",
        "model.fit(train_generator,\n",
        "          epochs=30,\n",
        "          initial_epoch=6,\n",
        "          validation_data=validation_generator,\n",
        "          callbacks=[checkpoint, hs_callback],\n",
        "          max_queue_size=16,\n",
        "          workers=4, use_multiprocessing=False)"
      ],
      "execution_count": 0,
      "outputs": [
        {
          "output_type": "stream",
          "text": [
            "WARNING:tensorflow:sample_weight modes were coerced from\n",
            "  ...\n",
            "    to  \n",
            "  ['...']\n",
            "WARNING:tensorflow:sample_weight modes were coerced from\n",
            "  ...\n",
            "    to  \n",
            "  ['...']\n",
            "Train for 1051 steps, validate for 139 steps\n",
            "Epoch 7/30\n",
            "1050/1051 [============================>.] - ETA: 0s - loss: 0.5886 - mae: 0.6149 - accuracy: 0.3106 - cohen_kappa: 0.6963\n",
            "Epoch 00007: val_loss improved from inf to 0.46463, saving model to /content/drive/My Drive/retina_images/checkpoints/resnet50_dense_regression_last.h5\n",
            "1051/1051 [==============================] - 613s 583ms/step - loss: 0.5884 - mae: 0.6147 - accuracy: 0.3107 - cohen_kappa: 0.6965 - val_loss: 0.4646 - val_mae: 0.5253 - val_accuracy: 0.5124 - val_cohen_kappa: 0.6655\n",
            "Epoch 8/30\n",
            " 879/1051 [========================>.....] - ETA: 1:26 - loss: 0.5644 - mae: 0.6006 - accuracy: 0.3191 - cohen_kappa: 0.7099"
          ],
          "name": "stdout"
        }
      ]
    },
    {
      "cell_type": "code",
      "metadata": {
        "id": "iXz6r6YAyR7M",
        "colab_type": "code",
        "colab": {
          "base_uri": "https://localhost:8080/",
          "height": 85
        },
        "outputId": "4e829509-b27d-49d6-ec40-cc2fcc48f8b7"
      },
      "source": [
        "test_generator = datagen.flow_from_dataframe(\n",
        "    dataframe=test_df,\n",
        "    x_col='image',\n",
        "    y_col='level',\n",
        "    class_mode='raw',\n",
        "    shuffle=False,\n",
        "    batch_size=BATCH_SIZE*2,\n",
        "    target_size=(IMG_SIZE, IMG_SIZE),\n",
        "    directory=DATA_PATH,\n",
        "    validate_filenames=True)\n",
        "\n",
        "def classify(x):\n",
        "  if x < 0.5:\n",
        "      return 0\n",
        "  elif x < 1.5:\n",
        "      return 1\n",
        "  elif x < 2.5:\n",
        "      return 2\n",
        "  elif x < 3.5:\n",
        "      return 3\n",
        "  return 4\n",
        "\n",
        "#model = create_model(img_size=300)\n",
        "#model.load_weights(fname)\n",
        "\n",
        "progbar = tf.keras.utils.Progbar(len(test_generator))\n",
        "\n",
        "y_predicted, y_true = [], []\n",
        "for i in range(len(test_generator)):\n",
        "  x, true_y = test_generator[i]\n",
        "  predictions = model.predict(x, workers=2)\n",
        "\n",
        "  del x\n",
        "\n",
        "  for j in range(len(predictions)):\n",
        "    y_predicted.append(int(classify(predictions[j])))\n",
        "    y_true.append(int(true_y[j]))\n",
        "  \n",
        "  progbar.update(i)\n",
        "\n",
        "# np.set_printoptions(precision=4, suppress=True)\n",
        "# print(confusion_matrix.astype(float) / confusion_matrix.sum(axis=1)[:, np.newaxis])"
      ],
      "execution_count": 29,
      "outputs": [
        {
          "output_type": "stream",
          "text": [
            "/tensorflow-2.1.0/python3.6/keras_preprocessing/image/dataframe_iterator.py:273: UserWarning: Found 29 invalid image filename(s) in x_col=\"image\". These filename(s) will be ignored.\n",
            "  .format(n_invalid, x_col)\n"
          ],
          "name": "stderr"
        },
        {
          "output_type": "stream",
          "text": [
            "Found 13276 validated image filenames.\n",
            "207/208 [============================>.] - ETA: 1s"
          ],
          "name": "stdout"
        }
      ]
    },
    {
      "cell_type": "code",
      "metadata": {
        "id": "HGjBp5vpxk9K",
        "colab_type": "code",
        "colab": {
          "base_uri": "https://localhost:8080/",
          "height": 551
        },
        "outputId": "b63348d9-2ca7-4f77-ee81-80d916c0c85e"
      },
      "source": [
        "confusion_matrix = np.zeros((5, 5))\n",
        "\n",
        "for i in range(len(y_predicted)):\n",
        "  confusion_matrix[y_true[i], y_predicted[i]] += 1\n",
        "\n",
        "fig, ax = plt.subplots(figsize=(9, 9))\n",
        "ax.imshow(confusion_matrix.astype(float) / confusion_matrix.sum(axis=1)[:, np.newaxis], cmap = plt.cm.Blues, vmax=1.0, vmin=0.0)\n",
        "ax.set_xlabel('predicted class')\n",
        "ax.set_ylabel('true class')\n",
        "fig.show()"
      ],
      "execution_count": 30,
      "outputs": [
        {
          "output_type": "display_data",
          "data": {
            "image/png": "[encoded data removed]",
            "text/plain": [
              "<Figure size 648x648 with 1 Axes>"
            ]
          },
          "metadata": {
            "tags": []
          }
        }
      ]
    },
    {
      "cell_type": "code",
      "metadata": {
        "id": "1phEw7I6GJja",
        "colab_type": "code",
        "colab": {
          "base_uri": "https://localhost:8080/",
          "height": 609
        },
        "outputId": "5b880250-7e2d-41ca-f5cd-159ea2f6081b"
      },
      "source": [
        "hist = pd.DataFrame({'cohen_kappa' : []})\n",
        "fig, ax = plt.subplots()\n",
        "for i in range(2):\n",
        "  #try:\n",
        "    key = f'E{i}'\n",
        "    history_df = pd.read_hdf(f'{DATASET_PATH}/history/copy_from_imagenet_history_full.hdf5', key=key)\n",
        "\n",
        "    #ax.plot(history_df['batch'], history_df['cohen_kappa'], label=key)\n",
        "    hist = pd.concat([hist, history_df], ignore_index=True)\n",
        "  #except:\n",
        "    #None\n",
        "\n",
        "#ax.plot(np.arange(hist.shape[0]), hist['cohen_kappa'], label='cohen_kappa')\n",
        "#ax.legend()\n",
        "#fig.show()\n",
        "print(hist['cohen_kappa'][40:20])"
      ],
      "execution_count": 43,
      "outputs": [
        {
          "output_type": "stream",
          "text": [
            "40     0.000000\n",
            "41     0.000000\n",
            "42     0.000000\n",
            "43     0.000000\n",
            "44     0.000000\n",
            "         ...   \n",
            "195    0.085766\n",
            "196    0.085875\n",
            "197    0.085783\n",
            "198    0.086498\n",
            "199    0.086462\n",
            "Name: cohen_kappa, Length: 160, dtype: float64\n"
          ],
          "name": "stdout"
        },
        {
          "output_type": "stream",
          "text": [
            "cohens_kappa.py:9: FutureWarning: Sorting because non-concatenation axis is not aligned. A future version\n",
            "of pandas will change to not sort by default.\n",
            "\n",
            "To accept the future behavior, pass 'sort=False'.\n",
            "\n",
            "To retain the current behavior and silence the warning, pass 'sort=True'.\n",
            "\n",
            "  # Unless required by applicable law or agreed to in writing, software\n"
          ],
          "name": "stderr"
        },
        {
          "output_type": "display_data",
          "data": {
            "image/png": "[encoded data removed]",
            "text/plain": [
              "<Figure size 432x288 with 1 Axes>"
            ]
          },
          "metadata": {
            "tags": []
          }
        }
      ]
    },
    {
      "cell_type": "markdown",
      "metadata": {
        "id": "5Uz9rGdm9rw3",
        "colab_type": "text"
      },
      "source": [
        "# Evaluation and prediction"
      ]
    },
    {
      "cell_type": "code",
      "metadata": {
        "id": "89SmUxvde0sf",
        "colab_type": "code",
        "colab": {}
      },
      "source": [
        "def classify(x):\n",
        "  if x <= 0.8:\n",
        "    return 0\n",
        "  elif x > 0.8 and x <= 1.6:\n",
        "    return 1\n",
        "  elif x > 1.6 and x <= 2.4:\n",
        "    return 2\n",
        "  elif x > 2.4 and x <= 3.2:\n",
        "    return 3\n",
        "  elif x > 3.2:\n",
        "    return 4"
      ],
      "execution_count": 0,
      "outputs": []
    },
    {
      "cell_type": "code",
      "metadata": {
        "id": "jSuLR4rxl07M",
        "colab_type": "code",
        "colab": {}
      },
      "source": [
        "def classify05(x):\n",
        "  if x < 0.5:\n",
        "      return 0\n",
        "  elif x < 1.5:\n",
        "      return 1\n",
        "  elif x < 2.5:\n",
        "      return 2\n",
        "  elif x < 3.5:\n",
        "      return 3\n",
        "  return 4"
      ],
      "execution_count": 0,
      "outputs": []
    },
    {
      "cell_type": "code",
      "metadata": {
        "id": "r_jdDDRaY0Nv",
        "colab_type": "code",
        "outputId": "4f2d7b48-10d9-4b7d-8f1d-681fc8a95c0b",
        "colab": {
          "base_uri": "https://localhost:8080/",
          "height": 85
        }
      },
      "source": [
        "datagen = keras.preprocessing.image.ImageDataGenerator(rescale=1./255)\n",
        "validation_generator = datagen.flow_from_dataframe(\n",
        "    dataframe=test_df,\n",
        "    x_col='image',\n",
        "    y_col='level',\n",
        "    class_mode='raw',\n",
        "    shuffle=False,\n",
        "    batch_size=BATCH_SIZE*2,\n",
        "    target_size=(IMG_SIZE, IMG_SIZE),\n",
        "    directory=DATA_PATH,\n",
        "    validate_filenames=True)\n",
        "\n",
        "predictions = []\n",
        "true_labels = []\n",
        "\n",
        "progress = keras.utils.Progbar(target=len(validation_generator))\n",
        "\n",
        "for i in range(len(validation_generator)):\n",
        "  x, true_y = validation_generator[i]\n",
        "  _predictions = model.predict(x)\n",
        "\n",
        "  del x\n",
        "\n",
        "  for j in range(len(_predictions)):\n",
        "    class_p = int(classify05(_predictions[j]))\n",
        "    class_t = int(true_y[j])\n",
        "    predictions.append(class_p)\n",
        "    true_labels.append(class_t)\n",
        "  \n",
        "  progress.update(i)"
      ],
      "execution_count": 0,
      "outputs": [
        {
          "output_type": "stream",
          "text": [
            "/tensorflow-2.1.0/python3.6/keras_preprocessing/image/dataframe_iterator.py:273: UserWarning: Found 29 invalid image filename(s) in x_col=\"image\". These filename(s) will be ignored.\n",
            "  .format(n_invalid, x_col)\n"
          ],
          "name": "stderr"
        },
        {
          "output_type": "stream",
          "text": [
            "Found 13276 validated image filenames.\n",
            "1659/1660 [============================>.] - ETA: 0s"
          ],
          "name": "stdout"
        }
      ]
    },
    {
      "cell_type": "code",
      "metadata": {
        "id": "QwJoNwrefzIJ",
        "colab_type": "code",
        "outputId": "06b2ce86-b520-4228-c54e-e50323278435",
        "colab": {
          "base_uri": "https://localhost:8080/",
          "height": 34
        }
      },
      "source": [
        "import sklearn.metrics\n",
        "\n",
        "sklearn.metrics.accuracy_score(true_labels, predictions)"
      ],
      "execution_count": 0,
      "outputs": [
        {
          "output_type": "execute_result",
          "data": {
            "text/plain": [
              "0.7019433564326605"
            ]
          },
          "metadata": {
            "tags": []
          },
          "execution_count": 42
        }
      ]
    }
  ]
}