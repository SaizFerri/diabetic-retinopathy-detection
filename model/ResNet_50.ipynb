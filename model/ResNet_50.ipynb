{
  "nbformat": 4,
  "nbformat_minor": 0,
  "metadata": {
    "colab": {
      "name": "ResNet-50.ipynb",
      "provenance": [],
      "collapsed_sections": [],
      "machine_shape": "hm"
    },
    "kernelspec": {
      "name": "python3",
      "display_name": "Python 3"
    },
    "accelerator": "GPU"
  },
  "cells": [
    {
      "cell_type": "code",
      "metadata": {
        "id": "XS2IOlH3aKZ6",
        "colab_type": "code",
        "colab": {}
      },
      "source": [
        "#!pip install --upgrade tensorflow-gpu==2.1.0rc0 tensorflow==2.1.0rc0"
      ],
      "execution_count": 0,
      "outputs": []
    },
    {
      "cell_type": "code",
      "metadata": {
        "id": "ugzzDhrzSrWe",
        "colab_type": "code",
        "colab": {
          "base_uri": "https://localhost:8080/",
          "height": 34
        },
        "outputId": "379ec108-5d8f-43ae-b0f8-8d3796b943c5"
      },
      "source": [
        " %tensorflow_version 2.x"
      ],
      "execution_count": 2,
      "outputs": [
        {
          "output_type": "stream",
          "text": [
            "TensorFlow 2.x selected.\n"
          ],
          "name": "stdout"
        }
      ]
    },
    {
      "cell_type": "code",
      "metadata": {
        "id": "aAiLPXWcfJFu",
        "colab_type": "code",
        "outputId": "aa4b38b5-cd16-4443-b9d7-0075c3b793ef",
        "colab": {
          "base_uri": "https://localhost:8080/",
          "height": 34
        }
      },
      "source": [
        "import tensorflow as tf\n",
        "import tensorflow.keras as keras\n",
        "import tensorflow.keras.layers as layers\n",
        "\n",
        "import cv2 as cv\n",
        "import numpy as np\n",
        "import matplotlib.pyplot as plt\n",
        "import pandas as pd\n",
        "\n",
        "import csv\n",
        "import os\n",
        "import re\n",
        "import math\n",
        "\n",
        "#tf.config.experimental_run_functions_eagerly(True)\n",
        "print(tf.__version__)"
      ],
      "execution_count": 3,
      "outputs": [
        {
          "output_type": "stream",
          "text": [
            "2.1.0-rc1\n"
          ],
          "name": "stdout"
        }
      ]
    },
    {
      "cell_type": "markdown",
      "metadata": {
        "id": "fyCArTJB947T",
        "colab_type": "text"
      },
      "source": [
        "# ResNet-50 architecture\n",
        "### Identity Block"
      ]
    },
    {
      "cell_type": "code",
      "metadata": {
        "colab_type": "code",
        "id": "GZKt3pusexbj",
        "cellView": "code",
        "colab": {}
      },
      "source": [
        "# Build the identity block\n",
        "class IdentityBlock():\n",
        "  def __init__(self, kernel_size, filters, name, **kwargs):\n",
        "    '''\n",
        "      kernel_size: (tuple) size of the filter (kernel)\n",
        "      filters: number of filters (kernels)\n",
        "      name: base name for the block\n",
        "    '''\n",
        "\n",
        "    self.kernel_size = kernel_size\n",
        "    self.filters = filters\n",
        "    self.expansion = 4\n",
        "    self.name = name\n",
        "\n",
        "    self.__build()\n",
        "  \n",
        "  def __build(self):\n",
        "    base_name = 'conv'+str(self.name['layer'])+'_block'+str(self.name['inner'])+'_'\n",
        "\n",
        "    self.conv1 = layers.Conv2D(self.filters, (1, 1), name=base_name+'1_conv')\n",
        "    self.bn1 = layers.BatchNormalization(name=base_name+'1_bn')\n",
        "    self.relu1 = layers.Activation('relu', name='activation_'+str(self.name['activation']))\n",
        "\n",
        "    self.conv2 = layers.Conv2D(self.filters, self.kernel_size, padding='same', name=base_name+'2_conv')\n",
        "    self.bn2 = layers.BatchNormalization(name=base_name+'2_bn')\n",
        "    self.relu2 = layers.Activation('relu', name='activation_'+str(self.name['activation'] + 1))\n",
        "\n",
        "    self.conv3 = layers.Conv2D(self.filters*self.expansion, (1, 1), name=base_name+'3_conv')\n",
        "    self.bn3 = layers.BatchNormalization(name=base_name+'3_bn')\n",
        "    self.relu3 = layers.Activation('relu', name='activation_'+str(self.name['activation'] + 2))\n",
        "\n",
        "\n",
        "  def __call__(self, input_tensor):\n",
        "    x = self.conv1(input_tensor)\n",
        "    x = self.bn1(x)\n",
        "    x = self.relu1(x)\n",
        "\n",
        "    x = self.conv2(x)\n",
        "    x = self.bn2(x)\n",
        "    x = self.relu2(x)\n",
        "\n",
        "    x = self.conv3(x)\n",
        "    x = self.bn3(x)\n",
        "\n",
        "    x = layers.add([x, input_tensor], name=self.name['merge'])\n",
        "    return self.relu3(x)"
      ],
      "execution_count": 0,
      "outputs": []
    },
    {
      "cell_type": "markdown",
      "metadata": {
        "id": "-0axcqaS-AiH",
        "colab_type": "text"
      },
      "source": [
        "## Convolutional Block\n",
        "\n",
        "Expands the input depth through a 1x1 convolution to allow the addition with the output of the block"
      ]
    },
    {
      "cell_type": "code",
      "metadata": {
        "id": "5uOMc761uE5S",
        "colab_type": "code",
        "colab": {}
      },
      "source": [
        "# Build the conv block\n",
        "class ConvBlock():\n",
        "  def __init__(self, kernel_size, filters, name, strides=(2, 2), **kwargs):\n",
        "    '''\n",
        "      kernel_size: (tuple) size of the filter (kernel)\n",
        "      filters: number of filters (kernels)\n",
        "      name: base name for the block\n",
        "      strides: (tuple) with the size of the stride \n",
        "    '''\n",
        "\n",
        "    self.kernel_size = kernel_size\n",
        "    self.filters = filters\n",
        "    self.strides = strides\n",
        "    self.expansion = 4\n",
        "    self.name = name\n",
        "    self.__build()\n",
        "\n",
        "\n",
        "  def __build(self):\n",
        "    base_name = 'conv'+str(self.name['layer'])+'_block'+str(self.name['inner'])+'_'\n",
        "\n",
        "    self.conv1 = layers.Conv2D(self.filters, (1, 1), strides=self.strides, name=base_name+'1_conv')\n",
        "    self.bn1 = layers.BatchNormalization(name=base_name+'1_bn')\n",
        "    self.relu1 = layers.Activation('relu', name='activation_'+str(self.name['activation']))\n",
        "\n",
        "    self.conv2 = layers.Conv2D(self.filters, self.kernel_size, padding='same', name=base_name+'2_conv')\n",
        "    self.bn2 = layers.BatchNormalization(name=base_name+'2_bn')\n",
        "    self.relu2 = layers.Activation('relu', name='activation_'+str(self.name['activation'] + 1))\n",
        "\n",
        "    self.conv3 = layers.Conv2D(self.filters*self.expansion, (1, 1), name=base_name+'3_conv')\n",
        "    self.bn3 = layers.BatchNormalization(name=base_name+'3_bn')\n",
        "    self.relu3 = layers.Activation('relu', name='activation_'+str(self.name['activation'] + 2))\n",
        "\n",
        "    self.shortcut_conv = layers.Conv2D(self.filters*self.expansion, (1, 1), strides=self.strides, name=base_name+'0_conv')\n",
        "    self.shortcut_bn = layers.BatchNormalization(name=base_name+'0_bn')\n",
        "\n",
        "\n",
        "  def __call__(self, input_tensor):\n",
        "    x = self.conv1(input_tensor)\n",
        "    x = self.bn1(x)\n",
        "    x = self.relu1(x)\n",
        "\n",
        "    x = self.conv2(x)\n",
        "    x = self.bn2(x)\n",
        "    x = self.relu2(x)\n",
        "\n",
        "    x = self.conv3(x)\n",
        "    x = self.bn3(x)\n",
        "\n",
        "    shortcut = self.shortcut_conv(input_tensor)\n",
        "    shortcut = self.shortcut_bn(shortcut)\n",
        "\n",
        "    x = layers.add([x, shortcut], name=self.name['merge'])\n",
        "    return self.relu3(x)"
      ],
      "execution_count": 0,
      "outputs": []
    },
    {
      "cell_type": "markdown",
      "metadata": {
        "id": "r63sqVDZ-pnd",
        "colab_type": "text"
      },
      "source": [
        "## Build the full network"
      ]
    },
    {
      "cell_type": "code",
      "metadata": {
        "id": "6jrCyAEDmpE6",
        "colab_type": "code",
        "colab": {}
      },
      "source": [
        "# Build the ResNet\n",
        "class ResNet():\n",
        "  def __init__(self, classes=5):\n",
        "    '''\n",
        "      classes: number of output classes\n",
        "    '''\n",
        "    \n",
        "    self._layers = []\n",
        "    self.classes = classes\n",
        "    \n",
        "    # According to paper (ResNet-50)\n",
        "    self.n_layers = [3, 4, 6, 3]\n",
        "    self.filters = 64\n",
        "\n",
        "  def __build(self):\n",
        "    filters = [64, 128, 256, 512]\n",
        "    \n",
        "    # for naming purposes\n",
        "    merge = 1\n",
        "    activation = 2\n",
        "    \n",
        "    # head\n",
        "    self._layers.append(layers.ZeroPadding2D(padding=(3, 3), name='head_padding1'))\n",
        "    self._layers.append(layers.Conv2D(self.filters, (7, 7), strides=(2, 2), padding='valid', name='conv1_conv'))\n",
        "    self._layers.append(layers.BatchNormalization(name='conv1_bn'))\n",
        "    self._layers.append(layers.Activation('relu', name='activation_1'))\n",
        "    self._layers.append(layers.ZeroPadding2D(padding=(1, 1), name='head_padding2'))\n",
        "    self._layers.append(layers.MaxPooling2D((3, 3), strides=(2, 2), name='maxpooling'))\n",
        "\n",
        "    # blocks\n",
        "    for i, l in enumerate(self.n_layers):\n",
        "      for j in range(l):\n",
        "        name = {\n",
        "            'layer': i+2,\n",
        "            'inner': j+1,\n",
        "            'merge': 'merge_'+str(merge),\n",
        "            'activation': activation\n",
        "        }\n",
        "\n",
        "        if i == 0 and j == 0:\n",
        "          self._layers.append(ConvBlock((3, 3), filters[i], strides=(1, 1), name=name))\n",
        "        elif j == 0:\n",
        "          self._layers.append(ConvBlock((3, 3), filters[i], name=name))\n",
        "        else:\n",
        "          self._layers.append(IdentityBlock((3, 3), filters[i], name=name))\n",
        "        \n",
        "        merge += 1\n",
        "        activation +=3\n",
        "\n",
        "    self._layers.append(layers.GlobalAveragePooling2D(name='avg_pool'))\n",
        "    self._layers.append(layers.Dense(self.classes, activation='softmax', name='fc'))\n",
        "\n",
        "  def __call__(self, input_tensor):\n",
        "    self.__build()\n",
        "\n",
        "    for i, _layer in enumerate(self._layers):\n",
        "      if i == 0:\n",
        "        x = _layer(input_tensor)\n",
        "      else:\n",
        "        x = _layer(x)\n",
        "\n",
        "    return keras.Model(input_tensor, x, name='resnet-50')"
      ],
      "execution_count": 0,
      "outputs": []
    },
    {
      "cell_type": "code",
      "metadata": {
        "id": "KQSeitc2IxS_",
        "colab_type": "code",
        "colab": {}
      },
      "source": [
        "# function to load the pretrained weights onto the custom model\n",
        "def transfer_weights(model):\n",
        "  '''\n",
        "    model: keras model to transfer the weights (must be resnet-50)\n",
        "  '''\n",
        "  \n",
        "  trained = keras.applications.resnet.ResNet50(include_top=True, weights='imagenet', input_tensor=None, input_shape=None, pooling=None, classes=1000)\n",
        "\n",
        "  for i, layer in enumerate(trained.layers):\n",
        "    if len(layer.weights) > 0 and layer.name is not 'probs':\n",
        "      weights = layer.get_weights()\n",
        "      model.get_layer(layer.name).set_weights(weights)\n",
        "  \n",
        "  model.save_weights('/content/drive/My Drive/retina_images/pretrained/resnet50_weights_imagenet_no_dense.h5', overwrite=True)"
      ],
      "execution_count": 0,
      "outputs": []
    },
    {
      "cell_type": "code",
      "metadata": {
        "id": "soxxxqmEsG1F",
        "colab_type": "code",
        "colab": {}
      },
      "source": [
        "# generates a model for regression\n",
        "def generate_model(model=None, classes=5, shape=(512, 512, 3)):\n",
        "  '''\n",
        "    model: keras model\n",
        "    classes: number of output classes\n",
        "    shape: tuple like shape of the input\n",
        "  '''\n",
        "  \n",
        "  input = keras.Input(shape=shape)\n",
        "  \n",
        "  if model is None:\n",
        "    model = ResNet(classes=classes)(input)\n",
        "\n",
        "  x = layers.Dense(1, activation='linear')(model.output)\n",
        "\n",
        "  return keras.Model(model.input, x)"
      ],
      "execution_count": 0,
      "outputs": []
    },
    {
      "cell_type": "code",
      "metadata": {
        "id": "JdK27mFYU05N",
        "colab_type": "code",
        "colab": {}
      },
      "source": [
        "# Display model layers\n",
        "model = ResNet(classes=5)(keras.Input(shape=(512, 512, 3)))\n",
        "#transfer_weights(model, f'{DATASET_PATH}pretrained/resnet50_weights_tf_dim_ordering_tf_kernels.h5')\n",
        "#model.load_weights(f'{DATASET_PATH}pretrained/resnet50_weights_tf_dim_ordering_tf_kernels.h5')\n",
        "model.summary()"
      ],
      "execution_count": 0,
      "outputs": []
    },
    {
      "cell_type": "code",
      "metadata": {
        "id": "K8Dk7kXUkrYw",
        "colab_type": "code",
        "colab": {}
      },
      "source": [
        "# Mount the google drive folder with the data\n",
        "from google.colab import drive\n",
        "\n",
        "drive.mount('/content/drive')"
      ],
      "execution_count": 0,
      "outputs": []
    },
    {
      "cell_type": "code",
      "metadata": {
        "id": "hViNMvax20dt",
        "colab_type": "code",
        "colab": {}
      },
      "source": [
        "# Paths of the data\n",
        "DATASET_PATH    = '/content/drive/My Drive/retina_images/'\n",
        "CHECKPOINT_PATH = DATASET_PATH + '/checkpoints/'\n",
        "DATA_SRC_PATH   = DATASET_PATH + '/data/'\n",
        "\n",
        "TEMP_PATH       = '/content/'\n",
        "DATA_PATH       = TEMP_PATH + '/data/'"
      ],
      "execution_count": 0,
      "outputs": []
    },
    {
      "cell_type": "code",
      "metadata": {
        "id": "RGr0KIVHkvUl",
        "colab_type": "code",
        "colab": {}
      },
      "source": [
        "# unzip the .zip files to the local /content/data of the notebook\n",
        "!unzip -q -n -d '{DATA_PATH}' '{DATASET_PATH+\"/train_dst.zip\"}'\n",
        "!unzip -q -n -d '{DATA_PATH}' '{DATASET_PATH+\"/test_dst.zip\"}'"
      ],
      "execution_count": 0,
      "outputs": []
    },
    {
      "cell_type": "code",
      "metadata": {
        "id": "a_5aYvyLkvfA",
        "colab_type": "code",
        "outputId": "1a704d9b-e8af-48e1-a0df-d0cb382859ee",
        "colab": {
          "base_uri": "https://localhost:8080/",
          "height": 357
        }
      },
      "source": [
        "!dir '{DATA_PATH}/train_dst' | head\n",
        "!dir '{DATA_PATH}/test_dst' | head"
      ],
      "execution_count": 13,
      "outputs": [
        {
          "output_type": "stream",
          "text": [
            "10003_left.jpeg   19968_left.jpeg   30000_left.jpeg   39972_right.jpeg\n",
            "10003_right.jpeg  19968_right.jpeg  30000_right.jpeg  39975_left.jpeg\n",
            "10007_left.jpeg   19970_left.jpeg   30004_left.jpeg   39975_right.jpeg\n",
            "10007_right.jpeg  19970_right.jpeg  30004_right.jpeg  39978_left.jpeg\n",
            "10009_left.jpeg   19972_left.jpeg   3000_left.jpeg    39978_right.jpeg\n",
            "10009_right.jpeg  19972_right.jpeg  3000_right.jpeg   39981_left.jpeg\n",
            "1000_left.jpeg\t  19975_left.jpeg   30012_left.jpeg   39981_right.jpeg\n",
            "1000_right.jpeg   19975_right.jpeg  30012_right.jpeg  39982_left.jpeg\n",
            "10010_left.jpeg   19976_left.jpeg   30015_left.jpeg   39982_right.jpeg\n",
            "10010_right.jpeg  19976_right.jpeg  30015_right.jpeg  39983_left.jpeg\n",
            "10000_left.jpeg   19996_right.jpeg  29928_right.jpeg  39921_right.jpeg\n",
            "10000_right.jpeg  19997_left.jpeg   29930_left.jpeg   39922_left.jpeg\n",
            "10001_left.jpeg   19997_right.jpeg  29930_right.jpeg  39922_right.jpeg\n",
            "10001_right.jpeg  19998_left.jpeg   29931_left.jpeg   39923_left.jpeg\n",
            "10002_right.jpeg  19998_right.jpeg  29931_right.jpeg  39923_right.jpeg\n",
            "10004_left.jpeg   19999_left.jpeg   29932_left.jpeg   39925_left.jpeg\n",
            "10004_right.jpeg  19999_right.jpeg  29932_right.jpeg  39925_right.jpeg\n",
            "10005_left.jpeg   1_left.jpeg\t    29934_left.jpeg   39927_left.jpeg\n",
            "10005_right.jpeg  1_right.jpeg\t    29934_right.jpeg  39927_right.jpeg\n",
            "10006_left.jpeg   20000_left.jpeg   29936_left.jpeg   39928_left.jpeg\n"
          ],
          "name": "stdout"
        }
      ]
    },
    {
      "cell_type": "code",
      "metadata": {
        "id": "Sua7Dxkmcu2G",
        "colab_type": "code",
        "outputId": "148c41fa-b66e-475d-faf0-de17f52e56ea",
        "colab": {
          "base_uri": "https://localhost:8080/",
          "height": 374
        }
      },
      "source": [
        "!apt-get install libimage-size-perl"
      ],
      "execution_count": 14,
      "outputs": [
        {
          "output_type": "stream",
          "text": [
            "Reading package lists... Done\n",
            "Building dependency tree       \n",
            "Reading state information... Done\n",
            "The following package was automatically installed and is no longer required:\n",
            "  libnvidia-common-430\n",
            "Use 'apt autoremove' to remove it.\n",
            "Suggested packages:\n",
            "  libimage-magick-perl\n",
            "The following NEW packages will be installed:\n",
            "  libimage-size-perl\n",
            "0 upgraded, 1 newly installed, 0 to remove and 7 not upgraded.\n",
            "Need to get 35.8 kB of archives.\n",
            "After this operation, 129 kB of additional disk space will be used.\n",
            "Get:1 http://archive.ubuntu.com/ubuntu bionic/universe amd64 libimage-size-perl all 3.300-1 [35.8 kB]\n",
            "Fetched 35.8 kB in 0s (116 kB/s)\n",
            "Selecting previously unselected package libimage-size-perl.\n",
            "(Reading database ... 145674 files and directories currently installed.)\n",
            "Preparing to unpack .../libimage-size-perl_3.300-1_all.deb ...\n",
            "Unpacking libimage-size-perl (3.300-1) ...\n",
            "Setting up libimage-size-perl (3.300-1) ...\n",
            "Processing triggers for man-db (2.8.3-2ubuntu0.1) ...\n"
          ],
          "name": "stdout"
        }
      ]
    },
    {
      "cell_type": "code",
      "metadata": {
        "id": "qdXYQG-SdCBL",
        "colab_type": "code",
        "outputId": "dd3db479-67dd-4492-ba9e-ac9865dc0f85",
        "colab": {
          "base_uri": "https://localhost:8080/",
          "height": 34
        }
      },
      "source": [
        "!imgsize '/content/data/train_dst/10003_left.jpeg'"
      ],
      "execution_count": 15,
      "outputs": [
        {
          "output_type": "stream",
          "text": [
            "width=\"512\" height=\"512\"\n"
          ],
          "name": "stdout"
        }
      ]
    },
    {
      "cell_type": "markdown",
      "metadata": {
        "id": "iCLtfuABAP2R",
        "colab_type": "text"
      },
      "source": [
        "## Data preparation"
      ]
    },
    {
      "cell_type": "code",
      "metadata": {
        "id": "uiOpJhxiMTpC",
        "colab_type": "code",
        "outputId": "7d764bea-ae39-4c63-ab18-c94dcbf4c871",
        "colab": {
          "base_uri": "https://localhost:8080/",
          "height": 419
        }
      },
      "source": [
        "train_labels = pd.read_csv(f'{DATASET_PATH}train_labels.csv')\n",
        "test_labels = pd.read_csv(f'{DATASET_PATH}test_labels.csv')\n",
        "\n",
        "classes = [0, 1, 2, 3, 4]\n",
        "\n",
        "# Remove usage column\n",
        "test_labels = test_labels.drop('Usage', axis=1)\n",
        "\n",
        "train_labels['image'] = train_labels['image'].apply(lambda f: f'train_dst/{f}.jpeg')\n",
        "test_labels['image'] = test_labels['image'].apply(lambda f: f'test_dst/{f}.jpeg')\n",
        "\n",
        "data = pd.concat([train_labels, test_labels]).sample(frac=1)\n",
        "data = data.dropna()\n",
        "\n",
        "data"
      ],
      "execution_count": 14,
      "outputs": [
        {
          "output_type": "execute_result",
          "data": {
            "text/html": [
              "<div>\n",
              "<style scoped>\n",
              "    .dataframe tbody tr th:only-of-type {\n",
              "        vertical-align: middle;\n",
              "    }\n",
              "\n",
              "    .dataframe tbody tr th {\n",
              "        vertical-align: top;\n",
              "    }\n",
              "\n",
              "    .dataframe thead th {\n",
              "        text-align: right;\n",
              "    }\n",
              "</style>\n",
              "<table border=\"1\" class=\"dataframe\">\n",
              "  <thead>\n",
              "    <tr style=\"text-align: right;\">\n",
              "      <th></th>\n",
              "      <th>image</th>\n",
              "      <th>level</th>\n",
              "    </tr>\n",
              "  </thead>\n",
              "  <tbody>\n",
              "    <tr>\n",
              "      <th>18035</th>\n",
              "      <td>train_dst/22727_right.jpeg</td>\n",
              "      <td>0</td>\n",
              "    </tr>\n",
              "    <tr>\n",
              "      <th>17885</th>\n",
              "      <td>test_dst/14865_right.jpeg</td>\n",
              "      <td>0</td>\n",
              "    </tr>\n",
              "    <tr>\n",
              "      <th>2946</th>\n",
              "      <td>test_dst/2463_left.jpeg</td>\n",
              "      <td>2</td>\n",
              "    </tr>\n",
              "    <tr>\n",
              "      <th>27615</th>\n",
              "      <td>train_dst/34947_right.jpeg</td>\n",
              "      <td>0</td>\n",
              "    </tr>\n",
              "    <tr>\n",
              "      <th>44582</th>\n",
              "      <td>test_dst/36845_left.jpeg</td>\n",
              "      <td>1</td>\n",
              "    </tr>\n",
              "    <tr>\n",
              "      <th>...</th>\n",
              "      <td>...</td>\n",
              "      <td>...</td>\n",
              "    </tr>\n",
              "    <tr>\n",
              "      <th>35229</th>\n",
              "      <td>test_dst/29157_right.jpeg</td>\n",
              "      <td>0</td>\n",
              "    </tr>\n",
              "    <tr>\n",
              "      <th>2389</th>\n",
              "      <td>train_dst/2961_right.jpeg</td>\n",
              "      <td>0</td>\n",
              "    </tr>\n",
              "    <tr>\n",
              "      <th>17172</th>\n",
              "      <td>test_dst/14265_left.jpeg</td>\n",
              "      <td>0</td>\n",
              "    </tr>\n",
              "    <tr>\n",
              "      <th>629</th>\n",
              "      <td>test_dst/546_right.jpeg</td>\n",
              "      <td>0</td>\n",
              "    </tr>\n",
              "    <tr>\n",
              "      <th>15865</th>\n",
              "      <td>train_dst/19900_right.jpeg</td>\n",
              "      <td>0</td>\n",
              "    </tr>\n",
              "  </tbody>\n",
              "</table>\n",
              "<p>88702 rows × 2 columns</p>\n",
              "</div>"
            ],
            "text/plain": [
              "                            image  level\n",
              "18035  train_dst/22727_right.jpeg      0\n",
              "17885   test_dst/14865_right.jpeg      0\n",
              "2946      test_dst/2463_left.jpeg      2\n",
              "27615  train_dst/34947_right.jpeg      0\n",
              "44582    test_dst/36845_left.jpeg      1\n",
              "...                           ...    ...\n",
              "35229   test_dst/29157_right.jpeg      0\n",
              "2389    train_dst/2961_right.jpeg      0\n",
              "17172    test_dst/14265_left.jpeg      0\n",
              "629       test_dst/546_right.jpeg      0\n",
              "15865  train_dst/19900_right.jpeg      0\n",
              "\n",
              "[88702 rows x 2 columns]"
            ]
          },
          "metadata": {
            "tags": []
          },
          "execution_count": 14
        }
      ]
    },
    {
      "cell_type": "markdown",
      "metadata": {
        "id": "jipVpIqrA4z_",
        "colab_type": "text"
      },
      "source": [
        "### Visualization of the number of data per class"
      ]
    },
    {
      "cell_type": "code",
      "metadata": {
        "id": "FX8Zge4DgTna",
        "colab_type": "code",
        "outputId": "aa04fc29-f3c5-486c-e4ae-59f364188c8b",
        "colab": {
          "base_uri": "https://localhost:8080/",
          "height": 367
        }
      },
      "source": [
        "plt.hist(x=data['level'])\n",
        "plt.xticks(classes)"
      ],
      "execution_count": 15,
      "outputs": [
        {
          "output_type": "execute_result",
          "data": {
            "text/plain": [
              "([<matplotlib.axis.XTick at 0x7f5230d0c898>,\n",
              "  <matplotlib.axis.XTick at 0x7f5230d0c9b0>,\n",
              "  <matplotlib.axis.XTick at 0x7f5230d0c668>,\n",
              "  <matplotlib.axis.XTick at 0x7f5230623160>,\n",
              "  <matplotlib.axis.XTick at 0x7f5230623710>],\n",
              " <a list of 5 Text xticklabel objects>)"
            ]
          },
          "metadata": {
            "tags": []
          },
          "execution_count": 15
        },
        {
          "output_type": "display_data",
          "data": {
            "image/png": "[encoded data removed]",
            "text/plain": [
              "<Figure size 432x288 with 1 Axes>"
            ]
          },
          "metadata": {
            "tags": []
          }
        }
      ]
    },
    {
      "cell_type": "markdown",
      "metadata": {
        "id": "UuIcYGcQp2Xx",
        "colab_type": "text"
      },
      "source": [
        "# Normal training split"
      ]
    },
    {
      "cell_type": "code",
      "metadata": {
        "id": "rqZgHRuegXE1",
        "colab_type": "code",
        "colab": {}
      },
      "source": [
        "data_c0 = data.where(data['level'] == 0).dropna()\n",
        "data_c0 = data_c0.iloc[:int(len(data_c0) * 0.2)]\n",
        "data_cP = data.where(data['level'] > 0).dropna()\n",
        "\n",
        "data = pd.concat([data_c0, data_cP]).sample(frac=1) # concat & shuffle data\n",
        "\n",
        "split = int(len(data) * 0.1)\n",
        "test_df = data.iloc[:split].copy()\n",
        "train_df = data.iloc[split:].copy()"
      ],
      "execution_count": 0,
      "outputs": []
    },
    {
      "cell_type": "markdown",
      "metadata": {
        "id": "QaVoU9LFqBdo",
        "colab_type": "text"
      },
      "source": [
        "# High definition training split"
      ]
    },
    {
      "cell_type": "code",
      "metadata": {
        "id": "tT0mjOb5jv1t",
        "colab_type": "code",
        "colab": {}
      },
      "source": [
        "# newdata = None\n",
        "\n",
        "# for class_ in classes:\n",
        "#   values = data.where(data['level'] == class_).dropna() \n",
        "#   if class_ == 0:\n",
        "#     newdata = values.iloc[:int(len(values) * 0.05)]\n",
        "#   else:\n",
        "#     newdata = pd.concat([newdata, values.iloc[:int(len(values) * 0.2)]])\n",
        "\n",
        "# split = int(len(newdata) * 0.1)\n",
        "# test_df = newdata.iloc[:split].copy()\n",
        "# train_df = newdata.iloc[split:].copy()"
      ],
      "execution_count": 0,
      "outputs": []
    },
    {
      "cell_type": "markdown",
      "metadata": {
        "id": "ZMpd9WiHBHF-",
        "colab_type": "text"
      },
      "source": [
        "### New distribution for training"
      ]
    },
    {
      "cell_type": "code",
      "metadata": {
        "id": "Y0_CvXK7uKzK",
        "colab_type": "code",
        "outputId": "e02d95bb-11a3-44c2-ada6-5951a389c263",
        "colab": {
          "base_uri": "https://localhost:8080/",
          "height": 367
        }
      },
      "source": [
        "plt.hist(x=data['level'])\n",
        "plt.xticks(classes)"
      ],
      "execution_count": 17,
      "outputs": [
        {
          "output_type": "execute_result",
          "data": {
            "text/plain": [
              "([<matplotlib.axis.XTick at 0x7f5230392eb8>,\n",
              "  <matplotlib.axis.XTick at 0x7f52303927f0>,\n",
              "  <matplotlib.axis.XTick at 0x7f52303926a0>,\n",
              "  <matplotlib.axis.XTick at 0x7f522e9a7978>,\n",
              "  <matplotlib.axis.XTick at 0x7f522e9a7f28>],\n",
              " <a list of 5 Text xticklabel objects>)"
            ]
          },
          "metadata": {
            "tags": []
          },
          "execution_count": 17
        },
        {
          "output_type": "display_data",
          "data": {
            "image/png": "[encoded data removed]",
            "text/plain": [
              "<Figure size 432x288 with 1 Axes>"
            ]
          },
          "metadata": {
            "tags": []
          }
        }
      ]
    },
    {
      "cell_type": "code",
      "metadata": {
        "id": "26SDWCTRvyn0",
        "colab_type": "code",
        "outputId": "bc8bf491-2427-4a5d-acd8-2aeda19b9a7f",
        "colab": {
          "base_uri": "https://localhost:8080/",
          "height": 119
        }
      },
      "source": [
        "BATCH_SIZE = 32\n",
        "IMG_SIZE = 512\n",
        "\n",
        "datagen = keras.preprocessing.image.ImageDataGenerator(\n",
        "    rescale=1./255, \n",
        "    rotation_range=360,\n",
        "    horizontal_flip=True,\n",
        "    vertical_flip=True)\n",
        "\n",
        "train_generator = datagen.flow_from_dataframe(\n",
        "    dataframe=train_df,\n",
        "    x_col='image',\n",
        "    y_col='level',\n",
        "    class_mode='raw',\n",
        "    batch_size=BATCH_SIZE,\n",
        "    target_size=(IMG_SIZE, IMG_SIZE),\n",
        "    directory=DATA_PATH,\n",
        "    validate_filenames=True)\n",
        "\n",
        "validation_generator = datagen.flow_from_dataframe(\n",
        "    dataframe=test_df,\n",
        "    x_col='image',\n",
        "    y_col='level',\n",
        "    class_mode='raw',\n",
        "    batch_size=BATCH_SIZE,\n",
        "    target_size=(IMG_SIZE, IMG_SIZE),\n",
        "    directory=DATA_PATH,\n",
        "    validate_filenames=True)"
      ],
      "execution_count": 43,
      "outputs": [
        {
          "output_type": "stream",
          "text": [
            "Found 32707 validated image filenames.\n",
            "Found 3630 validated image filenames.\n"
          ],
          "name": "stdout"
        },
        {
          "output_type": "stream",
          "text": [
            "/tensorflow-2.1.0/python3.6/keras_preprocessing/image/dataframe_iterator.py:273: UserWarning: Found 78 invalid image filename(s) in x_col=\"image\". These filename(s) will be ignored.\n",
            "  .format(n_invalid, x_col)\n",
            "/tensorflow-2.1.0/python3.6/keras_preprocessing/image/dataframe_iterator.py:273: UserWarning: Found 12 invalid image filename(s) in x_col=\"image\". These filename(s) will be ignored.\n",
            "  .format(n_invalid, x_col)\n"
          ],
          "name": "stderr"
        }
      ]
    },
    {
      "cell_type": "code",
      "metadata": {
        "id": "27UfvRrSCVPo",
        "colab_type": "code",
        "colab": {}
      },
      "source": [
        "# vanilla imagenet weights\n",
        "imagenet_weights = f'{DATASET_PATH}pretrained/resnet50_weights_imagenet_no_dense.h5'\n",
        "# weights of first training\n",
        "diabetic_regression_weights = f'{DATASET_PATH}checkpoints/resnet50_dense_regression.h5'\n",
        "# weights of the last training with 384x384 images\n",
        "checkpoint_path = f'{DATASET_PATH}checkpoints/resnet50_dense_regression_checkpoint_384.h5'\n",
        "# weights of las training with 512x512 images\n",
        "checkpoint_high_path = f'{DATASET_PATH}checkpoints/resnet50_dense_regression_checkpoint_512.h5'"
      ],
      "execution_count": 0,
      "outputs": []
    },
    {
      "cell_type": "markdown",
      "metadata": {
        "id": "Bq3NCI2n9ecv",
        "colab_type": "text"
      },
      "source": [
        "# Training for multi label classification"
      ]
    },
    {
      "cell_type": "code",
      "metadata": {
        "id": "k06gcSKFxiVl",
        "colab_type": "code",
        "colab": {}
      },
      "source": [
        "# model = ResNet(classes=5)(keras.Input(shape=(IMG_SIZE, IMG_SIZE, 3)))\n",
        "# model.load_weights(f'{DATASET_PATH}pretrained/resnet50_weights_imagenet_no_dense.h5')\n",
        "# model = keras.applications.resnet_v2.ResNet50V2(input_tensor=keras.Input(shape=(384, 384, 3)), weights=None, classes=5)\n",
        "# model.compile(optimizer=keras.optimizers.Adam(learning_rate=0.001), loss=keras.losses.CategoricalCrossentropy(), metrics=[keras.metrics.CategoricalAccuracy()])\n",
        "# model.fit(train_generator,\n",
        "#           epochs=10,\n",
        "#           validation_data=validation_generator,\n",
        "#           max_queue_size=16,\n",
        "#           workers=4, use_multiprocessing=False)"
      ],
      "execution_count": 0,
      "outputs": []
    },
    {
      "cell_type": "markdown",
      "metadata": {
        "id": "0jz4mtFz9j9w",
        "colab_type": "text"
      },
      "source": [
        "# Training for regression"
      ]
    },
    {
      "cell_type": "code",
      "metadata": {
        "id": "Bl8pUomNtJu6",
        "colab_type": "code",
        "colab": {}
      },
      "source": [
        "def lr_schedule(epoch, alpha):\n",
        "  decay = (1 - (epoch / float(10))) ** 1\n",
        "  alpha = 0.00001 * decay\n",
        "\n",
        "  return float(alpha)\n",
        "\n",
        "# Callbacks\n",
        "checkpoint = keras.callbacks.ModelCheckpoint(checkpoint_high_path, verbose=1, save_best_only=True, save_weights_only=True)\n",
        "lr_callback = keras.callbacks.LearningRateScheduler(lr_schedule, verbose=1)\n",
        "\n",
        "model = generate_model(None, 5, (IMG_SIZE, IMG_SIZE, 3))\n",
        "model.load_weights(checkpoint_high_path)\n",
        "#model.compile(optimizer=keras.optimizers.Adam(learning_rate=0.00001), loss=keras.losses.MeanSquaredError())\n",
        "# model.fit(train_generator,\n",
        "#           epochs=10,\n",
        "#           validation_data=validation_generator,\n",
        "#           callbacks=[checkpoint, lr_callback],\n",
        "#           max_queue_size=16,\n",
        "#           workers=4, use_multiprocessing=False)"
      ],
      "execution_count": 0,
      "outputs": []
    },
    {
      "cell_type": "markdown",
      "metadata": {
        "id": "5Uz9rGdm9rw3",
        "colab_type": "text"
      },
      "source": [
        "# Evaluation and prediction"
      ]
    },
    {
      "cell_type": "code",
      "metadata": {
        "id": "89SmUxvde0sf",
        "colab_type": "code",
        "colab": {}
      },
      "source": [
        "def classify(x):\n",
        "  if x <= 0.8:\n",
        "    return 0\n",
        "  elif x > 0.8 and x <= 1.6:\n",
        "    return 1\n",
        "  elif x > 1.6 and x <= 2.4:\n",
        "    return 2\n",
        "  elif x > 2.4 and x <= 3.2:\n",
        "    return 3\n",
        "  elif x > 3.2:\n",
        "    return 4"
      ],
      "execution_count": 0,
      "outputs": []
    },
    {
      "cell_type": "code",
      "metadata": {
        "id": "jSuLR4rxl07M",
        "colab_type": "code",
        "colab": {}
      },
      "source": [
        "def classify05(x):\n",
        "  if x < 0.5:\n",
        "      return 0\n",
        "  elif x < 1.5:\n",
        "      return 1\n",
        "  elif x < 2.5:\n",
        "      return 2\n",
        "  elif x < 3.5:\n",
        "      return 3\n",
        "  return 4"
      ],
      "execution_count": 0,
      "outputs": []
    },
    {
      "cell_type": "code",
      "metadata": {
        "id": "r_jdDDRaY0Nv",
        "colab_type": "code",
        "outputId": "253e4d83-7c19-4d29-bcf5-05947ef4a0ee",
        "colab": {
          "base_uri": "https://localhost:8080/",
          "height": 122
        }
      },
      "source": [
        "datagen = keras.preprocessing.image.ImageDataGenerator(rescale=1./255)\n",
        "validation_generator = datagen.flow_from_dataframe(\n",
        "    dataframe=test_df,\n",
        "    x_col='image',\n",
        "    y_col='level',\n",
        "    class_mode='raw',\n",
        "    shuffle=False,\n",
        "    batch_size=BATCH_SIZE*2,\n",
        "    target_size=(IMG_SIZE, IMG_SIZE),\n",
        "    directory=DATA_PATH,\n",
        "    validate_filenames=True)\n",
        "\n",
        "predictions = []\n",
        "true_labels = []\n",
        "\n",
        "for i in range(len(validation_generator)):\n",
        "  x, true_y = validation_generator[i]\n",
        "  _predictions = model.predict(x)\n",
        "\n",
        "  del x\n",
        "\n",
        "  for j in range(len(_predictions)):\n",
        "    class_p = int(classify(_predictions[j]))\n",
        "    class_t = int(true_y[j])\n",
        "    predictions.append(class_p)\n",
        "    true_labels.append(class_t)\n",
        "\n",
        "print(true_labels)\n",
        "print(predictions)"
      ],
      "execution_count": 47,
      "outputs": [
        {
          "output_type": "stream",
          "text": [
            "/tensorflow-2.1.0/python3.6/keras_preprocessing/image/dataframe_iterator.py:273: UserWarning: Found 12 invalid image filename(s) in x_col=\"image\". These filename(s) will be ignored.\n",
            "  .format(n_invalid, x_col)\n"
          ],
          "name": "stderr"
        },
        {
          "output_type": "stream",
          "text": [
            "Found 3630 validated image filenames.\n",
            "[0, 2, 1, 0, 1, 2, 1, 2, 2, 2, 1, 2, 0, 3, 2, 1, 0, 0, 0, 2, 2, 0, 2, 0, 0, 2, 3, 0, 2, 1, 0, 2, 0, 0, 2, 2, 2, 2, 2, 3, 0, 2, 2, 2, 2, 2, 0, 2, 1, 2, 0, 1, 2, 0, 4, 2, 0, 0, 0, 2, 0, 0, 3, 2, 2, 4, 1, 0, 0, 2, 2, 1, 1, 0, 1, 2, 0, 2, 2, 2, 0, 3, 0, 4, 0, 2, 0, 2, 4, 1, 0, 2, 2, 1, 1, 2, 0, 1, 0, 3, 2, 0, 0, 2, 2, 2, 1, 2, 1, 0, 0, 1, 0, 2, 0, 2, 0, 2, 2, 2, 0, 0, 2, 1, 1, 1, 2, 2, 1, 2, 1, 1, 2, 2, 2, 0, 1, 0, 0, 2, 0, 2, 0, 2, 0, 0, 2, 2, 2, 1, 2, 0, 3, 2, 1, 2, 2, 1, 0, 2, 4, 1, 2, 0, 0, 1, 0, 1, 1, 0, 0, 2, 2, 0, 3, 0, 2, 1, 1, 2, 1, 0, 0, 0, 0, 2, 0, 1, 0, 3, 2, 2, 0, 2, 0, 2, 2, 2, 1, 0, 4, 2, 0, 0, 1, 0, 0, 2, 0, 0, 1, 0, 0, 2, 0, 0, 1, 1, 0, 0, 3, 3, 2, 2, 4, 1, 1, 4, 2, 0, 2, 2, 0, 0, 0, 2, 1, 0, 0, 1, 1, 0, 0, 1, 0, 0, 1, 1, 4, 2, 1, 1, 4, 0, 3, 2, 4, 1, 2, 0, 0, 2, 2, 1, 1, 2, 0, 2, 2, 0, 2, 2, 0, 2, 0, 4, 2, 0, 1, 2, 0, 2, 0, 2, 2, 2, 3, 2, 2, 2, 4, 2, 0, 1, 2, 0, 3, 0, 0, 1, 0, 4, 1, 0, 2, 3, 2, 0, 2, 0, 1, 2, 2, 4, 2, 0, 0, 0, 2, 0, 1, 0, 1, 2, 0, 0, 1, 2, 2, 2, 0, 0, 2, 2, 3, 0, 0, 3, 2, 2, 1, 2, 1, 1, 0, 2, 2, 2, 1, 1, 2, 0, 4, 2, 2, 2, 0, 0, 0, 2, 4, 0, 1, 2, 0, 1, 2, 0, 1, 0, 2, 2, 1, 2, 0, 2, 3, 0, 1, 0, 1, 4, 2, 0, 1, 1, 0, 0, 2, 0, 0, 0, 2, 0, 4, 1, 2, 2, 1, 4, 0, 2, 0, 2, 0, 2, 1, 2, 2, 1, 1, 1, 0, 0, 0, 1, 2, 2, 4, 0, 2, 3, 0, 2, 4, 2, 0, 0, 2, 1, 0, 2, 2, 2, 1, 1, 0, 1, 1, 0, 1, 2, 2, 2, 2, 2, 2, 0, 2, 2, 0, 4, 2, 2, 4, 2, 2, 0, 2, 0, 1, 1, 1, 0, 0, 0, 0, 1, 1, 0, 0, 2, 0, 0, 0, 1, 0, 2, 1, 2, 0, 1, 2, 0, 1, 2, 0, 0, 0, 2, 0, 3, 3, 3, 0, 0, 0, 0, 0, 0, 0, 0, 0, 0, 1, 4, 1, 2, 2, 4, 2, 2, 1, 1, 2, 0, 2, 2, 2, 3, 3, 3, 1, 0, 0, 1, 0, 2, 2, 1, 1, 0, 3, 0, 4, 2, 4, 1, 2, 0, 0, 2, 1, 1, 0, 0, 2, 1, 1, 0, 3, 0, 4, 0, 1, 4, 2, 0, 1, 2, 0, 0, 0, 2, 1, 2, 3, 2, 2, 3, 2, 1, 0, 0, 2, 1, 0, 4, 2, 2, 3, 4, 2, 2, 0, 0, 2, 2, 2, 2, 2, 2, 2, 4, 2, 2, 0, 1, 2, 2, 0, 3, 0, 0, 2, 1, 2, 2, 2, 0, 1, 2, 0, 0, 2, 2, 0, 1, 3, 3, 0, 2, 0, 0, 2, 1, 0, 2, 4, 2, 2, 2, 0, 1, 2, 2, 3, 0, 4, 2, 2, 0, 0, 2, 0, 0, 0, 0, 2, 1, 0, 1, 4, 3, 2, 2, 0, 2, 1, 2, 0, 2, 0, 4, 1, 1, 2, 2, 3, 2, 2, 4, 2, 2, 3, 2, 3, 1, 0, 0, 2, 4, 3, 0, 3, 3, 2, 2, 3, 2, 1, 1, 2, 0, 3, 3, 2, 0, 2, 0, 3, 1, 0, 1, 0, 3, 2, 3, 1, 2, 2, 4, 2, 1, 2, 2, 1, 2, 2, 0, 2, 1, 1, 2, 0, 0, 0, 2, 0, 1, 1, 0, 0, 0, 2, 0, 0, 0, 1, 2, 3, 0, 2, 0, 1, 1, 0, 3, 1, 0, 0, 2, 2, 0, 0, 1, 2, 0, 1, 2, 0, 0, 0, 2, 3, 0, 2, 0, 0, 0, 0, 2, 4, 2, 0, 2, 0, 2, 0, 0, 2, 0, 2, 0, 2, 2, 2, 2, 0, 2, 1, 0, 1, 1, 2, 0, 2, 0, 1, 0, 0, 0, 2, 1, 2, 2, 2, 0, 0, 3, 2, 0, 0, 0, 0, 2, 0, 0, 0, 2, 2, 1, 0, 0, 0, 3, 4, 0, 0, 2, 1, 1, 1, 0, 0, 0, 0, 0, 0, 0, 0, 0, 2, 2, 0, 1, 1, 1, 0, 0, 1, 0, 2, 1, 1, 0, 0, 0, 2, 0, 0, 2, 2, 0, 0, 2, 2, 2, 0, 2, 0, 0, 2, 0, 0, 2, 2, 2, 1, 1, 0, 2, 1, 1, 4, 0, 0, 3, 2, 1, 0, 2, 1, 1, 2, 2, 2, 0, 1, 2, 2, 0, 2, 3, 2, 4, 0, 0, 0, 2, 0, 0, 2, 2, 2, 0, 1, 0, 0, 3, 0, 1, 1, 0, 1, 2, 2, 0, 2, 0, 0, 4, 4, 0, 2, 2, 2, 0, 2, 2, 0, 1, 3, 2, 0, 0, 2, 1, 0, 0, 2, 2, 0, 4, 1, 0, 0, 0, 1, 2, 0, 2, 3, 0, 2, 2, 2, 1, 3, 0, 0, 2, 0, 0, 1, 0, 2, 0, 1, 2, 2, 3, 2, 0, 0, 0, 0, 0, 4, 2, 2, 0, 2, 2, 0, 1, 2, 2, 0, 2, 3, 1, 2, 2, 0, 0, 4, 1, 4, 2, 2, 0, 1, 4, 1, 0, 0, 0, 0, 1, 1, 2, 0, 0, 2, 2, 2, 2, 2, 2, 2, 1, 2, 2, 2, 3, 0, 0, 2, 4, 0, 0, 0, 0, 4, 2, 2, 1, 0, 0, 2, 3, 2, 2, 2, 2, 0, 2, 0, 2, 0, 0, 2, 2, 0, 2, 4, 2, 4, 1, 1, 2, 0, 2, 1, 2, 1, 1, 0, 1, 2, 0, 2, 2, 3, 0, 1, 2, 2, 1, 2, 2, 2, 1, 2, 2, 1, 1, 0, 1, 2, 2, 4, 1, 2, 1, 0, 0, 2, 2, 0, 0, 2, 3, 1, 2, 2, 2, 0, 2, 2, 2, 2, 0, 2, 0, 0, 2, 0, 2, 0, 0, 2, 0, 1, 1, 2, 1, 0, 1, 2, 1, 0, 0, 1, 0, 0, 0, 3, 2, 4, 0, 2, 0, 0, 2, 1, 4, 0, 0, 2, 2, 0, 1, 2, 4, 0, 0, 0, 0, 1, 2, 1, 1, 2, 0, 0, 0, 0, 2, 2, 2, 2, 2, 0, 1, 0, 2, 3, 0, 1, 1, 0, 0, 2, 0, 2, 2, 0, 0, 0, 1, 0, 2, 0, 4, 0, 0, 0, 2, 0, 2, 0, 0, 0, 2, 0, 2, 3, 4, 4, 4, 2, 2, 1, 2, 1, 0, 2, 0, 4, 2, 0, 4, 0, 2, 2, 0, 0, 2, 2, 2, 0, 0, 2, 2, 2, 2, 2, 3, 2, 3, 0, 0, 0, 3, 1, 0, 2, 1, 1, 2, 2, 0, 2, 1, 4, 2, 2, 2, 0, 0, 1, 2, 2, 0, 2, 1, 1, 2, 0, 0, 4, 0, 0, 0, 2, 0, 2, 1, 0, 0, 0, 0, 0, 2, 0, 1, 0, 2, 2, 4, 0, 2, 1, 3, 0, 2, 2, 1, 2, 4, 0, 0, 2, 0, 4, 0, 3, 0, 0, 2, 0, 0, 2, 2, 0, 2, 4, 1, 0, 1, 2, 0, 0, 1, 0, 4, 2, 2, 0, 2, 2, 1, 0, 3, 0, 3, 2, 0, 0, 2, 0, 0, 1, 4, 2, 3, 4, 1, 1, 2, 0, 0, 2, 1, 2, 0, 0, 1, 1, 0, 2, 1, 1, 0, 2, 2, 3, 0, 0, 0, 0, 1, 2, 0, 2, 2, 2, 4, 0, 1, 3, 2, 2, 2, 0, 2, 2, 0, 0, 1, 2, 0, 4, 0, 2, 2, 3, 1, 2, 2, 0, 0, 0, 0, 2, 3, 2, 2, 2, 1, 1, 1, 2, 1, 1, 0, 0, 4, 1, 2, 0, 2, 0, 1, 0, 2, 0, 1, 2, 1, 3, 2, 0, 2, 2, 2, 3, 0, 0, 2, 2, 3, 0, 0, 2, 0, 2, 0, 1, 2, 2, 2, 2, 2, 0, 0, 1, 2, 1, 1, 2, 0, 2, 3, 1, 0, 1, 0, 0, 1, 0, 2, 2, 2, 2, 1, 4, 2, 0, 0, 2, 2, 3, 0, 2, 0, 2, 0, 2, 1, 3, 2, 2, 0, 0, 0, 0, 2, 1, 2, 0, 2, 2, 0, 2, 4, 2, 1, 0, 3, 1, 2, 2, 0, 1, 0, 2, 2, 0, 2, 1, 2, 4, 0, 2, 0, 4, 2, 2, 2, 2, 2, 0, 4, 0, 1, 0, 0, 2, 2, 1, 0, 2, 0, 1, 3, 2, 0, 0, 2, 1, 3, 0, 4, 0, 2, 2, 2, 4, 0, 1, 2, 0, 0, 2, 2, 2, 0, 2, 2, 2, 0, 2, 0, 4, 0, 1, 2, 2, 2, 2, 0, 2, 2, 1, 2, 1, 1, 2, 0, 0, 1, 0, 0, 1, 0, 1, 1, 0, 2, 2, 0, 1, 1, 1, 0, 2, 2, 0, 0, 1, 2, 2, 0, 0, 3, 3, 1, 2, 2, 1, 0, 2, 2, 3, 0, 0, 2, 0, 2, 3, 1, 1, 2, 2, 2, 0, 0, 2, 1, 2, 1, 2, 2, 2, 2, 1, 2, 4, 0, 2, 0, 0, 0, 2, 0, 3, 3, 0, 2, 2, 2, 0, 2, 4, 3, 0, 1, 0, 0, 0, 2, 2, 0, 0, 0, 3, 1, 4, 1, 2, 2, 2, 1, 2, 0, 2, 2, 1, 4, 0, 0, 3, 0, 2, 4, 2, 1, 2, 0, 1, 2, 0, 2, 0, 0, 0, 2, 2, 0, 2, 0, 0, 1, 2, 2, 0, 2, 2, 0, 1, 0, 0, 1, 2, 0, 1, 0, 0, 0, 0, 0, 0, 2, 0, 2, 1, 2, 4, 2, 0, 2, 0, 0, 2, 4, 2, 2, 3, 2, 4, 0, 2, 0, 2, 0, 0, 2, 1, 0, 1, 2, 0, 0, 0, 2, 0, 1, 2, 2, 2, 2, 1, 4, 0, 1, 2, 0, 0, 2, 2, 1, 0, 0, 4, 0, 0, 1, 0, 2, 0, 2, 2, 2, 4, 1, 0, 0, 1, 2, 0, 2, 2, 0, 2, 2, 2, 0, 0, 1, 0, 3, 1, 0, 2, 2, 3, 2, 4, 0, 2, 0, 0, 0, 1, 2, 0, 0, 0, 2, 1, 0, 1, 3, 0, 1, 4, 0, 1, 3, 2, 2, 2, 2, 2, 0, 2, 0, 2, 2, 2, 2, 3, 0, 2, 2, 1, 0, 2, 2, 0, 2, 1, 1, 0, 1, 0, 1, 2, 0, 2, 2, 0, 0, 2, 2, 1, 1, 1, 3, 0, 2, 2, 0, 2, 4, 1, 3, 2, 4, 0, 0, 0, 2, 0, 3, 0, 0, 2, 2, 2, 3, 1, 1, 0, 2, 0, 1, 1, 1, 2, 0, 0, 1, 2, 1, 1, 2, 2, 2, 0, 2, 0, 2, 0, 1, 2, 0, 1, 2, 1, 2, 0, 0, 0, 0, 0, 0, 0, 1, 0, 1, 0, 0, 0, 2, 0, 3, 3, 0, 2, 4, 2, 2, 3, 2, 0, 0, 4, 1, 0, 3, 2, 2, 1, 2, 1, 0, 0, 2, 2, 0, 2, 0, 1, 1, 1, 3, 2, 0, 1, 0, 0, 0, 0, 3, 0, 1, 2, 0, 2, 2, 2, 0, 4, 2, 0, 4, 2, 0, 0, 3, 0, 0, 2, 2, 0, 2, 2, 1, 2, 2, 2, 2, 0, 3, 1, 2, 0, 0, 1, 2, 0, 2, 2, 2, 0, 2, 2, 0, 0, 0, 3, 2, 2, 0, 3, 2, 1, 0, 0, 0, 0, 2, 2, 0, 0, 3, 1, 2, 0, 2, 0, 2, 2, 2, 0, 0, 0, 2, 2, 0, 0, 2, 0, 2, 0, 2, 0, 2, 4, 0, 2, 2, 2, 0, 1, 1, 3, 2, 2, 4, 1, 0, 0, 0, 2, 1, 2, 1, 1, 2, 0, 2, 2, 2, 1, 0, 1, 2, 0, 1, 4, 2, 0, 2, 0, 2, 0, 4, 0, 1, 3, 0, 2, 1, 4, 0, 0, 1, 0, 1, 0, 0, 1, 0, 3, 3, 3, 3, 0, 2, 2, 2, 2, 2, 2, 0, 3, 2, 1, 2, 1, 1, 2, 0, 3, 0, 2, 2, 2, 0, 2, 2, 2, 0, 1, 2, 2, 0, 2, 1, 2, 1, 3, 2, 2, 2, 0, 0, 2, 2, 2, 2, 1, 1, 2, 0, 1, 3, 3, 0, 0, 2, 0, 0, 3, 2, 2, 3, 3, 2, 1, 0, 1, 0, 0, 1, 4, 0, 1, 2, 2, 2, 2, 0, 2, 2, 0, 3, 0, 4, 0, 2, 2, 0, 0, 1, 0, 1, 0, 2, 1, 3, 0, 2, 4, 0, 2, 2, 2, 1, 0, 2, 0, 1, 1, 1, 0, 0, 2, 0, 2, 2, 0, 0, 2, 0, 0, 0, 2, 0, 1, 2, 4, 0, 0, 0, 1, 2, 1, 2, 2, 4, 3, 2, 1, 2, 0, 3, 3, 3, 0, 2, 2, 0, 1, 0, 0, 1, 1, 0, 0, 1, 4, 2, 2, 0, 0, 4, 3, 1, 1, 2, 4, 1, 2, 1, 0, 2, 1, 1, 1, 0, 0, 2, 0, 2, 2, 2, 1, 1, 1, 0, 2, 2, 0, 0, 2, 1, 0, 2, 2, 0, 2, 2, 0, 2, 0, 2, 1, 2, 0, 0, 0, 1, 0, 0, 0, 2, 0, 0, 0, 1, 2, 2, 0, 2, 0, 4, 0, 2, 2, 2, 1, 2, 0, 0, 0, 0, 3, 0, 2, 2, 0, 2, 2, 4, 2, 0, 1, 3, 0, 0, 0, 2, 2, 0, 0, 0, 1, 2, 0, 0, 2, 2, 1, 0, 2, 0, 0, 0, 0, 0, 2, 2, 2, 2, 1, 2, 1, 1, 2, 1, 4, 4, 2, 1, 2, 1, 2, 0, 0, 2, 0, 2, 0, 0, 3, 1, 1, 2, 3, 2, 2, 0, 2, 2, 2, 0, 1, 2, 2, 3, 0, 2, 0, 3, 0, 0, 1, 2, 1, 1, 2, 2, 2, 2, 1, 0, 1, 2, 2, 2, 1, 0, 2, 0, 2, 0, 0, 2, 0, 0, 2, 1, 0, 2, 1, 0, 3, 2, 0, 2, 1, 0, 3, 0, 1, 0, 2, 2, 0, 0, 2, 4, 2, 2, 1, 0, 2, 3, 4, 2, 2, 1, 1, 0, 0, 4, 2, 2, 2, 2, 2, 0, 0, 2, 2, 0, 0, 0, 0, 1, 0, 1, 2, 2, 4, 0, 3, 2, 2, 1, 1, 0, 0, 1, 0, 4, 2, 2, 0, 3, 2, 0, 2, 1, 2, 1, 2, 0, 0, 0, 1, 0, 1, 3, 0, 2, 0, 1, 2, 2, 4, 1, 2, 1, 2, 0, 1, 1, 1, 0, 0, 0, 2, 0, 0, 3, 2, 2, 2, 2, 0, 2, 0, 2, 0, 0, 2, 0, 4, 0, 0, 2, 0, 0, 0, 4, 0, 4, 3, 0, 3, 2, 0, 4, 2, 4, 2, 2, 0, 2, 1, 2, 0, 0, 0, 0, 2, 2, 0, 2, 2, 0, 0, 0, 2, 0, 0, 2, 4, 3, 3, 1, 0, 2, 0, 2, 0, 1, 0, 0, 0, 3, 3, 0, 2, 0, 1, 2, 0, 2, 2, 2, 0, 2, 0, 2, 1, 2, 2, 0, 2, 1, 1, 2, 1, 2, 0, 3, 0, 1, 2, 2, 0, 2, 4, 3, 2, 3, 1, 0, 3, 0, 0, 2, 2, 0, 0, 0, 0, 0, 2, 0, 0, 2, 0, 4, 2, 1, 1, 4, 1, 0, 0, 0, 0, 2, 1, 0, 0, 2, 1, 0, 2, 2, 2, 1, 2, 2, 0, 1, 2, 0, 2, 4, 0, 0, 1, 0, 2, 0, 2, 0, 2, 2, 2, 2, 0, 2, 2, 2, 2, 0, 2, 0, 0, 2, 0, 2, 1, 2, 0, 1, 2, 1, 4, 0, 1, 0, 0, 0, 0, 2, 2, 0, 1, 1, 0, 2, 2, 0, 2, 2, 0, 2, 4, 2, 4, 2, 2, 0, 1, 0, 0, 2, 0, 0, 0, 0, 2, 1, 2, 0, 2, 2, 2, 2, 3, 0, 2, 2, 1, 2, 2, 0, 3, 2, 2, 2, 2, 2, 0, 0, 0, 2, 0, 2, 4, 2, 1, 2, 0, 2, 0, 0, 0, 0, 2, 1, 1, 2, 3, 0, 2, 2, 0, 2, 0, 2, 2, 3, 3, 1, 1, 0, 2, 0, 0, 1, 2, 2, 0, 1, 1, 2, 2, 0, 0, 0, 0, 4, 2, 2, 1, 2, 0, 1, 1, 2, 0, 4, 2, 2, 2, 0, 0, 2, 2, 2, 0, 4, 2, 0, 0, 2, 0, 1, 3, 1, 0, 0, 0, 2, 0, 0, 2, 1, 0, 2, 0, 2, 3, 2, 2, 0, 1, 2, 2, 2, 0, 2, 3, 0, 0, 3, 0, 4, 2, 1, 0, 0, 0, 0, 0, 2, 0, 2, 0, 0, 2, 2, 2, 4, 1, 3, 2, 0, 1, 1, 2, 2, 0, 1, 0, 3, 2, 2, 2, 2, 0, 2, 4, 0, 0, 1, 0, 1, 4, 0, 2, 0, 1, 0, 0, 0, 2, 1, 2, 2, 0, 0, 2, 0, 0, 4, 2, 1, 2, 2, 2, 2, 2, 0, 0, 0, 2, 0, 0, 0, 2, 2, 1, 3, 0, 2, 2, 2, 0, 1, 1, 1, 0, 3, 2, 2, 2, 0, 2, 0, 1, 0, 0, 1, 2, 2, 0, 1, 0, 0, 0, 0, 2, 0, 2, 0, 1, 2, 1, 1, 0, 2, 4, 2, 0, 2, 1, 0, 2, 2, 2, 2, 2, 1, 2, 0, 1, 0, 2, 0, 0, 4, 0, 2, 1, 2, 0, 0, 0, 1, 0, 2, 0, 0, 3, 1, 2, 0, 0, 0, 2, 0, 4, 3, 4, 2, 1, 4, 0, 0, 1, 1, 1, 1, 4, 2, 2, 2, 1, 4, 1, 2, 1, 2, 1, 1, 2, 1, 4, 1, 2, 1, 1, 2, 0, 0, 2, 0, 4, 1, 2, 0, 2, 1, 2, 0, 2, 2, 2, 0, 0, 4, 1, 2, 2, 0, 4, 1, 2, 2, 0, 1, 2, 0, 2, 2, 1, 2, 2, 0, 1, 1, 0, 2, 2, 1, 2, 2, 3, 0, 2, 2, 2, 0, 3, 2, 0, 4, 2, 2, 0, 0, 4, 3, 0, 0, 0, 1, 0, 2, 2, 1, 0, 2, 2, 2, 0, 2, 1, 0, 2, 0, 1, 0, 2, 0, 3, 3, 2, 2, 2, 2, 0, 1, 0, 2, 0, 1, 0, 0, 0, 4, 2, 1, 1, 2, 2, 4, 2, 0, 0, 2, 1, 0, 2, 1, 2, 2, 3, 0, 1, 0, 0, 0, 4, 1, 2, 0, 0, 2, 2, 0, 0, 2, 0, 2, 1, 2, 2, 4, 4, 2, 0, 0, 2, 2, 1, 2, 0, 2, 0, 0, 0, 2, 2, 0, 0, 1, 1, 1, 0, 0, 0, 0, 2, 2, 3, 2, 0, 2, 2, 0, 1, 0, 2, 0, 0, 0, 2, 2, 0, 0, 2, 2, 0, 0, 0, 2, 2, 2, 0, 2, 1, 4, 2, 1, 2, 1, 2, 2, 0, 2, 1, 3, 3, 1, 2, 4, 4, 0, 2, 0, 2, 2, 0, 2, 0, 0, 2, 1, 3, 1, 0, 0, 2, 1, 2, 0, 1, 2, 4, 0, 2, 2, 2, 1, 2, 0, 2, 4, 0, 1, 2, 2, 0, 1, 0, 0, 4, 0, 0, 0, 0, 2, 0, 4, 0, 0, 2, 2, 0, 0, 2, 0, 1, 2, 2, 2, 1, 0, 2, 3, 1, 3, 4, 2, 2, 0, 0, 2, 3, 2, 2, 0, 1, 1, 2, 0, 2, 1, 0, 0, 0, 0, 2, 0, 3, 0, 1, 0, 0, 0, 0, 0, 1, 1, 0, 0, 1, 2, 2, 0, 0, 2, 4, 0, 2, 0, 1, 2, 1, 0, 1, 3, 0, 0, 0, 0, 1, 2, 0, 0, 2, 2, 1, 2, 0, 1, 4, 1, 2, 1, 1, 2, 3, 2, 2, 4, 2, 2, 1, 3, 3, 2, 2, 0, 1, 2, 0, 2, 2, 3, 1, 3, 0, 0, 1, 0, 1, 2, 0, 2, 2, 2, 1, 0, 1, 2, 1, 2, 1, 2, 0, 3, 1, 1, 0, 0, 4, 1, 2, 1, 2, 0, 1, 2, 2, 0, 0, 0, 2, 2, 0, 1, 2, 1, 2, 1, 0, 0, 0, 0, 2, 2, 2, 0, 0, 2, 2, 0, 2, 2, 2, 0, 2, 2, 4, 0, 1, 2, 2, 2, 0, 0, 0, 2, 4, 1, 2, 0, 2, 2, 1, 1, 2, 2, 1, 2, 4, 1, 0, 0, 2, 2, 1, 3, 1, 2, 1, 0, 0, 0, 1, 1, 2, 1, 2, 0, 1, 2, 0, 2, 0, 2, 1, 1, 0, 1, 0, 0, 0, 2, 4, 2, 0, 2, 2, 2, 2, 2, 0, 3, 0, 0, 2, 1, 0, 2, 2, 3, 0, 0, 0, 2, 1, 0, 2, 0, 0, 2, 2, 3, 2, 1, 1, 0, 0, 0, 0, 2, 1, 0, 2, 0, 0, 3]\n",
            "[0, 2, 0, 0, 1, 2, 0, 1, 2, 2, 0, 3, 0, 3, 2, 1, 0, 0, 0, 2, 2, 0, 2, 0, 0, 2, 3, 0, 0, 0, 0, 2, 0, 0, 3, 2, 0, 2, 2, 3, 0, 0, 2, 2, 1, 1, 0, 2, 1, 3, 0, 0, 2, 0, 3, 1, 0, 2, 0, 2, 0, 0, 3, 2, 2, 3, 1, 0, 0, 2, 0, 1, 1, 0, 0, 2, 0, 2, 3, 2, 0, 3, 0, 3, 0, 2, 0, 2, 3, 1, 0, 2, 2, 0, 0, 2, 1, 0, 0, 3, 2, 0, 0, 3, 0, 1, 1, 0, 0, 0, 1, 0, 0, 2, 0, 1, 0, 1, 2, 0, 0, 0, 2, 2, 0, 1, 0, 2, 0, 0, 0, 0, 2, 2, 0, 0, 0, 0, 0, 2, 0, 0, 0, 2, 0, 0, 1, 1, 2, 2, 0, 0, 2, 1, 2, 2, 2, 1, 0, 3, 3, 0, 2, 0, 0, 0, 0, 0, 1, 0, 0, 2, 2, 0, 3, 0, 2, 0, 0, 2, 1, 0, 0, 0, 0, 1, 1, 1, 0, 2, 2, 2, 0, 2, 0, 0, 1, 1, 1, 0, 3, 1, 0, 0, 0, 0, 1, 2, 0, 0, 0, 0, 0, 0, 0, 0, 0, 0, 1, 0, 3, 3, 0, 2, 3, 0, 0, 3, 2, 1, 2, 2, 0, 0, 0, 1, 0, 0, 0, 0, 2, 0, 0, 2, 0, 0, 0, 1, 3, 3, 1, 0, 3, 0, 2, 0, 3, 1, 2, 0, 0, 1, 1, 2, 1, 3, 0, 1, 2, 0, 2, 1, 0, 1, 0, 3, 2, 0, 0, 2, 0, 2, 0, 2, 2, 2, 2, 2, 1, 0, 3, 2, 0, 1, 0, 0, 3, 1, 0, 0, 0, 2, 3, 1, 2, 3, 1, 0, 2, 0, 0, 2, 0, 3, 2, 0, 1, 0, 0, 0, 0, 0, 0, 1, 0, 0, 0, 1, 3, 3, 0, 0, 2, 3, 3, 0, 0, 3, 0, 1, 0, 1, 1, 0, 0, 0, 2, 0, 0, 1, 2, 0, 3, 3, 0, 1, 0, 0, 0, 0, 3, 0, 0, 3, 0, 1, 0, 0, 0, 0, 1, 2, 0, 2, 0, 2, 3, 0, 2, 0, 0, 2, 2, 0, 0, 1, 0, 0, 2, 0, 0, 0, 1, 0, 3, 1, 2, 0, 0, 3, 0, 1, 0, 2, 0, 1, 0, 0, 2, 0, 2, 0, 0, 0, 0, 1, 2, 0, 3, 0, 2, 3, 0, 1, 3, 1, 0, 1, 1, 2, 0, 2, 2, 3, 1, 0, 0, 1, 0, 0, 1, 0, 2, 3, 2, 2, 2, 1, 2, 2, 0, 3, 0, 2, 3, 1, 3, 0, 2, 0, 2, 0, 0, 0, 0, 0, 0, 0, 0, 0, 0, 2, 0, 0, 0, 0, 0, 2, 0, 2, 0, 0, 2, 0, 0, 1, 0, 0, 0, 2, 0, 3, 0, 2, 0, 0, 0, 0, 2, 0, 1, 0, 1, 0, 0, 3, 0, 2, 0, 3, 1, 2, 2, 0, 2, 0, 2, 2, 0, 3, 2, 0, 0, 0, 0, 1, 0, 2, 2, 0, 0, 0, 3, 0, 3, 1, 3, 1, 0, 0, 0, 2, 0, 0, 0, 0, 1, 0, 2, 1, 2, 0, 3, 0, 2, 3, 2, 0, 1, 2, 0, 0, 0, 2, 0, 1, 2, 1, 2, 3, 1, 2, 0, 0, 2, 1, 0, 3, 2, 1, 3, 2, 2, 1, 2, 0, 2, 3, 2, 2, 2, 2, 2, 3, 2, 2, 0, 0, 2, 2, 0, 1, 0, 0, 2, 1, 2, 2, 2, 0, 0, 0, 0, 0, 2, 2, 0, 1, 2, 3, 0, 2, 0, 0, 2, 0, 0, 2, 3, 3, 3, 2, 0, 2, 3, 2, 3, 0, 3, 2, 2, 0, 0, 2, 0, 0, 0, 0, 2, 0, 0, 0, 3, 3, 2, 2, 0, 2, 1, 2, 0, 2, 1, 3, 1, 0, 0, 1, 3, 2, 2, 3, 3, 2, 3, 0, 3, 0, 0, 0, 2, 3, 3, 0, 3, 3, 1, 0, 3, 2, 0, 1, 2, 0, 3, 2, 1, 0, 2, 0, 3, 0, 0, 0, 0, 2, 2, 2, 0, 3, 0, 3, 2, 0, 2, 1, 0, 0, 2, 0, 2, 0, 1, 2, 0, 0, 1, 2, 0, 2, 1, 0, 0, 0, 2, 0, 0, 0, 0, 2, 3, 0, 0, 0, 1, 1, 0, 2, 0, 0, 0, 1, 3, 0, 0, 0, 1, 1, 0, 0, 0, 0, 0, 1, 3, 0, 2, 0, 0, 0, 0, 2, 3, 2, 0, 2, 0, 2, 0, 0, 0, 0, 2, 0, 2, 1, 3, 3, 0, 1, 2, 0, 0, 0, 2, 0, 1, 0, 0, 0, 0, 0, 1, 2, 2, 1, 1, 0, 0, 3, 1, 0, 0, 0, 0, 3, 2, 1, 0, 2, 2, 0, 0, 0, 0, 2, 3, 0, 0, 3, 1, 0, 0, 0, 0, 0, 0, 0, 0, 0, 0, 0, 2, 0, 0, 0, 0, 0, 0, 0, 1, 0, 2, 1, 0, 0, 0, 0, 1, 0, 0, 2, 0, 0, 0, 2, 2, 2, 0, 1, 0, 0, 2, 0, 0, 1, 2, 0, 0, 1, 0, 3, 0, 0, 3, 0, 0, 2, 2, 2, 0, 2, 0, 0, 0, 2, 0, 0, 0, 3, 0, 0, 3, 3, 2, 3, 0, 0, 1, 2, 0, 0, 2, 2, 2, 0, 0, 0, 0, 3, 0, 0, 0, 0, 0, 2, 2, 0, 2, 0, 0, 3, 3, 0, 3, 3, 2, 0, 2, 1, 1, 1, 1, 1, 0, 0, 2, 0, 0, 0, 2, 1, 0, 3, 0, 0, 0, 0, 0, 0, 0, 2, 2, 0, 3, 0, 2, 0, 2, 0, 0, 3, 0, 0, 0, 0, 1, 0, 0, 3, 2, 3, 1, 3, 0, 0, 1, 0, 3, 0, 2, 0, 1, 1, 0, 1, 2, 2, 0, 0, 2, 0, 2, 2, 0, 0, 3, 2, 3, 2, 3, 0, 1, 3, 0, 0, 0, 0, 0, 0, 1, 1, 0, 0, 2, 2, 2, 0, 2, 0, 0, 0, 2, 0, 2, 2, 0, 0, 2, 3, 0, 0, 0, 0, 3, 2, 2, 0, 0, 0, 2, 1, 2, 0, 2, 3, 0, 1, 0, 1, 0, 0, 1, 2, 0, 2, 3, 2, 3, 0, 1, 2, 0, 2, 0, 0, 0, 0, 1, 0, 3, 0, 2, 2, 2, 0, 0, 1, 1, 0, 0, 2, 1, 0, 2, 1, 1, 0, 0, 0, 0, 2, 3, 2, 0, 0, 0, 0, 1, 0, 0, 0, 1, 3, 0, 0, 0, 2, 0, 2, 2, 1, 2, 0, 2, 0, 0, 0, 0, 1, 0, 0, 3, 0, 0, 0, 2, 0, 0, 0, 1, 0, 0, 0, 0, 0, 0, 0, 2, 3, 3, 0, 1, 0, 0, 1, 0, 3, 0, 0, 1, 1, 0, 0, 2, 3, 0, 0, 0, 0, 0, 2, 0, 1, 1, 0, 2, 1, 0, 1, 2, 2, 2, 1, 0, 1, 0, 1, 3, 0, 0, 0, 0, 0, 1, 0, 2, 2, 0, 0, 0, 0, 0, 0, 0, 3, 1, 0, 0, 3, 0, 1, 0, 0, 0, 2, 0, 3, 3, 3, 3, 3, 2, 1, 0, 2, 1, 0, 1, 0, 3, 1, 0, 3, 0, 1, 2, 0, 0, 3, 2, 2, 0, 0, 1, 2, 1, 2, 2, 3, 0, 3, 0, 0, 0, 3, 0, 0, 1, 0, 1, 1, 3, 0, 3, 2, 3, 0, 1, 1, 0, 0, 0, 2, 2, 0, 2, 0, 0, 3, 0, 1, 3, 1, 0, 1, 2, 0, 1, 1, 0, 0, 0, 0, 0, 2, 0, 0, 0, 1, 2, 2, 0, 3, 0, 3, 0, 2, 0, 1, 2, 3, 0, 0, 1, 0, 2, 0, 3, 0, 3, 0, 0, 0, 2, 3, 0, 1, 3, 1, 0, 0, 2, 0, 0, 1, 1, 0, 2, 0, 0, 0, 2, 1, 0, 3, 0, 2, 1, 0, 0, 0, 0, 0, 1, 3, 2, 2, 2, 0, 0, 0, 0, 0, 1, 1, 0, 0, 0, 0, 0, 0, 2, 0, 0, 1, 2, 2, 2, 0, 0, 0, 0, 0, 1, 0, 0, 0, 2, 3, 0, 0, 2, 1, 2, 3, 0, 3, 1, 0, 0, 0, 0, 0, 3, 0, 2, 1, 2, 1, 3, 2, 0, 0, 0, 0, 1, 2, 3, 1, 1, 0, 2, 0, 2, 0, 1, 0, 0, 3, 1, 2, 0, 0, 0, 0, 0, 2, 1, 0, 2, 0, 2, 2, 0, 2, 3, 1, 0, 0, 1, 1, 2, 1, 0, 1, 2, 0, 2, 1, 0, 2, 2, 2, 3, 0, 0, 0, 2, 2, 0, 0, 2, 1, 1, 3, 1, 0, 0, 0, 0, 0, 0, 3, 1, 1, 3, 1, 3, 1, 0, 0, 1, 3, 2, 0, 1, 0, 1, 0, 2, 0, 3, 2, 1, 0, 1, 0, 0, 2, 0, 3, 0, 1, 2, 1, 0, 2, 2, 1, 0, 2, 0, 2, 2, 0, 0, 0, 1, 2, 0, 2, 0, 2, 3, 0, 2, 0, 3, 1, 2, 1, 1, 1, 0, 3, 0, 1, 0, 0, 2, 1, 0, 0, 2, 0, 1, 3, 3, 0, 0, 1, 0, 2, 0, 2, 1, 2, 2, 2, 3, 0, 0, 2, 0, 0, 2, 2, 3, 0, 0, 1, 0, 0, 2, 0, 2, 0, 1, 1, 2, 1, 2, 0, 0, 2, 2, 2, 2, 0, 2, 0, 2, 1, 0, 0, 0, 0, 1, 0, 0, 0, 2, 0, 3, 2, 0, 0, 2, 0, 0, 0, 0, 2, 2, 0, 0, 3, 3, 0, 2, 2, 1, 0, 2, 1, 3, 0, 0, 0, 0, 2, 2, 1, 0, 0, 1, 2, 0, 0, 2, 1, 3, 1, 2, 1, 2, 2, 0, 2, 3, 0, 0, 0, 0, 0, 0, 0, 2, 2, 0, 3, 1, 2, 0, 2, 2, 1, 0, 1, 0, 0, 0, 2, 1, 0, 0, 0, 2, 0, 3, 0, 0, 2, 2, 0, 1, 0, 2, 2, 2, 3, 0, 0, 3, 0, 2, 3, 2, 0, 2, 0, 1, 0, 0, 1, 1, 0, 0, 2, 3, 0, 2, 0, 0, 2, 2, 2, 0, 3, 1, 0, 0, 0, 0, 0, 2, 0, 1, 0, 0, 0, 0, 0, 0, 0, 1, 2, 0, 2, 3, 3, 0, 2, 0, 0, 3, 3, 2, 0, 2, 0, 3, 0, 1, 0, 2, 0, 0, 3, 0, 0, 1, 2, 1, 0, 0, 1, 0, 0, 1, 0, 2, 2, 2, 3, 0, 0, 1, 0, 0, 2, 0, 0, 0, 0, 3, 0, 0, 0, 0, 2, 1, 2, 0, 1, 3, 1, 0, 0, 0, 1, 0, 2, 2, 0, 0, 2, 1, 0, 0, 0, 0, 1, 0, 0, 1, 2, 2, 2, 3, 0, 2, 0, 0, 0, 0, 2, 0, 0, 0, 2, 0, 0, 0, 3, 0, 0, 3, 0, 1, 2, 2, 1, 1, 2, 1, 0, 0, 0, 2, 2, 2, 0, 3, 0, 1, 2, 0, 0, 1, 2, 1, 2, 0, 0, 0, 1, 0, 1, 2, 1, 2, 3, 0, 0, 2, 2, 1, 0, 0, 3, 0, 2, 0, 0, 2, 0, 0, 1, 1, 3, 0, 0, 0, 2, 0, 3, 0, 0, 1, 0, 2, 3, 0, 0, 0, 2, 0, 0, 2, 1, 2, 1, 0, 0, 2, 1, 1, 2, 2, 2, 0, 2, 0, 2, 0, 0, 2, 0, 0, 2, 1, 2, 0, 0, 0, 0, 2, 0, 1, 1, 0, 1, 0, 0, 0, 2, 0, 2, 3, 0, 1, 3, 2, 2, 2, 0, 0, 0, 3, 0, 0, 2, 2, 2, 0, 2, 0, 0, 0, 0, 1, 1, 2, 0, 1, 0, 0, 3, 1, 0, 0, 0, 1, 0, 0, 2, 0, 0, 1, 0, 0, 0, 2, 0, 3, 2, 0, 3, 1, 0, 0, 3, 0, 0, 1, 1, 0, 2, 2, 1, 2, 2, 2, 1, 0, 2, 0, 3, 0, 0, 0, 3, 0, 2, 3, 2, 0, 2, 1, 0, 0, 0, 3, 0, 2, 0, 3, 2, 1, 0, 0, 0, 0, 2, 2, 0, 0, 2, 0, 0, 1, 2, 0, 2, 2, 1, 0, 0, 0, 2, 0, 0, 0, 2, 0, 1, 0, 2, 0, 0, 3, 0, 0, 2, 2, 0, 1, 0, 3, 2, 0, 3, 0, 0, 0, 0, 2, 1, 0, 0, 0, 2, 1, 0, 2, 3, 1, 0, 0, 2, 1, 0, 3, 2, 0, 1, 0, 1, 0, 3, 0, 0, 3, 0, 1, 0, 3, 0, 0, 0, 0, 0, 0, 0, 0, 0, 2, 3, 3, 2, 0, 2, 2, 2, 2, 2, 0, 0, 3, 1, 1, 0, 0, 0, 2, 0, 2, 0, 1, 2, 2, 0, 2, 2, 2, 0, 0, 3, 2, 0, 2, 0, 0, 1, 1, 2, 2, 1, 0, 0, 1, 2, 2, 1, 0, 0, 0, 0, 1, 0, 2, 0, 0, 1, 0, 0, 3, 2, 2, 3, 3, 0, 0, 0, 0, 0, 0, 0, 3, 0, 0, 3, 2, 1, 2, 0, 1, 2, 0, 2, 1, 3, 0, 1, 2, 0, 0, 0, 0, 1, 1, 2, 1, 2, 1, 0, 3, 0, 2, 2, 2, 0, 0, 2, 1, 0, 2, 0, 0, 0, 2, 0, 2, 0, 0, 0, 2, 0, 0, 0, 2, 0, 0, 1, 2, 0, 0, 0, 1, 0, 0, 2, 2, 3, 3, 2, 1, 1, 0, 3, 3, 1, 0, 2, 2, 0, 1, 0, 0, 1, 0, 0, 0, 1, 3, 2, 1, 0, 0, 3, 2, 1, 2, 2, 3, 0, 2, 0, 0, 0, 0, 1, 0, 0, 0, 2, 0, 1, 2, 1, 0, 0, 2, 0, 2, 2, 0, 0, 3, 0, 0, 2, 2, 0, 2, 0, 0, 1, 0, 2, 0, 2, 0, 0, 0, 0, 0, 0, 0, 2, 0, 0, 0, 0, 0, 2, 1, 2, 0, 3, 1, 2, 1, 2, 0, 3, 0, 0, 0, 0, 3, 0, 0, 2, 0, 1, 2, 3, 1, 0, 0, 2, 0, 0, 0, 2, 0, 0, 0, 0, 0, 2, 0, 0, 2, 2, 0, 0, 3, 0, 0, 0, 0, 0, 2, 2, 1, 2, 0, 2, 0, 0, 2, 0, 2, 3, 2, 0, 1, 0, 2, 0, 0, 1, 0, 2, 0, 0, 2, 0, 1, 2, 2, 2, 1, 0, 1, 2, 1, 0, 0, 2, 0, 2, 0, 2, 0, 3, 0, 0, 1, 0, 0, 1, 0, 3, 0, 2, 0, 0, 1, 3, 3, 2, 1, 0, 1, 0, 2, 0, 1, 3, 0, 0, 2, 1, 1, 1, 0, 0, 3, 3, 0, 2, 0, 0, 2, 0, 0, 0, 2, 2, 0, 0, 0, 3, 2, 2, 1, 0, 1, 2, 3, 2, 0, 0, 0, 1, 0, 3, 2, 2, 2, 0, 2, 0, 1, 1, 2, 0, 0, 0, 0, 0, 0, 0, 1, 3, 2, 0, 3, 0, 1, 2, 0, 0, 0, 0, 0, 3, 2, 1, 0, 1, 2, 0, 2, 0, 2, 0, 2, 0, 0, 0, 0, 0, 1, 2, 1, 2, 0, 0, 0, 2, 3, 1, 1, 0, 1, 0, 1, 0, 0, 0, 0, 0, 1, 0, 0, 2, 1, 2, 3, 2, 0, 2, 0, 1, 0, 0, 2, 0, 3, 0, 1, 2, 2, 0, 0, 3, 0, 3, 3, 0, 2, 3, 0, 0, 2, 3, 2, 2, 0, 2, 1, 2, 0, 0, 0, 0, 2, 1, 0, 1, 1, 2, 0, 0, 2, 0, 1, 2, 3, 3, 3, 1, 0, 0, 0, 2, 0, 1, 0, 0, 1, 2, 3, 0, 0, 0, 0, 2, 0, 2, 2, 1, 0, 1, 0, 0, 0, 3, 2, 0, 2, 1, 0, 2, 2, 2, 0, 3, 0, 2, 2, 1, 0, 0, 3, 2, 0, 3, 0, 1, 3, 0, 0, 0, 1, 0, 0, 0, 0, 0, 0, 0, 0, 2, 0, 3, 2, 0, 1, 3, 0, 0, 0, 0, 0, 1, 1, 0, 0, 2, 0, 0, 2, 2, 2, 0, 1, 2, 0, 0, 1, 1, 0, 3, 0, 0, 0, 0, 1, 0, 2, 0, 0, 2, 2, 2, 0, 1, 3, 1, 2, 0, 2, 0, 0, 1, 0, 2, 0, 2, 1, 0, 0, 1, 3, 0, 0, 0, 0, 0, 0, 1, 2, 0, 1, 1, 0, 3, 1, 0, 2, 2, 0, 2, 3, 2, 3, 2, 3, 0, 0, 0, 0, 1, 0, 0, 0, 0, 2, 0, 2, 0, 2, 2, 2, 2, 3, 0, 2, 2, 0, 2, 2, 0, 3, 2, 1, 2, 2, 2, 0, 0, 0, 2, 0, 1, 3, 0, 0, 2, 0, 0, 0, 0, 0, 0, 2, 1, 0, 2, 2, 0, 2, 2, 0, 1, 1, 1, 2, 2, 3, 1, 1, 0, 1, 0, 0, 0, 2, 1, 0, 0, 1, 1, 2, 0, 0, 0, 0, 3, 2, 2, 1, 2, 0, 0, 0, 2, 1, 2, 2, 2, 2, 0, 0, 2, 2, 3, 0, 2, 1, 0, 0, 1, 0, 1, 0, 1, 0, 2, 0, 0, 0, 0, 3, 0, 0, 2, 0, 2, 3, 3, 1, 0, 0, 2, 2, 0, 0, 3, 3, 0, 0, 2, 0, 3, 2, 0, 0, 0, 0, 0, 0, 1, 0, 2, 0, 0, 1, 2, 2, 3, 0, 3, 0, 0, 0, 0, 1, 1, 0, 0, 0, 3, 1, 3, 1, 2, 0, 2, 3, 0, 0, 0, 0, 1, 3, 0, 1, 0, 0, 0, 1, 0, 2, 1, 2, 2, 0, 0, 2, 1, 0, 2, 1, 0, 2, 0, 2, 3, 2, 0, 1, 0, 2, 0, 0, 0, 2, 2, 1, 3, 0, 2, 0, 2, 0, 0, 0, 1, 0, 2, 2, 3, 2, 1, 1, 0, 2, 0, 0, 0, 0, 1, 0, 0, 0, 0, 0, 0, 1, 0, 2, 0, 0, 2, 0, 1, 0, 2, 3, 2, 1, 1, 0, 0, 2, 2, 2, 2, 2, 1, 2, 0, 1, 0, 2, 0, 1, 3, 0, 2, 0, 2, 0, 0, 0, 0, 0, 2, 0, 0, 3, 0, 1, 0, 0, 0, 2, 1, 3, 3, 3, 3, 0, 3, 0, 0, 1, 1, 1, 1, 3, 2, 1, 2, 1, 1, 1, 1, 0, 1, 0, 1, 3, 2, 3, 1, 2, 0, 0, 0, 0, 0, 2, 0, 3, 1, 2, 1, 1, 1, 0, 0, 3, 2, 2, 0, 0, 3, 0, 1, 2, 0, 3, 1, 2, 2, 0, 1, 0, 0, 3, 2, 0, 1, 1, 0, 0, 2, 0, 0, 2, 0, 1, 0, 2, 0, 2, 2, 2, 0, 2, 1, 0, 3, 0, 3, 0, 0, 3, 3, 0, 0, 0, 2, 0, 2, 2, 0, 0, 2, 2, 2, 0, 1, 1, 0, 2, 0, 1, 0, 2, 0, 3, 2, 1, 1, 2, 2, 1, 0, 0, 0, 0, 0, 0, 0, 0, 3, 2, 1, 1, 2, 1, 3, 0, 0, 0, 0, 0, 0, 2, 1, 2, 3, 2, 0, 0, 0, 0, 0, 3, 1, 2, 0, 0, 2, 1, 0, 0, 2, 0, 1, 0, 1, 2, 3, 2, 1, 1, 0, 1, 3, 2, 1, 0, 2, 0, 0, 0, 0, 2, 0, 0, 1, 0, 0, 0, 0, 0, 0, 2, 1, 3, 1, 0, 2, 1, 1, 1, 0, 0, 0, 0, 0, 2, 1, 2, 0, 2, 2, 1, 1, 0, 2, 1, 0, 1, 1, 0, 3, 0, 1, 2, 2, 2, 1, 0, 2, 1, 2, 2, 0, 2, 3, 2, 0, 1, 0, 0, 2, 0, 2, 0, 0, 2, 0, 2, 0, 0, 0, 0, 2, 1, 1, 1, 1, 3, 0, 1, 2, 2, 0, 3, 0, 2, 3, 0, 0, 2, 2, 0, 0, 0, 0, 3, 0, 0, 0, 0, 2, 0, 3, 0, 0, 2, 2, 0, 0, 1, 0, 1, 2, 2, 0, 0, 0, 0, 3, 0, 3, 3, 2, 2, 0, 0, 2, 3, 3, 1, 0, 0, 0, 0, 0, 3, 1, 0, 0, 0, 0, 2, 0, 2, 0, 0, 0, 1, 0, 0, 0, 2, 0, 0, 0, 0, 3, 1, 0, 0, 1, 3, 0, 2, 0, 1, 2, 0, 0, 0, 2, 0, 0, 0, 0, 0, 2, 0, 0, 2, 2, 0, 2, 0, 0, 3, 2, 3, 0, 0, 2, 3, 2, 3, 3, 1, 2, 0, 3, 2, 1, 2, 0, 0, 2, 0, 2, 3, 3, 1, 3, 0, 0, 1, 0, 1, 2, 0, 1, 0, 2, 0, 0, 0, 2, 0, 3, 0, 2, 0, 3, 0, 0, 0, 0, 2, 1, 1, 0, 2, 0, 1, 2, 2, 0, 0, 0, 2, 3, 0, 0, 3, 0, 3, 0, 0, 0, 0, 0, 0, 0, 2, 0, 0, 2, 3, 0, 2, 1, 2, 0, 1, 2, 2, 2, 1, 2, 1, 1, 0, 0, 0, 2, 3, 1, 2, 0, 0, 2, 0, 0, 2, 2, 0, 1, 3, 1, 0, 0, 2, 0, 1, 3, 1, 0, 0, 0, 0, 0, 2, 0, 2, 0, 1, 0, 0, 1, 1, 1, 0, 1, 1, 1, 0, 0, 0, 0, 0, 1, 3, 2, 0, 0, 1, 2, 3, 2, 1, 3, 0, 0, 2, 0, 0, 1, 2, 2, 0, 0, 0, 2, 0, 0, 0, 1, 1, 2, 2, 2, 2, 0, 0, 0, 0, 0, 0, 2, 1, 0, 1, 0, 0, 2]\n"
          ],
          "name": "stdout"
        }
      ]
    },
    {
      "cell_type": "code",
      "metadata": {
        "id": "QwJoNwrefzIJ",
        "colab_type": "code",
        "colab": {}
      },
      "source": [
        "import sklearn.metrics\n",
        "\n",
        "sklearn.metrics.cohen_kappa_score(true_labels, predictions, weights='quadratic')"
      ],
      "execution_count": 0,
      "outputs": []
    }
  ]
}