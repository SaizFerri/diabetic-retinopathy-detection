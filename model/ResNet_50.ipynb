{
  "nbformat": 4,
  "nbformat_minor": 0,
  "metadata": {
    "colab": {
      "name": "ResNet-50.ipynb",
      "provenance": [],
      "collapsed_sections": [],
      "machine_shape": "hm"
    },
    "kernelspec": {
      "name": "python3",
      "display_name": "Python 3"
    },
    "accelerator": "GPU"
  },
  "cells": [
    {
      "cell_type": "code",
      "metadata": {
        "id": "XS2IOlH3aKZ6",
        "colab_type": "code",
        "colab": {}
      },
      "source": [
        "#!pip install --upgrade tensorflow-gpu==2.1.0rc0 tensorflow==2.1.0rc0"
      ],
      "execution_count": 0,
      "outputs": []
    },
    {
      "cell_type": "code",
      "metadata": {
        "id": "ugzzDhrzSrWe",
        "colab_type": "code",
        "outputId": "5163fdc3-d6a1-4b83-bff5-8476162ff548",
        "colab": {
          "base_uri": "https://localhost:8080/",
          "height": 34
        }
      },
      "source": [
        " %tensorflow_version 2.x"
      ],
      "execution_count": 2,
      "outputs": [
        {
          "output_type": "stream",
          "text": [
            "TensorFlow 2.x selected.\n"
          ],
          "name": "stdout"
        }
      ]
    },
    {
      "cell_type": "code",
      "metadata": {
        "id": "aAiLPXWcfJFu",
        "colab_type": "code",
        "outputId": "2b6f0412-a622-4018-e99b-0f67975e01a9",
        "colab": {
          "base_uri": "https://localhost:8080/",
          "height": 34
        }
      },
      "source": [
        "import tensorflow as tf\n",
        "import tensorflow.keras as keras\n",
        "import tensorflow.keras.layers as layers\n",
        "\n",
        "import cv2 as cv\n",
        "import numpy as np\n",
        "import matplotlib.pyplot as plt\n",
        "import pandas as pd\n",
        "\n",
        "import imgaug as ia\n",
        "from imgaug import augmenters as iaa\n",
        "\n",
        "from datetime import datetime\n",
        "\n",
        "import csv\n",
        "import os\n",
        "import re\n",
        "import math\n",
        "\n",
        "import h5py\n",
        "\n",
        "#tf.config.experimental_run_functions_eagerly(True)\n",
        "print(tf.__version__)"
      ],
      "execution_count": 3,
      "outputs": [
        {
          "output_type": "stream",
          "text": [
            "2.1.0-rc1\n"
          ],
          "name": "stdout"
        }
      ]
    },
    {
      "cell_type": "code",
      "metadata": {
        "id": "K8Dk7kXUkrYw",
        "colab_type": "code",
        "colab": {
          "base_uri": "https://localhost:8080/",
          "height": 122
        },
        "outputId": "63576bff-3589-498a-9378-208cda4d451a"
      },
      "source": [
        "# Mount the google drive folder with the data\n",
        "from google.colab import drive\n",
        "\n",
        "drive.mount('/content/drive')"
      ],
      "execution_count": 4,
      "outputs": [
        {
          "output_type": "stream",
          "text": [
            "Go to this URL in a browser: https://accounts.google.com/o/oauth2/auth?client_id=947318989803-6bn6qk8qdgf4n4g3pfee6491hc0brc4i.apps.googleusercontent.com&redirect_uri=urn%3aietf%3awg%3aoauth%3a2.0%3aoob&response_type=code&scope=email%20https%3a%2f%2fwww.googleapis.com%2fauth%2fdocs.test%20https%3a%2f%2fwww.googleapis.com%2fauth%2fdrive%20https%3a%2f%2fwww.googleapis.com%2fauth%2fdrive.photos.readonly%20https%3a%2f%2fwww.googleapis.com%2fauth%2fpeopleapi.readonly\n",
            "\n",
            "Enter your authorization code:\n",
            "··········\n",
            "Mounted at /content/drive\n"
          ],
          "name": "stdout"
        }
      ]
    },
    {
      "cell_type": "code",
      "metadata": {
        "id": "hViNMvax20dt",
        "colab_type": "code",
        "colab": {}
      },
      "source": [
        "# Paths of the data\n",
        "DATASET_PATH    = '/content/drive/My Drive/retina_images/'\n",
        "CHECKPOINT_PATH = DATASET_PATH + '/checkpoints/'\n",
        "DATA_SRC_PATH   = DATASET_PATH + '/data/'\n",
        "\n",
        "TEMP_PATH       = '/content/'\n",
        "DATA_PATH       = TEMP_PATH + '/data/'"
      ],
      "execution_count": 0,
      "outputs": []
    },
    {
      "cell_type": "code",
      "metadata": {
        "id": "RGr0KIVHkvUl",
        "colab_type": "code",
        "colab": {}
      },
      "source": [
        "# unzip the .zip files to the local /content/data of the notebook\n",
        "!unzip -q -n -d '{DATA_PATH}' '{DATASET_PATH+\"/train_dst.zip\"}'\n",
        "!unzip -q -n -d '{DATA_PATH}' '{DATASET_PATH+\"/test_dst.zip\"}'"
      ],
      "execution_count": 0,
      "outputs": []
    },
    {
      "cell_type": "code",
      "metadata": {
        "id": "a_5aYvyLkvfA",
        "colab_type": "code",
        "outputId": "e688a20c-1167-434e-b7c3-be3746e60e4c",
        "colab": {
          "base_uri": "https://localhost:8080/",
          "height": 357
        }
      },
      "source": [
        "!dir '{DATA_PATH}/train_dst' | head\n",
        "!dir '{DATA_PATH}/test_dst' | head"
      ],
      "execution_count": 7,
      "outputs": [
        {
          "output_type": "stream",
          "text": [
            "10003_left.jpeg   19968_left.jpeg   30000_left.jpeg   39972_right.jpeg\n",
            "10003_right.jpeg  19968_right.jpeg  30000_right.jpeg  39975_left.jpeg\n",
            "10007_left.jpeg   19970_left.jpeg   30004_left.jpeg   39975_right.jpeg\n",
            "10007_right.jpeg  19970_right.jpeg  30004_right.jpeg  39978_left.jpeg\n",
            "10009_left.jpeg   19972_left.jpeg   3000_left.jpeg    39978_right.jpeg\n",
            "10009_right.jpeg  19972_right.jpeg  3000_right.jpeg   39981_left.jpeg\n",
            "1000_left.jpeg\t  19975_left.jpeg   30012_left.jpeg   39981_right.jpeg\n",
            "1000_right.jpeg   19975_right.jpeg  30012_right.jpeg  39982_left.jpeg\n",
            "10010_left.jpeg   19976_left.jpeg   30015_left.jpeg   39982_right.jpeg\n",
            "10010_right.jpeg  19976_right.jpeg  30015_right.jpeg  39983_left.jpeg\n",
            "10000_left.jpeg   19996_right.jpeg  29928_right.jpeg  39921_right.jpeg\n",
            "10000_right.jpeg  19997_left.jpeg   29930_left.jpeg   39922_left.jpeg\n",
            "10001_left.jpeg   19997_right.jpeg  29930_right.jpeg  39922_right.jpeg\n",
            "10001_right.jpeg  19998_left.jpeg   29931_left.jpeg   39923_left.jpeg\n",
            "10002_right.jpeg  19998_right.jpeg  29931_right.jpeg  39923_right.jpeg\n",
            "10004_left.jpeg   19999_left.jpeg   29932_left.jpeg   39925_left.jpeg\n",
            "10004_right.jpeg  19999_right.jpeg  29932_right.jpeg  39925_right.jpeg\n",
            "10005_left.jpeg   1_left.jpeg\t    29934_left.jpeg   39927_left.jpeg\n",
            "10005_right.jpeg  1_right.jpeg\t    29934_right.jpeg  39927_right.jpeg\n",
            "10006_left.jpeg   20000_left.jpeg   29936_left.jpeg   39928_left.jpeg\n"
          ],
          "name": "stdout"
        }
      ]
    },
    {
      "cell_type": "code",
      "metadata": {
        "id": "Sua7Dxkmcu2G",
        "colab_type": "code",
        "colab": {}
      },
      "source": [
        "#!apt-get install libimage-size-perl"
      ],
      "execution_count": 0,
      "outputs": []
    },
    {
      "cell_type": "code",
      "metadata": {
        "id": "upqEsJYlJdJW",
        "colab_type": "code",
        "colab": {}
      },
      "source": [
        "#!imgsize '/content/data/train_dst/10003_left.jpeg'"
      ],
      "execution_count": 0,
      "outputs": []
    },
    {
      "cell_type": "code",
      "metadata": {
        "id": "2vj4dDYfNo3v",
        "colab_type": "code",
        "outputId": "9ec76786-8ad7-4b0d-c88a-624ffb6c8e14",
        "colab": {
          "base_uri": "https://localhost:8080/",
          "height": 68
        }
      },
      "source": [
        "!curl https://raw.githubusercontent.com/tensorflow/addons/5f9f36c03a5b132da4fe447dfa9df472ab7ea0df/tensorflow_addons/metrics/cohens_kappa.py -O"
      ],
      "execution_count": 10,
      "outputs": [
        {
          "output_type": "stream",
          "text": [
            "  % Total    % Received % Xferd  Average Speed   Time    Time     Time  Current\n",
            "                                 Dload  Upload   Total   Spent    Left  Speed\n",
            "\r  0     0    0     0    0     0      0      0 --:--:-- --:--:-- --:--:--     0\r  0     0    0     0    0     0      0      0 --:--:-- --:--:-- --:--:--     0\r100  7223  100  7223    0     0  31541      0 --:--:-- --:--:-- --:--:-- 31404\n"
          ],
          "name": "stdout"
        }
      ]
    },
    {
      "cell_type": "code",
      "metadata": {
        "id": "SOb8m4YyNp4o",
        "colab_type": "code",
        "outputId": "9f43155c-7ae4-4859-91a0-bc13eee0f267",
        "colab": {
          "base_uri": "https://localhost:8080/",
          "height": 34
        }
      },
      "source": [
        "%%writefile cohens_kappa_fix.patch\n",
        "--- cohens_kappa.py\t2019-12-30 19:47:55.000745582 +0100\n",
        "+++ cohens_kappa_fix.py\t2019-12-30 19:50:25.117155527 +0100\n",
        "@@ -115,9 +115,10 @@\n",
        "         y_true = tf.cast(y_true, dtype=tf.int64)\n",
        "         y_pred = tf.cast(y_pred, dtype=tf.int64)\n",
        " \n",
        "-        if y_true.shape != y_pred.shape:\n",
        "-            raise ValueError(\n",
        "-                \"Number of samples in `y_true` and `y_pred` are different\")\n",
        "+        tf.debugging.assert_equal(\n",
        "+            tf.shape(y_true),\n",
        "+            tf.shape(y_pred),\n",
        "+            message=\"Number of samples in `y_true` and `y_pred` are different\")\n",
        " \n",
        "         # compute the new values of the confusion matrix\n",
        "         new_conf_mtx = tf.math.confusion_matrix("
      ],
      "execution_count": 11,
      "outputs": [
        {
          "output_type": "stream",
          "text": [
            "Writing cohens_kappa_fix.patch\n"
          ],
          "name": "stdout"
        }
      ]
    },
    {
      "cell_type": "code",
      "metadata": {
        "id": "IhzuI6vFOT6p",
        "colab_type": "code",
        "outputId": "d08bbc5e-0023-4943-fd3b-57702bf915cd",
        "colab": {
          "base_uri": "https://localhost:8080/",
          "height": 34
        }
      },
      "source": [
        "!echo \"\" >> cohens_kappa_fix.patch\n",
        "!patch cohens_kappa.py < cohens_kappa_fix.patch"
      ],
      "execution_count": 12,
      "outputs": [
        {
          "output_type": "stream",
          "text": [
            "patching file cohens_kappa.py\n"
          ],
          "name": "stdout"
        }
      ]
    },
    {
      "cell_type": "code",
      "metadata": {
        "id": "IGcpmwYkOV5D",
        "colab_type": "code",
        "colab": {}
      },
      "source": [
        "%run -i cohens_kappa.py"
      ],
      "execution_count": 0,
      "outputs": []
    },
    {
      "cell_type": "markdown",
      "metadata": {
        "id": "fyCArTJB947T",
        "colab_type": "text"
      },
      "source": [
        "# ResNet-50 architecture\n",
        "### Identity Block"
      ]
    },
    {
      "cell_type": "code",
      "metadata": {
        "colab_type": "code",
        "id": "GZKt3pusexbj",
        "cellView": "code",
        "colab": {}
      },
      "source": [
        "# Build the identity block\n",
        "class IdentityBlock():\n",
        "  def __init__(self, kernel_size, filters, name, **kwargs):\n",
        "    '''\n",
        "      kernel_size: (tuple) size of the filter (kernel)\n",
        "      filters: number of filters (kernels)\n",
        "      name: base name for the block\n",
        "    '''\n",
        "\n",
        "    self.kernel_size = kernel_size\n",
        "    self.filters = filters\n",
        "    self.expansion = 4\n",
        "    self.name = name\n",
        "\n",
        "    self.__build()\n",
        "  \n",
        "  def __build(self):\n",
        "    base_name = 'conv'+str(self.name['layer'])+'_block'+str(self.name['inner'])+'_'\n",
        "\n",
        "    self.conv1 = layers.Conv2D(self.filters, (1, 1), name=base_name+'1_conv')\n",
        "    self.bn1 = layers.BatchNormalization(name=base_name+'1_bn')\n",
        "    self.relu1 = layers.Activation('relu', name='activation_'+str(self.name['activation']))\n",
        "\n",
        "    self.conv2 = layers.Conv2D(self.filters, self.kernel_size, padding='same', name=base_name+'2_conv')\n",
        "    self.bn2 = layers.BatchNormalization(name=base_name+'2_bn')\n",
        "    self.relu2 = layers.Activation('relu', name='activation_'+str(self.name['activation'] + 1))\n",
        "\n",
        "    self.conv3 = layers.Conv2D(self.filters*self.expansion, (1, 1), name=base_name+'3_conv')\n",
        "    self.bn3 = layers.BatchNormalization(name=base_name+'3_bn')\n",
        "    self.relu3 = layers.Activation('relu', name='activation_'+str(self.name['activation'] + 2))\n",
        "\n",
        "\n",
        "  def __call__(self, input_tensor):\n",
        "    x = self.conv1(input_tensor)\n",
        "    x = self.bn1(x)\n",
        "    x = self.relu1(x)\n",
        "\n",
        "    x = self.conv2(x)\n",
        "    x = self.bn2(x)\n",
        "    x = self.relu2(x)\n",
        "\n",
        "    x = self.conv3(x)\n",
        "    x = self.bn3(x)\n",
        "\n",
        "    x = layers.add([x, input_tensor], name=self.name['merge'])\n",
        "    return self.relu3(x)"
      ],
      "execution_count": 0,
      "outputs": []
    },
    {
      "cell_type": "markdown",
      "metadata": {
        "id": "-0axcqaS-AiH",
        "colab_type": "text"
      },
      "source": [
        "## Convolutional Block\n",
        "\n",
        "Expands the input depth through a 1x1 convolution to allow the addition with the output of the block"
      ]
    },
    {
      "cell_type": "code",
      "metadata": {
        "id": "5uOMc761uE5S",
        "colab_type": "code",
        "colab": {}
      },
      "source": [
        "# Build the conv block\n",
        "class ConvBlock():\n",
        "  def __init__(self, kernel_size, filters, name, strides=(2, 2), **kwargs):\n",
        "    '''\n",
        "      kernel_size: (tuple) size of the filter (kernel)\n",
        "      filters: number of filters (kernels)\n",
        "      name: base name for the block\n",
        "      strides: (tuple) with the size of the stride \n",
        "    '''\n",
        "\n",
        "    self.kernel_size = kernel_size\n",
        "    self.filters = filters\n",
        "    self.strides = strides\n",
        "    self.expansion = 4\n",
        "    self.name = name\n",
        "    self.__build()\n",
        "\n",
        "\n",
        "  def __build(self):\n",
        "    base_name = 'conv'+str(self.name['layer'])+'_block'+str(self.name['inner'])+'_'\n",
        "\n",
        "    self.conv1 = layers.Conv2D(self.filters, (1, 1), strides=self.strides, name=base_name+'1_conv')\n",
        "    self.bn1 = layers.BatchNormalization(name=base_name+'1_bn')\n",
        "    self.relu1 = layers.Activation('relu', name='activation_'+str(self.name['activation']))\n",
        "\n",
        "    self.conv2 = layers.Conv2D(self.filters, self.kernel_size, padding='same', name=base_name+'2_conv')\n",
        "    self.bn2 = layers.BatchNormalization(name=base_name+'2_bn')\n",
        "    self.relu2 = layers.Activation('relu', name='activation_'+str(self.name['activation'] + 1))\n",
        "\n",
        "    self.conv3 = layers.Conv2D(self.filters*self.expansion, (1, 1), name=base_name+'3_conv')\n",
        "    self.bn3 = layers.BatchNormalization(name=base_name+'3_bn')\n",
        "    self.relu3 = layers.Activation('relu', name='activation_'+str(self.name['activation'] + 2))\n",
        "\n",
        "    self.shortcut_conv = layers.Conv2D(self.filters*self.expansion, (1, 1), strides=self.strides, name=base_name+'0_conv')\n",
        "    self.shortcut_bn = layers.BatchNormalization(name=base_name+'0_bn')\n",
        "\n",
        "\n",
        "  def __call__(self, input_tensor):\n",
        "    x = self.conv1(input_tensor)\n",
        "    x = self.bn1(x)\n",
        "    x = self.relu1(x)\n",
        "\n",
        "    x = self.conv2(x)\n",
        "    x = self.bn2(x)\n",
        "    x = self.relu2(x)\n",
        "\n",
        "    x = self.conv3(x)\n",
        "    x = self.bn3(x)\n",
        "\n",
        "    shortcut = self.shortcut_conv(input_tensor)\n",
        "    shortcut = self.shortcut_bn(shortcut)\n",
        "\n",
        "    x = layers.add([x, shortcut], name=self.name['merge'])\n",
        "    return self.relu3(x)"
      ],
      "execution_count": 0,
      "outputs": []
    },
    {
      "cell_type": "markdown",
      "metadata": {
        "id": "r63sqVDZ-pnd",
        "colab_type": "text"
      },
      "source": [
        "## Build the full network"
      ]
    },
    {
      "cell_type": "code",
      "metadata": {
        "id": "6jrCyAEDmpE6",
        "colab_type": "code",
        "colab": {}
      },
      "source": [
        "# Build the ResNet\n",
        "class ResNet():\n",
        "  def __init__(self, classes=5):\n",
        "    '''\n",
        "      classes: number of output classes\n",
        "    '''\n",
        "    \n",
        "    self._layers = []\n",
        "    self.classes = classes\n",
        "    \n",
        "    # According to paper (ResNet-50)\n",
        "    self.n_layers = [3, 4, 6, 3]\n",
        "    self.filters = 64\n",
        "\n",
        "  def __build(self):\n",
        "    filters = [64, 128, 256, 512]\n",
        "    \n",
        "    # for naming purposes\n",
        "    merge = 1\n",
        "    activation = 2\n",
        "    \n",
        "    # head\n",
        "    self._layers.append(layers.ZeroPadding2D(padding=(3, 3), name='head_padding1'))\n",
        "    self._layers.append(layers.Conv2D(self.filters, (7, 7), strides=(2, 2), padding='valid', name='conv1_conv'))\n",
        "    self._layers.append(layers.BatchNormalization(name='conv1_bn'))\n",
        "    self._layers.append(layers.Activation('relu', name='activation_1'))\n",
        "    self._layers.append(layers.ZeroPadding2D(padding=(1, 1), name='head_padding2'))\n",
        "    self._layers.append(layers.MaxPooling2D((3, 3), strides=(2, 2), name='maxpooling'))\n",
        "\n",
        "    # blocks\n",
        "    for i, l in enumerate(self.n_layers):\n",
        "      for j in range(l):\n",
        "        name = {\n",
        "            'layer': i+2,\n",
        "            'inner': j+1,\n",
        "            'merge': 'merge_'+str(merge),\n",
        "            'activation': activation\n",
        "        }\n",
        "\n",
        "        if i == 0 and j == 0:\n",
        "          self._layers.append(ConvBlock((3, 3), filters[i], strides=(1, 1), name=name))\n",
        "        elif j == 0:\n",
        "          self._layers.append(ConvBlock((3, 3), filters[i], name=name))\n",
        "        else:\n",
        "          self._layers.append(IdentityBlock((3, 3), filters[i], name=name))\n",
        "        \n",
        "        merge += 1\n",
        "        activation +=3\n",
        "\n",
        "    self._layers.append(layers.GlobalAveragePooling2D(name='avg_pool'))\n",
        "    # self._layers.append(layers.Dense(self.classes, activation='softmax', name='fc'))\n",
        "\n",
        "  def __call__(self, input_tensor):\n",
        "    self.__build()\n",
        "\n",
        "    for i, _layer in enumerate(self._layers):\n",
        "      if i == 0:\n",
        "        x = _layer(input_tensor)\n",
        "      else:\n",
        "        x = _layer(x)\n",
        "\n",
        "    return keras.Model(input_tensor, x, name='resnet-50')"
      ],
      "execution_count": 0,
      "outputs": []
    },
    {
      "cell_type": "code",
      "metadata": {
        "id": "KQSeitc2IxS_",
        "colab_type": "code",
        "colab": {}
      },
      "source": [
        "# function to load the pretrained weights onto the custom model\n",
        "def transfer_weights(model):\n",
        "  '''\n",
        "    model: keras model to transfer the weights (must be resnet-50)\n",
        "  '''\n",
        "  trained = keras.applications.resnet.ResNet50(include_top=False, weights='imagenet', input_shape=model.input.shape, pooling='avg', classes=5)\n",
        "\n",
        "  for i, layer in enumerate(trained.layers):\n",
        "    if len(layer.weights) > 0 and layer.name is not 'probs':\n",
        "      weights = layer.get_weights()\n",
        "      model.get_layer(layer.name).set_weights(weights)\n",
        "  \n",
        "  model.save_weights('/content/drive/My Drive/retina_images/pretrained/resnet50_weights_imagenet_no_dense.h5', overwrite=True)"
      ],
      "execution_count": 0,
      "outputs": []
    },
    {
      "cell_type": "code",
      "metadata": {
        "id": "soxxxqmEsG1F",
        "colab_type": "code",
        "colab": {}
      },
      "source": [
        "# generates a model for regression\n",
        "def generate_model(model=None, classes=5, shape=(512, 512, 3)):\n",
        "  '''\n",
        "    model: keras model\n",
        "    classes: number of output classes\n",
        "    shape: tuple like shape of the input\n",
        "  '''\n",
        "  \n",
        "  input = keras.Input(shape=shape)\n",
        "  \n",
        "  if model is None:\n",
        "    model = ResNet(classes=classes)(input)\n",
        "\n",
        "  x = layers.Dropout(0.5)(model.output)\n",
        "  x = layers.Dense(1, activation='linear')(x)\n",
        "\n",
        "  return keras.Model(model.input, x)"
      ],
      "execution_count": 0,
      "outputs": []
    },
    {
      "cell_type": "markdown",
      "metadata": {
        "id": "iCLtfuABAP2R",
        "colab_type": "text"
      },
      "source": [
        "## Data preparation"
      ]
    },
    {
      "cell_type": "code",
      "metadata": {
        "id": "uiOpJhxiMTpC",
        "colab_type": "code",
        "outputId": "1f59aaf8-1dd0-4cea-d868-4e23b03ea2e6",
        "colab": {
          "base_uri": "https://localhost:8080/",
          "height": 419
        }
      },
      "source": [
        "train_labels = pd.read_csv(f'{DATASET_PATH}train_labels.csv')\n",
        "test_labels = pd.read_csv(f'{DATASET_PATH}test_labels.csv')\n",
        "\n",
        "classes = [0, 1, 2, 3, 4]\n",
        "\n",
        "# Remove usage column\n",
        "test_labels = test_labels.drop('Usage', axis=1)\n",
        "\n",
        "train_labels['image'] = train_labels['image'].apply(lambda f: f'train_dst/{f}.jpeg')\n",
        "test_labels['image'] = test_labels['image'].apply(lambda f: f'test_dst/{f}.jpeg')\n",
        "\n",
        "data = pd.concat([train_labels, test_labels]).sample(frac=1, random_state=97309938)\n",
        "data = data.dropna()\n",
        "\n",
        "data"
      ],
      "execution_count": 20,
      "outputs": [
        {
          "output_type": "execute_result",
          "data": {
            "text/html": [
              "<div>\n",
              "<style scoped>\n",
              "    .dataframe tbody tr th:only-of-type {\n",
              "        vertical-align: middle;\n",
              "    }\n",
              "\n",
              "    .dataframe tbody tr th {\n",
              "        vertical-align: top;\n",
              "    }\n",
              "\n",
              "    .dataframe thead th {\n",
              "        text-align: right;\n",
              "    }\n",
              "</style>\n",
              "<table border=\"1\" class=\"dataframe\">\n",
              "  <thead>\n",
              "    <tr style=\"text-align: right;\">\n",
              "      <th></th>\n",
              "      <th>image</th>\n",
              "      <th>level</th>\n",
              "    </tr>\n",
              "  </thead>\n",
              "  <tbody>\n",
              "    <tr>\n",
              "      <th>18337</th>\n",
              "      <td>train_dst/23095_right.jpeg</td>\n",
              "      <td>3</td>\n",
              "    </tr>\n",
              "    <tr>\n",
              "      <th>13617</th>\n",
              "      <td>test_dst/11328_right.jpeg</td>\n",
              "      <td>2</td>\n",
              "    </tr>\n",
              "    <tr>\n",
              "      <th>15616</th>\n",
              "      <td>test_dst/12957_left.jpeg</td>\n",
              "      <td>0</td>\n",
              "    </tr>\n",
              "    <tr>\n",
              "      <th>32626</th>\n",
              "      <td>test_dst/27055_left.jpeg</td>\n",
              "      <td>0</td>\n",
              "    </tr>\n",
              "    <tr>\n",
              "      <th>9066</th>\n",
              "      <td>train_dst/11378_left.jpeg</td>\n",
              "      <td>0</td>\n",
              "    </tr>\n",
              "    <tr>\n",
              "      <th>...</th>\n",
              "      <td>...</td>\n",
              "      <td>...</td>\n",
              "    </tr>\n",
              "    <tr>\n",
              "      <th>42352</th>\n",
              "      <td>test_dst/35006_left.jpeg</td>\n",
              "      <td>0</td>\n",
              "    </tr>\n",
              "    <tr>\n",
              "      <th>31559</th>\n",
              "      <td>test_dst/26161_right.jpeg</td>\n",
              "      <td>0</td>\n",
              "    </tr>\n",
              "    <tr>\n",
              "      <th>35946</th>\n",
              "      <td>test_dst/29747_left.jpeg</td>\n",
              "      <td>0</td>\n",
              "    </tr>\n",
              "    <tr>\n",
              "      <th>10115</th>\n",
              "      <td>train_dst/12739_right.jpeg</td>\n",
              "      <td>2</td>\n",
              "    </tr>\n",
              "    <tr>\n",
              "      <th>30189</th>\n",
              "      <td>train_dst/38189_right.jpeg</td>\n",
              "      <td>1</td>\n",
              "    </tr>\n",
              "  </tbody>\n",
              "</table>\n",
              "<p>88702 rows × 2 columns</p>\n",
              "</div>"
            ],
            "text/plain": [
              "                            image  level\n",
              "18337  train_dst/23095_right.jpeg      3\n",
              "13617   test_dst/11328_right.jpeg      2\n",
              "15616    test_dst/12957_left.jpeg      0\n",
              "32626    test_dst/27055_left.jpeg      0\n",
              "9066    train_dst/11378_left.jpeg      0\n",
              "...                           ...    ...\n",
              "42352    test_dst/35006_left.jpeg      0\n",
              "31559   test_dst/26161_right.jpeg      0\n",
              "35946    test_dst/29747_left.jpeg      0\n",
              "10115  train_dst/12739_right.jpeg      2\n",
              "30189  train_dst/38189_right.jpeg      1\n",
              "\n",
              "[88702 rows x 2 columns]"
            ]
          },
          "metadata": {
            "tags": []
          },
          "execution_count": 20
        }
      ]
    },
    {
      "cell_type": "markdown",
      "metadata": {
        "id": "jipVpIqrA4z_",
        "colab_type": "text"
      },
      "source": [
        "### Visualization of the number of data per class"
      ]
    },
    {
      "cell_type": "code",
      "metadata": {
        "id": "FX8Zge4DgTna",
        "colab_type": "code",
        "outputId": "e2893984-b0ba-4167-dd4e-b59a5481a7db",
        "colab": {
          "base_uri": "https://localhost:8080/",
          "height": 367
        }
      },
      "source": [
        "plt.hist(x=data['level'])\n",
        "plt.xticks(classes)"
      ],
      "execution_count": 21,
      "outputs": [
        {
          "output_type": "execute_result",
          "data": {
            "text/plain": [
              "([<matplotlib.axis.XTick at 0x7fadfd316f60>,\n",
              "  <matplotlib.axis.XTick at 0x7fadfd316128>,\n",
              "  <matplotlib.axis.XTick at 0x7fadfd30f7f0>,\n",
              "  <matplotlib.axis.XTick at 0x7fadfd0b7390>,\n",
              "  <matplotlib.axis.XTick at 0x7fadfd0b7940>],\n",
              " <a list of 5 Text xticklabel objects>)"
            ]
          },
          "metadata": {
            "tags": []
          },
          "execution_count": 21
        },
        {
          "output_type": "display_data",
          "data": {
            "image/png": "[encoded data removed]",
            "text/plain": [
              "<Figure size 432x288 with 1 Axes>"
            ]
          },
          "metadata": {
            "tags": []
          }
        }
      ]
    },
    {
      "cell_type": "markdown",
      "metadata": {
        "id": "UuIcYGcQp2Xx",
        "colab_type": "text"
      },
      "source": [
        "# Normal training split"
      ]
    },
    {
      "cell_type": "code",
      "metadata": {
        "id": "rqZgHRuegXE1",
        "colab_type": "code",
        "colab": {}
      },
      "source": [
        "split = int(len(data) * 0.15)\n",
        "test_df = data.iloc[:split].copy().reset_index(drop=True)\n",
        "train_df = data.iloc[split:].copy()\n",
        "\n",
        "train_c0 = train_df[train_df['level'] == 0]\n",
        "train_c0 = train_c0.iloc[:int(len(train_c0)*0.25)]\n",
        "train_cP = train_df[train_df['level'] > 0]\n",
        "\n",
        "train_df = pd.concat([train_c0, train_cP]).sample(frac=1, random_state=69859680).reset_index(drop=True) # concat & shuffle data\n"
      ],
      "execution_count": 0,
      "outputs": []
    },
    {
      "cell_type": "markdown",
      "metadata": {
        "id": "ZMpd9WiHBHF-",
        "colab_type": "text"
      },
      "source": [
        "### New distribution for training"
      ]
    },
    {
      "cell_type": "code",
      "metadata": {
        "id": "Y0_CvXK7uKzK",
        "colab_type": "code",
        "outputId": "adca533a-4ee3-4267-aac7-7613762e9753",
        "colab": {
          "base_uri": "https://localhost:8080/",
          "height": 367
        }
      },
      "source": [
        "plt.hist(x=train_df['level'])\n",
        "plt.xticks(classes)"
      ],
      "execution_count": 23,
      "outputs": [
        {
          "output_type": "execute_result",
          "data": {
            "text/plain": [
              "([<matplotlib.axis.XTick at 0x7fadfce0d6a0>,\n",
              "  <matplotlib.axis.XTick at 0x7fadfcdf0da0>,\n",
              "  <matplotlib.axis.XTick at 0x7fadfcdf0f60>,\n",
              "  <matplotlib.axis.XTick at 0x7fadfc651198>,\n",
              "  <matplotlib.axis.XTick at 0x7fadfc651748>],\n",
              " <a list of 5 Text xticklabel objects>)"
            ]
          },
          "metadata": {
            "tags": []
          },
          "execution_count": 23
        },
        {
          "output_type": "display_data",
          "data": {
            "image/png": "[encoded data removed]",
            "text/plain": [
              "<Figure size 432x288 with 1 Axes>"
            ]
          },
          "metadata": {
            "tags": []
          }
        }
      ]
    },
    {
      "cell_type": "code",
      "metadata": {
        "id": "B4xcvYH4LBbe",
        "colab_type": "code",
        "colab": {}
      },
      "source": [
        " aug_seq = iaa.Sequential([\n",
        "  iaa.Fliplr(0.5),\n",
        "  iaa.Flipud(0.5),\n",
        "  iaa.Sequential([\n",
        "    iaa.Sometimes(0.5, iaa.Crop(percent=(0.01, 0.1), sample_independently=False)), # crop image equally on both sides\n",
        "  ]),\n",
        "  iaa.Multiply((0.9, 1.5))\n",
        "], random_order=True)"
      ],
      "execution_count": 0,
      "outputs": []
    },
    {
      "cell_type": "code",
      "metadata": {
        "id": "26SDWCTRvyn0",
        "colab_type": "code",
        "outputId": "07889a75-e736-42c7-965a-60370126cbe2",
        "colab": {
          "base_uri": "https://localhost:8080/",
          "height": 119
        }
      },
      "source": [
        "BATCH_SIZE = 32\n",
        "IMG_SIZE = 384\n",
        " \n",
        "datagen = keras.preprocessing.image.ImageDataGenerator(\n",
        "    preprocessing_function=lambda img: np.clip(aug_seq.augment_image(img) / 255.0, 0, 1))\n",
        "\n",
        "train_generator = datagen.flow_from_dataframe(\n",
        "    dataframe=train_df,\n",
        "    x_col='image',\n",
        "    y_col='level',\n",
        "    class_mode='raw',\n",
        "    batch_size=BATCH_SIZE,\n",
        "    target_size=(IMG_SIZE, IMG_SIZE),\n",
        "    directory=DATA_PATH,\n",
        "    validate_filenames=True)\n",
        "\n",
        "validation_generator = datagen.flow_from_dataframe(\n",
        "    dataframe=test_df.iloc[:len(test_df)//3],\n",
        "    x_col='image',\n",
        "    y_col='level',\n",
        "    class_mode='raw',\n",
        "    batch_size=BATCH_SIZE,\n",
        "    target_size=(IMG_SIZE, IMG_SIZE),\n",
        "    directory=DATA_PATH,\n",
        "    validate_filenames=True)"
      ],
      "execution_count": 25,
      "outputs": [
        {
          "output_type": "stream",
          "text": [
            "Found 33624 validated image filenames.\n",
            "Found 4424 validated image filenames.\n"
          ],
          "name": "stdout"
        },
        {
          "output_type": "stream",
          "text": [
            "/tensorflow-2.1.0/python3.6/keras_preprocessing/image/dataframe_iterator.py:273: UserWarning: Found 76 invalid image filename(s) in x_col=\"image\". These filename(s) will be ignored.\n",
            "  .format(n_invalid, x_col)\n",
            "/tensorflow-2.1.0/python3.6/keras_preprocessing/image/dataframe_iterator.py:273: UserWarning: Found 11 invalid image filename(s) in x_col=\"image\". These filename(s) will be ignored.\n",
            "  .format(n_invalid, x_col)\n"
          ],
          "name": "stderr"
        }
      ]
    },
    {
      "cell_type": "code",
      "metadata": {
        "id": "27UfvRrSCVPo",
        "colab_type": "code",
        "colab": {}
      },
      "source": [
        "# vanilla imagenet weights\n",
        "imagenet_weights = f'{DATASET_PATH}pretrained/resnet50_weights_imagenet_no_dense.h5'\n",
        "# last checkpoint\n",
        "last_checkpoint = f'{DATASET_PATH}checkpoints/resnet50_dense_regression_last_384_final.h5'"
      ],
      "execution_count": 0,
      "outputs": []
    },
    {
      "cell_type": "markdown",
      "metadata": {
        "id": "Bq3NCI2n9ecv",
        "colab_type": "text"
      },
      "source": [
        "# Training for multi label classification"
      ]
    },
    {
      "cell_type": "code",
      "metadata": {
        "id": "k06gcSKFxiVl",
        "colab_type": "code",
        "colab": {}
      },
      "source": [
        "# model = ResNet(classes=5)(keras.Input(shape=(IMG_SIZE, IMG_SIZE, 3)))\n",
        "# model.load_weights(imagenet_weights)\n",
        "# model.compile(optimizer=keras.optimizers.Adam(learning_rate=0.001), loss=keras.losses.CategoricalCrossentropy(), metrics=[keras.metrics.CategoricalAccuracy()])\n",
        "# model.fit(train_generator,\n",
        "#           epochs=10,\n",
        "#           validation_data=validation_generator,\n",
        "#           max_queue_size=16,\n",
        "#           workers=4, use_multiprocessing=False)"
      ],
      "execution_count": 0,
      "outputs": []
    },
    {
      "cell_type": "markdown",
      "metadata": {
        "id": "0jz4mtFz9j9w",
        "colab_type": "text"
      },
      "source": [
        "# Training for regression"
      ]
    },
    {
      "cell_type": "code",
      "metadata": {
        "id": "4TZUMTkhsnIi",
        "colab_type": "code",
        "colab": {
          "base_uri": "https://localhost:8080/",
          "height": 1000
        },
        "outputId": "f602716d-08cb-4f68-af36-fce62b0b0cfa"
      },
      "source": [
        "class HistoryLogger(keras.callbacks.Callback):\n",
        "  def __init__(self, prefix):\n",
        "    super(HistoryLogger, self).__init__()\n",
        "\n",
        "    self.prefix = prefix\n",
        "    self.history = {}\n",
        "\n",
        "  def on_epoch_begin(self, epoch, logs={}):\n",
        "    self.history = {}\n",
        "\n",
        "  def on_epoch_end(self, epoch, logs={}):\n",
        "    df = pd.DataFrame.from_dict(self.history)\n",
        "    df.to_hdf(f'{DATASET_PATH}/history/{self.prefix}.hdf5', key=f'E{epoch}', mode='a')\n",
        "\n",
        "    hist = {}\n",
        "    for k, v in logs.items():\n",
        "      hist.setdefault(k, []).append(v)\n",
        "\n",
        "    df = pd.DataFrame.from_dict(hist)\n",
        "    df.to_hdf(f'{DATASET_PATH}/history/{self.prefix}.hdf5', key=f'VAL_E{epoch}', mode='a')\n",
        "\n",
        "  def on_batch_end(self, batch, logs={}):\n",
        "    for k, v in logs.items():\n",
        "      self.history.setdefault(k, []).append(v)\n",
        "\n",
        "\n",
        "def lr_schedule(epoch, alpha):\n",
        "  decay = (1 - (epoch / float(10))) ** 2\n",
        "  alpha = 0.000001 * decay\n",
        "\n",
        "  return float(alpha)\n",
        "\n",
        "class KappaMetric(CohenKappa):\n",
        "    def __init__(self):\n",
        "      super().__init__(num_classes=5, weightage='quadratic')\n",
        "\n",
        "    @staticmethod\n",
        "    def classify(x):\n",
        "      return tf.case(\n",
        "          [(tf.less(x, 0.5), lambda: 0.0),\n",
        "           (tf.less(x, 1.5), lambda: 1.0),\n",
        "           (tf.less(x, 2.5), lambda: 2.0),\n",
        "           (tf.less(x, 3.5), lambda: 3.0)],\n",
        "          default=lambda: 4.0, exclusive=False)\n",
        "\n",
        "    def update_state(self, y_true, y_pred, sample_weight=None):\n",
        "      t = tf.reshape(y_true, shape=[-1])\n",
        "      p = tf.map_fn(KappaMetric.classify, y_pred)\n",
        "      \n",
        "      super().update_state(t, p, sample_weight)\n",
        "\n",
        "# Callbacks\n",
        "checkpoint = keras.callbacks.ModelCheckpoint(f'{DATASET_PATH}checkpoints/resnet50_dense_regression_last_384_5.h5', verbose=1, save_best_only=True, save_weights_only=True)\n",
        "lr_callback = keras.callbacks.LearningRateScheduler(lr_schedule, verbose=1)\n",
        "hs_callback = HistoryLogger(f'from_imagenet_history_full_384_5')\n",
        "\n",
        "model = ResNet(classes=5)(keras.Input(shape=(IMG_SIZE, IMG_SIZE, 3)))\n",
        "# Generate regression model\n",
        "model = generate_model(model, 5, (IMG_SIZE, IMG_SIZE, 3))\n",
        "model.load_weights(last_checkpoint)\n",
        "model.summary()"
      ],
      "execution_count": 28,
      "outputs": [
        {
          "output_type": "stream",
          "text": [
            "Model: \"model\"\n",
            "__________________________________________________________________________________________________\n",
            "Layer (type)                    Output Shape         Param #     Connected to                     \n",
            "==================================================================================================\n",
            "input_2 (InputLayer)            [(None, 384, 384, 3) 0                                            \n",
            "__________________________________________________________________________________________________\n",
            "head_padding1 (ZeroPadding2D)   (None, 390, 390, 3)  0           input_2[0][0]                    \n",
            "__________________________________________________________________________________________________\n",
            "conv1_conv (Conv2D)             (None, 192, 192, 64) 9472        head_padding1[0][0]              \n",
            "__________________________________________________________________________________________________\n",
            "conv1_bn (BatchNormalization)   (None, 192, 192, 64) 256         conv1_conv[0][0]                 \n",
            "__________________________________________________________________________________________________\n",
            "activation_1 (Activation)       (None, 192, 192, 64) 0           conv1_bn[0][0]                   \n",
            "__________________________________________________________________________________________________\n",
            "head_padding2 (ZeroPadding2D)   (None, 194, 194, 64) 0           activation_1[0][0]               \n",
            "__________________________________________________________________________________________________\n",
            "maxpooling (MaxPooling2D)       (None, 96, 96, 64)   0           head_padding2[0][0]              \n",
            "__________________________________________________________________________________________________\n",
            "conv2_block1_1_conv (Conv2D)    (None, 96, 96, 64)   4160        maxpooling[0][0]                 \n",
            "__________________________________________________________________________________________________\n",
            "conv2_block1_1_bn (BatchNormali (None, 96, 96, 64)   256         conv2_block1_1_conv[0][0]        \n",
            "__________________________________________________________________________________________________\n",
            "activation_2 (Activation)       (None, 96, 96, 64)   0           conv2_block1_1_bn[0][0]          \n",
            "__________________________________________________________________________________________________\n",
            "conv2_block1_2_conv (Conv2D)    (None, 96, 96, 64)   36928       activation_2[0][0]               \n",
            "__________________________________________________________________________________________________\n",
            "conv2_block1_2_bn (BatchNormali (None, 96, 96, 64)   256         conv2_block1_2_conv[0][0]        \n",
            "__________________________________________________________________________________________________\n",
            "activation_3 (Activation)       (None, 96, 96, 64)   0           conv2_block1_2_bn[0][0]          \n",
            "__________________________________________________________________________________________________\n",
            "conv2_block1_3_conv (Conv2D)    (None, 96, 96, 256)  16640       activation_3[0][0]               \n",
            "__________________________________________________________________________________________________\n",
            "conv2_block1_0_conv (Conv2D)    (None, 96, 96, 256)  16640       maxpooling[0][0]                 \n",
            "__________________________________________________________________________________________________\n",
            "conv2_block1_3_bn (BatchNormali (None, 96, 96, 256)  1024        conv2_block1_3_conv[0][0]        \n",
            "__________________________________________________________________________________________________\n",
            "conv2_block1_0_bn (BatchNormali (None, 96, 96, 256)  1024        conv2_block1_0_conv[0][0]        \n",
            "__________________________________________________________________________________________________\n",
            "merge_1 (Add)                   (None, 96, 96, 256)  0           conv2_block1_3_bn[0][0]          \n",
            "                                                                 conv2_block1_0_bn[0][0]          \n",
            "__________________________________________________________________________________________________\n",
            "activation_4 (Activation)       (None, 96, 96, 256)  0           merge_1[0][0]                    \n",
            "__________________________________________________________________________________________________\n",
            "conv2_block2_1_conv (Conv2D)    (None, 96, 96, 64)   16448       activation_4[0][0]               \n",
            "__________________________________________________________________________________________________\n",
            "conv2_block2_1_bn (BatchNormali (None, 96, 96, 64)   256         conv2_block2_1_conv[0][0]        \n",
            "__________________________________________________________________________________________________\n",
            "activation_5 (Activation)       (None, 96, 96, 64)   0           conv2_block2_1_bn[0][0]          \n",
            "__________________________________________________________________________________________________\n",
            "conv2_block2_2_conv (Conv2D)    (None, 96, 96, 64)   36928       activation_5[0][0]               \n",
            "__________________________________________________________________________________________________\n",
            "conv2_block2_2_bn (BatchNormali (None, 96, 96, 64)   256         conv2_block2_2_conv[0][0]        \n",
            "__________________________________________________________________________________________________\n",
            "activation_6 (Activation)       (None, 96, 96, 64)   0           conv2_block2_2_bn[0][0]          \n",
            "__________________________________________________________________________________________________\n",
            "conv2_block2_3_conv (Conv2D)    (None, 96, 96, 256)  16640       activation_6[0][0]               \n",
            "__________________________________________________________________________________________________\n",
            "conv2_block2_3_bn (BatchNormali (None, 96, 96, 256)  1024        conv2_block2_3_conv[0][0]        \n",
            "__________________________________________________________________________________________________\n",
            "merge_2 (Add)                   (None, 96, 96, 256)  0           conv2_block2_3_bn[0][0]          \n",
            "                                                                 activation_4[0][0]               \n",
            "__________________________________________________________________________________________________\n",
            "activation_7 (Activation)       (None, 96, 96, 256)  0           merge_2[0][0]                    \n",
            "__________________________________________________________________________________________________\n",
            "conv2_block3_1_conv (Conv2D)    (None, 96, 96, 64)   16448       activation_7[0][0]               \n",
            "__________________________________________________________________________________________________\n",
            "conv2_block3_1_bn (BatchNormali (None, 96, 96, 64)   256         conv2_block3_1_conv[0][0]        \n",
            "__________________________________________________________________________________________________\n",
            "activation_8 (Activation)       (None, 96, 96, 64)   0           conv2_block3_1_bn[0][0]          \n",
            "__________________________________________________________________________________________________\n",
            "conv2_block3_2_conv (Conv2D)    (None, 96, 96, 64)   36928       activation_8[0][0]               \n",
            "__________________________________________________________________________________________________\n",
            "conv2_block3_2_bn (BatchNormali (None, 96, 96, 64)   256         conv2_block3_2_conv[0][0]        \n",
            "__________________________________________________________________________________________________\n",
            "activation_9 (Activation)       (None, 96, 96, 64)   0           conv2_block3_2_bn[0][0]          \n",
            "__________________________________________________________________________________________________\n",
            "conv2_block3_3_conv (Conv2D)    (None, 96, 96, 256)  16640       activation_9[0][0]               \n",
            "__________________________________________________________________________________________________\n",
            "conv2_block3_3_bn (BatchNormali (None, 96, 96, 256)  1024        conv2_block3_3_conv[0][0]        \n",
            "__________________________________________________________________________________________________\n",
            "merge_3 (Add)                   (None, 96, 96, 256)  0           conv2_block3_3_bn[0][0]          \n",
            "                                                                 activation_7[0][0]               \n",
            "__________________________________________________________________________________________________\n",
            "activation_10 (Activation)      (None, 96, 96, 256)  0           merge_3[0][0]                    \n",
            "__________________________________________________________________________________________________\n",
            "conv3_block1_1_conv (Conv2D)    (None, 48, 48, 128)  32896       activation_10[0][0]              \n",
            "__________________________________________________________________________________________________\n",
            "conv3_block1_1_bn (BatchNormali (None, 48, 48, 128)  512         conv3_block1_1_conv[0][0]        \n",
            "__________________________________________________________________________________________________\n",
            "activation_11 (Activation)      (None, 48, 48, 128)  0           conv3_block1_1_bn[0][0]          \n",
            "__________________________________________________________________________________________________\n",
            "conv3_block1_2_conv (Conv2D)    (None, 48, 48, 128)  147584      activation_11[0][0]              \n",
            "__________________________________________________________________________________________________\n",
            "conv3_block1_2_bn (BatchNormali (None, 48, 48, 128)  512         conv3_block1_2_conv[0][0]        \n",
            "__________________________________________________________________________________________________\n",
            "activation_12 (Activation)      (None, 48, 48, 128)  0           conv3_block1_2_bn[0][0]          \n",
            "__________________________________________________________________________________________________\n",
            "conv3_block1_3_conv (Conv2D)    (None, 48, 48, 512)  66048       activation_12[0][0]              \n",
            "__________________________________________________________________________________________________\n",
            "conv3_block1_0_conv (Conv2D)    (None, 48, 48, 512)  131584      activation_10[0][0]              \n",
            "__________________________________________________________________________________________________\n",
            "conv3_block1_3_bn (BatchNormali (None, 48, 48, 512)  2048        conv3_block1_3_conv[0][0]        \n",
            "__________________________________________________________________________________________________\n",
            "conv3_block1_0_bn (BatchNormali (None, 48, 48, 512)  2048        conv3_block1_0_conv[0][0]        \n",
            "__________________________________________________________________________________________________\n",
            "merge_4 (Add)                   (None, 48, 48, 512)  0           conv3_block1_3_bn[0][0]          \n",
            "                                                                 conv3_block1_0_bn[0][0]          \n",
            "__________________________________________________________________________________________________\n",
            "activation_13 (Activation)      (None, 48, 48, 512)  0           merge_4[0][0]                    \n",
            "__________________________________________________________________________________________________\n",
            "conv3_block2_1_conv (Conv2D)    (None, 48, 48, 128)  65664       activation_13[0][0]              \n",
            "__________________________________________________________________________________________________\n",
            "conv3_block2_1_bn (BatchNormali (None, 48, 48, 128)  512         conv3_block2_1_conv[0][0]        \n",
            "__________________________________________________________________________________________________\n",
            "activation_14 (Activation)      (None, 48, 48, 128)  0           conv3_block2_1_bn[0][0]          \n",
            "__________________________________________________________________________________________________\n",
            "conv3_block2_2_conv (Conv2D)    (None, 48, 48, 128)  147584      activation_14[0][0]              \n",
            "__________________________________________________________________________________________________\n",
            "conv3_block2_2_bn (BatchNormali (None, 48, 48, 128)  512         conv3_block2_2_conv[0][0]        \n",
            "__________________________________________________________________________________________________\n",
            "activation_15 (Activation)      (None, 48, 48, 128)  0           conv3_block2_2_bn[0][0]          \n",
            "__________________________________________________________________________________________________\n",
            "conv3_block2_3_conv (Conv2D)    (None, 48, 48, 512)  66048       activation_15[0][0]              \n",
            "__________________________________________________________________________________________________\n",
            "conv3_block2_3_bn (BatchNormali (None, 48, 48, 512)  2048        conv3_block2_3_conv[0][0]        \n",
            "__________________________________________________________________________________________________\n",
            "merge_5 (Add)                   (None, 48, 48, 512)  0           conv3_block2_3_bn[0][0]          \n",
            "                                                                 activation_13[0][0]              \n",
            "__________________________________________________________________________________________________\n",
            "activation_16 (Activation)      (None, 48, 48, 512)  0           merge_5[0][0]                    \n",
            "__________________________________________________________________________________________________\n",
            "conv3_block3_1_conv (Conv2D)    (None, 48, 48, 128)  65664       activation_16[0][0]              \n",
            "__________________________________________________________________________________________________\n",
            "conv3_block3_1_bn (BatchNormali (None, 48, 48, 128)  512         conv3_block3_1_conv[0][0]        \n",
            "__________________________________________________________________________________________________\n",
            "activation_17 (Activation)      (None, 48, 48, 128)  0           conv3_block3_1_bn[0][0]          \n",
            "__________________________________________________________________________________________________\n",
            "conv3_block3_2_conv (Conv2D)    (None, 48, 48, 128)  147584      activation_17[0][0]              \n",
            "__________________________________________________________________________________________________\n",
            "conv3_block3_2_bn (BatchNormali (None, 48, 48, 128)  512         conv3_block3_2_conv[0][0]        \n",
            "__________________________________________________________________________________________________\n",
            "activation_18 (Activation)      (None, 48, 48, 128)  0           conv3_block3_2_bn[0][0]          \n",
            "__________________________________________________________________________________________________\n",
            "conv3_block3_3_conv (Conv2D)    (None, 48, 48, 512)  66048       activation_18[0][0]              \n",
            "__________________________________________________________________________________________________\n",
            "conv3_block3_3_bn (BatchNormali (None, 48, 48, 512)  2048        conv3_block3_3_conv[0][0]        \n",
            "__________________________________________________________________________________________________\n",
            "merge_6 (Add)                   (None, 48, 48, 512)  0           conv3_block3_3_bn[0][0]          \n",
            "                                                                 activation_16[0][0]              \n",
            "__________________________________________________________________________________________________\n",
            "activation_19 (Activation)      (None, 48, 48, 512)  0           merge_6[0][0]                    \n",
            "__________________________________________________________________________________________________\n",
            "conv3_block4_1_conv (Conv2D)    (None, 48, 48, 128)  65664       activation_19[0][0]              \n",
            "__________________________________________________________________________________________________\n",
            "conv3_block4_1_bn (BatchNormali (None, 48, 48, 128)  512         conv3_block4_1_conv[0][0]        \n",
            "__________________________________________________________________________________________________\n",
            "activation_20 (Activation)      (None, 48, 48, 128)  0           conv3_block4_1_bn[0][0]          \n",
            "__________________________________________________________________________________________________\n",
            "conv3_block4_2_conv (Conv2D)    (None, 48, 48, 128)  147584      activation_20[0][0]              \n",
            "__________________________________________________________________________________________________\n",
            "conv3_block4_2_bn (BatchNormali (None, 48, 48, 128)  512         conv3_block4_2_conv[0][0]        \n",
            "__________________________________________________________________________________________________\n",
            "activation_21 (Activation)      (None, 48, 48, 128)  0           conv3_block4_2_bn[0][0]          \n",
            "__________________________________________________________________________________________________\n",
            "conv3_block4_3_conv (Conv2D)    (None, 48, 48, 512)  66048       activation_21[0][0]              \n",
            "__________________________________________________________________________________________________\n",
            "conv3_block4_3_bn (BatchNormali (None, 48, 48, 512)  2048        conv3_block4_3_conv[0][0]        \n",
            "__________________________________________________________________________________________________\n",
            "merge_7 (Add)                   (None, 48, 48, 512)  0           conv3_block4_3_bn[0][0]          \n",
            "                                                                 activation_19[0][0]              \n",
            "__________________________________________________________________________________________________\n",
            "activation_22 (Activation)      (None, 48, 48, 512)  0           merge_7[0][0]                    \n",
            "__________________________________________________________________________________________________\n",
            "conv4_block1_1_conv (Conv2D)    (None, 24, 24, 256)  131328      activation_22[0][0]              \n",
            "__________________________________________________________________________________________________\n",
            "conv4_block1_1_bn (BatchNormali (None, 24, 24, 256)  1024        conv4_block1_1_conv[0][0]        \n",
            "__________________________________________________________________________________________________\n",
            "activation_23 (Activation)      (None, 24, 24, 256)  0           conv4_block1_1_bn[0][0]          \n",
            "__________________________________________________________________________________________________\n",
            "conv4_block1_2_conv (Conv2D)    (None, 24, 24, 256)  590080      activation_23[0][0]              \n",
            "__________________________________________________________________________________________________\n",
            "conv4_block1_2_bn (BatchNormali (None, 24, 24, 256)  1024        conv4_block1_2_conv[0][0]        \n",
            "__________________________________________________________________________________________________\n",
            "activation_24 (Activation)      (None, 24, 24, 256)  0           conv4_block1_2_bn[0][0]          \n",
            "__________________________________________________________________________________________________\n",
            "conv4_block1_3_conv (Conv2D)    (None, 24, 24, 1024) 263168      activation_24[0][0]              \n",
            "__________________________________________________________________________________________________\n",
            "conv4_block1_0_conv (Conv2D)    (None, 24, 24, 1024) 525312      activation_22[0][0]              \n",
            "__________________________________________________________________________________________________\n",
            "conv4_block1_3_bn (BatchNormali (None, 24, 24, 1024) 4096        conv4_block1_3_conv[0][0]        \n",
            "__________________________________________________________________________________________________\n",
            "conv4_block1_0_bn (BatchNormali (None, 24, 24, 1024) 4096        conv4_block1_0_conv[0][0]        \n",
            "__________________________________________________________________________________________________\n",
            "merge_8 (Add)                   (None, 24, 24, 1024) 0           conv4_block1_3_bn[0][0]          \n",
            "                                                                 conv4_block1_0_bn[0][0]          \n",
            "__________________________________________________________________________________________________\n",
            "activation_25 (Activation)      (None, 24, 24, 1024) 0           merge_8[0][0]                    \n",
            "__________________________________________________________________________________________________\n",
            "conv4_block2_1_conv (Conv2D)    (None, 24, 24, 256)  262400      activation_25[0][0]              \n",
            "__________________________________________________________________________________________________\n",
            "conv4_block2_1_bn (BatchNormali (None, 24, 24, 256)  1024        conv4_block2_1_conv[0][0]        \n",
            "__________________________________________________________________________________________________\n",
            "activation_26 (Activation)      (None, 24, 24, 256)  0           conv4_block2_1_bn[0][0]          \n",
            "__________________________________________________________________________________________________\n",
            "conv4_block2_2_conv (Conv2D)    (None, 24, 24, 256)  590080      activation_26[0][0]              \n",
            "__________________________________________________________________________________________________\n",
            "conv4_block2_2_bn (BatchNormali (None, 24, 24, 256)  1024        conv4_block2_2_conv[0][0]        \n",
            "__________________________________________________________________________________________________\n",
            "activation_27 (Activation)      (None, 24, 24, 256)  0           conv4_block2_2_bn[0][0]          \n",
            "__________________________________________________________________________________________________\n",
            "conv4_block2_3_conv (Conv2D)    (None, 24, 24, 1024) 263168      activation_27[0][0]              \n",
            "__________________________________________________________________________________________________\n",
            "conv4_block2_3_bn (BatchNormali (None, 24, 24, 1024) 4096        conv4_block2_3_conv[0][0]        \n",
            "__________________________________________________________________________________________________\n",
            "merge_9 (Add)                   (None, 24, 24, 1024) 0           conv4_block2_3_bn[0][0]          \n",
            "                                                                 activation_25[0][0]              \n",
            "__________________________________________________________________________________________________\n",
            "activation_28 (Activation)      (None, 24, 24, 1024) 0           merge_9[0][0]                    \n",
            "__________________________________________________________________________________________________\n",
            "conv4_block3_1_conv (Conv2D)    (None, 24, 24, 256)  262400      activation_28[0][0]              \n",
            "__________________________________________________________________________________________________\n",
            "conv4_block3_1_bn (BatchNormali (None, 24, 24, 256)  1024        conv4_block3_1_conv[0][0]        \n",
            "__________________________________________________________________________________________________\n",
            "activation_29 (Activation)      (None, 24, 24, 256)  0           conv4_block3_1_bn[0][0]          \n",
            "__________________________________________________________________________________________________\n",
            "conv4_block3_2_conv (Conv2D)    (None, 24, 24, 256)  590080      activation_29[0][0]              \n",
            "__________________________________________________________________________________________________\n",
            "conv4_block3_2_bn (BatchNormali (None, 24, 24, 256)  1024        conv4_block3_2_conv[0][0]        \n",
            "__________________________________________________________________________________________________\n",
            "activation_30 (Activation)      (None, 24, 24, 256)  0           conv4_block3_2_bn[0][0]          \n",
            "__________________________________________________________________________________________________\n",
            "conv4_block3_3_conv (Conv2D)    (None, 24, 24, 1024) 263168      activation_30[0][0]              \n",
            "__________________________________________________________________________________________________\n",
            "conv4_block3_3_bn (BatchNormali (None, 24, 24, 1024) 4096        conv4_block3_3_conv[0][0]        \n",
            "__________________________________________________________________________________________________\n",
            "merge_10 (Add)                  (None, 24, 24, 1024) 0           conv4_block3_3_bn[0][0]          \n",
            "                                                                 activation_28[0][0]              \n",
            "__________________________________________________________________________________________________\n",
            "activation_31 (Activation)      (None, 24, 24, 1024) 0           merge_10[0][0]                   \n",
            "__________________________________________________________________________________________________\n",
            "conv4_block4_1_conv (Conv2D)    (None, 24, 24, 256)  262400      activation_31[0][0]              \n",
            "__________________________________________________________________________________________________\n",
            "conv4_block4_1_bn (BatchNormali (None, 24, 24, 256)  1024        conv4_block4_1_conv[0][0]        \n",
            "__________________________________________________________________________________________________\n",
            "activation_32 (Activation)      (None, 24, 24, 256)  0           conv4_block4_1_bn[0][0]          \n",
            "__________________________________________________________________________________________________\n",
            "conv4_block4_2_conv (Conv2D)    (None, 24, 24, 256)  590080      activation_32[0][0]              \n",
            "__________________________________________________________________________________________________\n",
            "conv4_block4_2_bn (BatchNormali (None, 24, 24, 256)  1024        conv4_block4_2_conv[0][0]        \n",
            "__________________________________________________________________________________________________\n",
            "activation_33 (Activation)      (None, 24, 24, 256)  0           conv4_block4_2_bn[0][0]          \n",
            "__________________________________________________________________________________________________\n",
            "conv4_block4_3_conv (Conv2D)    (None, 24, 24, 1024) 263168      activation_33[0][0]              \n",
            "__________________________________________________________________________________________________\n",
            "conv4_block4_3_bn (BatchNormali (None, 24, 24, 1024) 4096        conv4_block4_3_conv[0][0]        \n",
            "__________________________________________________________________________________________________\n",
            "merge_11 (Add)                  (None, 24, 24, 1024) 0           conv4_block4_3_bn[0][0]          \n",
            "                                                                 activation_31[0][0]              \n",
            "__________________________________________________________________________________________________\n",
            "activation_34 (Activation)      (None, 24, 24, 1024) 0           merge_11[0][0]                   \n",
            "__________________________________________________________________________________________________\n",
            "conv4_block5_1_conv (Conv2D)    (None, 24, 24, 256)  262400      activation_34[0][0]              \n",
            "__________________________________________________________________________________________________\n",
            "conv4_block5_1_bn (BatchNormali (None, 24, 24, 256)  1024        conv4_block5_1_conv[0][0]        \n",
            "__________________________________________________________________________________________________\n",
            "activation_35 (Activation)      (None, 24, 24, 256)  0           conv4_block5_1_bn[0][0]          \n",
            "__________________________________________________________________________________________________\n",
            "conv4_block5_2_conv (Conv2D)    (None, 24, 24, 256)  590080      activation_35[0][0]              \n",
            "__________________________________________________________________________________________________\n",
            "conv4_block5_2_bn (BatchNormali (None, 24, 24, 256)  1024        conv4_block5_2_conv[0][0]        \n",
            "__________________________________________________________________________________________________\n",
            "activation_36 (Activation)      (None, 24, 24, 256)  0           conv4_block5_2_bn[0][0]          \n",
            "__________________________________________________________________________________________________\n",
            "conv4_block5_3_conv (Conv2D)    (None, 24, 24, 1024) 263168      activation_36[0][0]              \n",
            "__________________________________________________________________________________________________\n",
            "conv4_block5_3_bn (BatchNormali (None, 24, 24, 1024) 4096        conv4_block5_3_conv[0][0]        \n",
            "__________________________________________________________________________________________________\n",
            "merge_12 (Add)                  (None, 24, 24, 1024) 0           conv4_block5_3_bn[0][0]          \n",
            "                                                                 activation_34[0][0]              \n",
            "__________________________________________________________________________________________________\n",
            "activation_37 (Activation)      (None, 24, 24, 1024) 0           merge_12[0][0]                   \n",
            "__________________________________________________________________________________________________\n",
            "conv4_block6_1_conv (Conv2D)    (None, 24, 24, 256)  262400      activation_37[0][0]              \n",
            "__________________________________________________________________________________________________\n",
            "conv4_block6_1_bn (BatchNormali (None, 24, 24, 256)  1024        conv4_block6_1_conv[0][0]        \n",
            "__________________________________________________________________________________________________\n",
            "activation_38 (Activation)      (None, 24, 24, 256)  0           conv4_block6_1_bn[0][0]          \n",
            "__________________________________________________________________________________________________\n",
            "conv4_block6_2_conv (Conv2D)    (None, 24, 24, 256)  590080      activation_38[0][0]              \n",
            "__________________________________________________________________________________________________\n",
            "conv4_block6_2_bn (BatchNormali (None, 24, 24, 256)  1024        conv4_block6_2_conv[0][0]        \n",
            "__________________________________________________________________________________________________\n",
            "activation_39 (Activation)      (None, 24, 24, 256)  0           conv4_block6_2_bn[0][0]          \n",
            "__________________________________________________________________________________________________\n",
            "conv4_block6_3_conv (Conv2D)    (None, 24, 24, 1024) 263168      activation_39[0][0]              \n",
            "__________________________________________________________________________________________________\n",
            "conv4_block6_3_bn (BatchNormali (None, 24, 24, 1024) 4096        conv4_block6_3_conv[0][0]        \n",
            "__________________________________________________________________________________________________\n",
            "merge_13 (Add)                  (None, 24, 24, 1024) 0           conv4_block6_3_bn[0][0]          \n",
            "                                                                 activation_37[0][0]              \n",
            "__________________________________________________________________________________________________\n",
            "activation_40 (Activation)      (None, 24, 24, 1024) 0           merge_13[0][0]                   \n",
            "__________________________________________________________________________________________________\n",
            "conv5_block1_1_conv (Conv2D)    (None, 12, 12, 512)  524800      activation_40[0][0]              \n",
            "__________________________________________________________________________________________________\n",
            "conv5_block1_1_bn (BatchNormali (None, 12, 12, 512)  2048        conv5_block1_1_conv[0][0]        \n",
            "__________________________________________________________________________________________________\n",
            "activation_41 (Activation)      (None, 12, 12, 512)  0           conv5_block1_1_bn[0][0]          \n",
            "__________________________________________________________________________________________________\n",
            "conv5_block1_2_conv (Conv2D)    (None, 12, 12, 512)  2359808     activation_41[0][0]              \n",
            "__________________________________________________________________________________________________\n",
            "conv5_block1_2_bn (BatchNormali (None, 12, 12, 512)  2048        conv5_block1_2_conv[0][0]        \n",
            "__________________________________________________________________________________________________\n",
            "activation_42 (Activation)      (None, 12, 12, 512)  0           conv5_block1_2_bn[0][0]          \n",
            "__________________________________________________________________________________________________\n",
            "conv5_block1_3_conv (Conv2D)    (None, 12, 12, 2048) 1050624     activation_42[0][0]              \n",
            "__________________________________________________________________________________________________\n",
            "conv5_block1_0_conv (Conv2D)    (None, 12, 12, 2048) 2099200     activation_40[0][0]              \n",
            "__________________________________________________________________________________________________\n",
            "conv5_block1_3_bn (BatchNormali (None, 12, 12, 2048) 8192        conv5_block1_3_conv[0][0]        \n",
            "__________________________________________________________________________________________________\n",
            "conv5_block1_0_bn (BatchNormali (None, 12, 12, 2048) 8192        conv5_block1_0_conv[0][0]        \n",
            "__________________________________________________________________________________________________\n",
            "merge_14 (Add)                  (None, 12, 12, 2048) 0           conv5_block1_3_bn[0][0]          \n",
            "                                                                 conv5_block1_0_bn[0][0]          \n",
            "__________________________________________________________________________________________________\n",
            "activation_43 (Activation)      (None, 12, 12, 2048) 0           merge_14[0][0]                   \n",
            "__________________________________________________________________________________________________\n",
            "conv5_block2_1_conv (Conv2D)    (None, 12, 12, 512)  1049088     activation_43[0][0]              \n",
            "__________________________________________________________________________________________________\n",
            "conv5_block2_1_bn (BatchNormali (None, 12, 12, 512)  2048        conv5_block2_1_conv[0][0]        \n",
            "__________________________________________________________________________________________________\n",
            "activation_44 (Activation)      (None, 12, 12, 512)  0           conv5_block2_1_bn[0][0]          \n",
            "__________________________________________________________________________________________________\n",
            "conv5_block2_2_conv (Conv2D)    (None, 12, 12, 512)  2359808     activation_44[0][0]              \n",
            "__________________________________________________________________________________________________\n",
            "conv5_block2_2_bn (BatchNormali (None, 12, 12, 512)  2048        conv5_block2_2_conv[0][0]        \n",
            "__________________________________________________________________________________________________\n",
            "activation_45 (Activation)      (None, 12, 12, 512)  0           conv5_block2_2_bn[0][0]          \n",
            "__________________________________________________________________________________________________\n",
            "conv5_block2_3_conv (Conv2D)    (None, 12, 12, 2048) 1050624     activation_45[0][0]              \n",
            "__________________________________________________________________________________________________\n",
            "conv5_block2_3_bn (BatchNormali (None, 12, 12, 2048) 8192        conv5_block2_3_conv[0][0]        \n",
            "__________________________________________________________________________________________________\n",
            "merge_15 (Add)                  (None, 12, 12, 2048) 0           conv5_block2_3_bn[0][0]          \n",
            "                                                                 activation_43[0][0]              \n",
            "__________________________________________________________________________________________________\n",
            "activation_46 (Activation)      (None, 12, 12, 2048) 0           merge_15[0][0]                   \n",
            "__________________________________________________________________________________________________\n",
            "conv5_block3_1_conv (Conv2D)    (None, 12, 12, 512)  1049088     activation_46[0][0]              \n",
            "__________________________________________________________________________________________________\n",
            "conv5_block3_1_bn (BatchNormali (None, 12, 12, 512)  2048        conv5_block3_1_conv[0][0]        \n",
            "__________________________________________________________________________________________________\n",
            "activation_47 (Activation)      (None, 12, 12, 512)  0           conv5_block3_1_bn[0][0]          \n",
            "__________________________________________________________________________________________________\n",
            "conv5_block3_2_conv (Conv2D)    (None, 12, 12, 512)  2359808     activation_47[0][0]              \n",
            "__________________________________________________________________________________________________\n",
            "conv5_block3_2_bn (BatchNormali (None, 12, 12, 512)  2048        conv5_block3_2_conv[0][0]        \n",
            "__________________________________________________________________________________________________\n",
            "activation_48 (Activation)      (None, 12, 12, 512)  0           conv5_block3_2_bn[0][0]          \n",
            "__________________________________________________________________________________________________\n",
            "conv5_block3_3_conv (Conv2D)    (None, 12, 12, 2048) 1050624     activation_48[0][0]              \n",
            "__________________________________________________________________________________________________\n",
            "conv5_block3_3_bn (BatchNormali (None, 12, 12, 2048) 8192        conv5_block3_3_conv[0][0]        \n",
            "__________________________________________________________________________________________________\n",
            "merge_16 (Add)                  (None, 12, 12, 2048) 0           conv5_block3_3_bn[0][0]          \n",
            "                                                                 activation_46[0][0]              \n",
            "__________________________________________________________________________________________________\n",
            "activation_49 (Activation)      (None, 12, 12, 2048) 0           merge_16[0][0]                   \n",
            "__________________________________________________________________________________________________\n",
            "avg_pool (GlobalAveragePooling2 (None, 2048)         0           activation_49[0][0]              \n",
            "__________________________________________________________________________________________________\n",
            "dropout (Dropout)               (None, 2048)         0           avg_pool[0][0]                   \n",
            "__________________________________________________________________________________________________\n",
            "dense (Dense)                   (None, 1)            2049        dropout[0][0]                    \n",
            "==================================================================================================\n",
            "Total params: 23,589,761\n",
            "Trainable params: 23,536,641\n",
            "Non-trainable params: 53,120\n",
            "__________________________________________________________________________________________________\n"
          ],
          "name": "stdout"
        }
      ]
    },
    {
      "cell_type": "code",
      "metadata": {
        "id": "Bl8pUomNtJu6",
        "colab_type": "code",
        "colab": {}
      },
      "source": [
        "# model.compile(optimizer=keras.optimizers.Adam(learning_rate=0.000001), loss='mse', metrics=['mae', 'accuracy', KappaMetric()])\n",
        "# model.fit(train_generator,\n",
        "#           epochs=5,\n",
        "#           validation_data=validation_generator,\n",
        "#           callbacks=[checkpoint, hs_callback],\n",
        "#           max_queue_size=16,\n",
        "#           workers=4, use_multiprocessing=False)"
      ],
      "execution_count": 0,
      "outputs": []
    },
    {
      "cell_type": "markdown",
      "metadata": {
        "id": "5Uz9rGdm9rw3",
        "colab_type": "text"
      },
      "source": [
        "# Evaluation and prediction"
      ]
    },
    {
      "cell_type": "code",
      "metadata": {
        "id": "jSuLR4rxl07M",
        "colab_type": "code",
        "colab": {}
      },
      "source": [
        "def classify(x):\n",
        "  if x < 0.5:\n",
        "      return 0\n",
        "  elif x < 1.5:\n",
        "      return 1\n",
        "  elif x < 2.5:\n",
        "      return 2\n",
        "  elif x < 3.5:\n",
        "      return 3\n",
        "  return 4"
      ],
      "execution_count": 0,
      "outputs": []
    },
    {
      "cell_type": "code",
      "metadata": {
        "id": "r_jdDDRaY0Nv",
        "colab_type": "code",
        "outputId": "dd772460-2e1a-407d-b05d-0f401f5a5c3c",
        "colab": {
          "base_uri": "https://localhost:8080/",
          "height": 85
        }
      },
      "source": [
        "test_generator = datagen.flow_from_dataframe(\n",
        "    dataframe=test_df,\n",
        "    x_col='image',\n",
        "    y_col='level',\n",
        "    class_mode='raw',\n",
        "    batch_size=BATCH_SIZE*2,\n",
        "    target_size=(IMG_SIZE, IMG_SIZE),\n",
        "    directory=DATA_PATH,\n",
        "    validate_filenames=True)\n",
        "\n",
        "y_predicted = []\n",
        "y_true = []\n",
        "\n",
        "progress = keras.utils.Progbar(target=len(validation_generator))\n",
        "\n",
        "for i in range(len(validation_generator)):\n",
        "  x, true_y = validation_generator[i]\n",
        "  _predictions = model.predict(x)\n",
        "\n",
        "  del x\n",
        "\n",
        "  for j in range(len(_predictions)):\n",
        "    class_p = int(classify(_predictions[j]))\n",
        "    class_t = int(true_y[j])\n",
        "    y_predicted.append(class_p)\n",
        "    y_true.append(class_t)\n",
        "  \n",
        "  progress.update(i)"
      ],
      "execution_count": 31,
      "outputs": [
        {
          "output_type": "stream",
          "text": [
            "/tensorflow-2.1.0/python3.6/keras_preprocessing/image/dataframe_iterator.py:273: UserWarning: Found 29 invalid image filename(s) in x_col=\"image\". These filename(s) will be ignored.\n",
            "  .format(n_invalid, x_col)\n"
          ],
          "name": "stderr"
        },
        {
          "output_type": "stream",
          "text": [
            "Found 13276 validated image filenames.\n",
            "138/139 [============================>.] - ETA: 0s"
          ],
          "name": "stdout"
        }
      ]
    },
    {
      "cell_type": "code",
      "metadata": {
        "id": "sg9dR1DO0XAw",
        "colab_type": "code",
        "colab": {
          "base_uri": "https://localhost:8080/",
          "height": 334
        },
        "outputId": "da96f833-43ed-46c4-e088-b990bd61f81d"
      },
      "source": [
        "confusion_matrix = tf.math.confusion_matrix(y_true, y_predicted,\n",
        "                                            num_classes=5,\n",
        "                                            dtype=tf.dtypes.float32).numpy()\n",
        "\n",
        "confusion_matrix = confusion_matrix / confusion_matrix.sum(axis=1).reshape((-1, 1))\n",
        "\n",
        "fig, ax = plt.subplots(figsize=(5, 5))\n",
        "ax.imshow(confusion_matrix, cmap = plt.cm.Blues)#, vmax=1.0, vmin=0.0)\n",
        "ax.set_xlabel('predicted class')\n",
        "ax.set_ylabel('true class')\n",
        "\n",
        "for (i, j), z in np.ndenumerate(confusion_matrix):\n",
        "  c = 'white' if z > 1/2 else 'black'\n",
        "  ax.text(j, i, f'{z:0.2f}', ha='center', va='center', color=c)\n",
        "\n",
        "fig.show()"
      ],
      "execution_count": 32,
      "outputs": [
        {
          "output_type": "display_data",
          "data": {
            "image/png": "[encoded data removed]",
            "text/plain": [
              "<Figure size 360x360 with 1 Axes>"
            ]
          },
          "metadata": {
            "tags": []
          }
        }
      ]
    }
  ]
}